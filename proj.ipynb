{
 "cells": [
  {
   "cell_type": "code",
   "execution_count": 227,
   "id": "initial_id",
   "metadata": {
    "collapsed": true,
    "ExecuteTime": {
     "end_time": "2024-05-19T14:58:04.406739Z",
     "start_time": "2024-05-19T14:58:04.306496800Z"
    }
   },
   "outputs": [],
   "source": [
    "import numpy as np\n",
    "import pandas as pd\n"
   ]
  },
  {
   "cell_type": "code",
   "outputs": [
    {
     "data": {
      "text/plain": "       customernumber        date  salutation  title  domain datecreated  \\\n6486            17847  2008-06-17           1      0       4  2008-06-17   \n6487            51773  2008-11-27           0      0       9  2008-11-27   \n6488            33615  2008-10-21           1      0       4  2008-10-21   \n6489            56071  2008-12-17           0      0      12  2008-12-17   \n6490            15808  2008-09-24           1      0       1  2008-09-24   \n...               ...         ...         ...    ...     ...         ...   \n32424            7784  2008-10-21           1      0       8  2008-10-21   \n32425           41695  2008-11-09           1      0       4  2008-11-09   \n32426            7612  2008-04-12           2      0       9  2008-04-12   \n32427           31941  2008-11-15           0      0      12  2008-11-15   \n32428           58849  2008-07-28           1      0       5  2008-07-28   \n\n       newsletter  model  paymenttype  deliverytype  ...  w2 w3  w4 w5  w6  \\\n6486            0      1            3             0  ...   0  0   0  0   0   \n6487            0      3            1             1  ...   0  0   0  0   0   \n6488            0      1            0             0  ...   0  0   0  1   0   \n6489            0      1            0             0  ...   0  0   0  0   0   \n6490            0      3            0             0  ...   1  0   0  0   0   \n...           ...    ...          ...           ...  ...  .. ..  .. ..  ..   \n32424           0      1            2             0  ...   0  0   0  0   0   \n32425           0      1            3             0  ...   0  0   0  1   0   \n32426           0      3            0             0  ...   0  0   0  0   0   \n32427           0      1            0             0  ...   0  0   0  0   0   \n32428           0      2            2             0  ...   0  0   0  0   0   \n\n       w7  w8  w9  w10  target90  \n6486    0   0   4    0         0  \n6487    0   0   0    0         1  \n6488    0   0   0    0         1  \n6489    0   0   0    0         1  \n6490    0   0   0    0         0  \n...    ..  ..  ..  ...       ...  \n32424   0   0   0    0         0  \n32425   0   0   0    0         1  \n32426   0   0   0    0         0  \n32427   0   0   0    0         0  \n32428   0   0   0    0         0  \n\n[25943 rows x 38 columns]",
      "text/html": "<div>\n<style scoped>\n    .dataframe tbody tr th:only-of-type {\n        vertical-align: middle;\n    }\n\n    .dataframe tbody tr th {\n        vertical-align: top;\n    }\n\n    .dataframe thead th {\n        text-align: right;\n    }\n</style>\n<table border=\"1\" class=\"dataframe\">\n  <thead>\n    <tr style=\"text-align: right;\">\n      <th></th>\n      <th>customernumber</th>\n      <th>date</th>\n      <th>salutation</th>\n      <th>title</th>\n      <th>domain</th>\n      <th>datecreated</th>\n      <th>newsletter</th>\n      <th>model</th>\n      <th>paymenttype</th>\n      <th>deliverytype</th>\n      <th>...</th>\n      <th>w2</th>\n      <th>w3</th>\n      <th>w4</th>\n      <th>w5</th>\n      <th>w6</th>\n      <th>w7</th>\n      <th>w8</th>\n      <th>w9</th>\n      <th>w10</th>\n      <th>target90</th>\n    </tr>\n  </thead>\n  <tbody>\n    <tr>\n      <th>6486</th>\n      <td>17847</td>\n      <td>2008-06-17</td>\n      <td>1</td>\n      <td>0</td>\n      <td>4</td>\n      <td>2008-06-17</td>\n      <td>0</td>\n      <td>1</td>\n      <td>3</td>\n      <td>0</td>\n      <td>...</td>\n      <td>0</td>\n      <td>0</td>\n      <td>0</td>\n      <td>0</td>\n      <td>0</td>\n      <td>0</td>\n      <td>0</td>\n      <td>4</td>\n      <td>0</td>\n      <td>0</td>\n    </tr>\n    <tr>\n      <th>6487</th>\n      <td>51773</td>\n      <td>2008-11-27</td>\n      <td>0</td>\n      <td>0</td>\n      <td>9</td>\n      <td>2008-11-27</td>\n      <td>0</td>\n      <td>3</td>\n      <td>1</td>\n      <td>1</td>\n      <td>...</td>\n      <td>0</td>\n      <td>0</td>\n      <td>0</td>\n      <td>0</td>\n      <td>0</td>\n      <td>0</td>\n      <td>0</td>\n      <td>0</td>\n      <td>0</td>\n      <td>1</td>\n    </tr>\n    <tr>\n      <th>6488</th>\n      <td>33615</td>\n      <td>2008-10-21</td>\n      <td>1</td>\n      <td>0</td>\n      <td>4</td>\n      <td>2008-10-21</td>\n      <td>0</td>\n      <td>1</td>\n      <td>0</td>\n      <td>0</td>\n      <td>...</td>\n      <td>0</td>\n      <td>0</td>\n      <td>0</td>\n      <td>1</td>\n      <td>0</td>\n      <td>0</td>\n      <td>0</td>\n      <td>0</td>\n      <td>0</td>\n      <td>1</td>\n    </tr>\n    <tr>\n      <th>6489</th>\n      <td>56071</td>\n      <td>2008-12-17</td>\n      <td>0</td>\n      <td>0</td>\n      <td>12</td>\n      <td>2008-12-17</td>\n      <td>0</td>\n      <td>1</td>\n      <td>0</td>\n      <td>0</td>\n      <td>...</td>\n      <td>0</td>\n      <td>0</td>\n      <td>0</td>\n      <td>0</td>\n      <td>0</td>\n      <td>0</td>\n      <td>0</td>\n      <td>0</td>\n      <td>0</td>\n      <td>1</td>\n    </tr>\n    <tr>\n      <th>6490</th>\n      <td>15808</td>\n      <td>2008-09-24</td>\n      <td>1</td>\n      <td>0</td>\n      <td>1</td>\n      <td>2008-09-24</td>\n      <td>0</td>\n      <td>3</td>\n      <td>0</td>\n      <td>0</td>\n      <td>...</td>\n      <td>1</td>\n      <td>0</td>\n      <td>0</td>\n      <td>0</td>\n      <td>0</td>\n      <td>0</td>\n      <td>0</td>\n      <td>0</td>\n      <td>0</td>\n      <td>0</td>\n    </tr>\n    <tr>\n      <th>...</th>\n      <td>...</td>\n      <td>...</td>\n      <td>...</td>\n      <td>...</td>\n      <td>...</td>\n      <td>...</td>\n      <td>...</td>\n      <td>...</td>\n      <td>...</td>\n      <td>...</td>\n      <td>...</td>\n      <td>...</td>\n      <td>...</td>\n      <td>...</td>\n      <td>...</td>\n      <td>...</td>\n      <td>...</td>\n      <td>...</td>\n      <td>...</td>\n      <td>...</td>\n      <td>...</td>\n    </tr>\n    <tr>\n      <th>32424</th>\n      <td>7784</td>\n      <td>2008-10-21</td>\n      <td>1</td>\n      <td>0</td>\n      <td>8</td>\n      <td>2008-10-21</td>\n      <td>0</td>\n      <td>1</td>\n      <td>2</td>\n      <td>0</td>\n      <td>...</td>\n      <td>0</td>\n      <td>0</td>\n      <td>0</td>\n      <td>0</td>\n      <td>0</td>\n      <td>0</td>\n      <td>0</td>\n      <td>0</td>\n      <td>0</td>\n      <td>0</td>\n    </tr>\n    <tr>\n      <th>32425</th>\n      <td>41695</td>\n      <td>2008-11-09</td>\n      <td>1</td>\n      <td>0</td>\n      <td>4</td>\n      <td>2008-11-09</td>\n      <td>0</td>\n      <td>1</td>\n      <td>3</td>\n      <td>0</td>\n      <td>...</td>\n      <td>0</td>\n      <td>0</td>\n      <td>0</td>\n      <td>1</td>\n      <td>0</td>\n      <td>0</td>\n      <td>0</td>\n      <td>0</td>\n      <td>0</td>\n      <td>1</td>\n    </tr>\n    <tr>\n      <th>32426</th>\n      <td>7612</td>\n      <td>2008-04-12</td>\n      <td>2</td>\n      <td>0</td>\n      <td>9</td>\n      <td>2008-04-12</td>\n      <td>0</td>\n      <td>3</td>\n      <td>0</td>\n      <td>0</td>\n      <td>...</td>\n      <td>0</td>\n      <td>0</td>\n      <td>0</td>\n      <td>0</td>\n      <td>0</td>\n      <td>0</td>\n      <td>0</td>\n      <td>0</td>\n      <td>0</td>\n      <td>0</td>\n    </tr>\n    <tr>\n      <th>32427</th>\n      <td>31941</td>\n      <td>2008-11-15</td>\n      <td>0</td>\n      <td>0</td>\n      <td>12</td>\n      <td>2008-11-15</td>\n      <td>0</td>\n      <td>1</td>\n      <td>0</td>\n      <td>0</td>\n      <td>...</td>\n      <td>0</td>\n      <td>0</td>\n      <td>0</td>\n      <td>0</td>\n      <td>0</td>\n      <td>0</td>\n      <td>0</td>\n      <td>0</td>\n      <td>0</td>\n      <td>0</td>\n    </tr>\n    <tr>\n      <th>32428</th>\n      <td>58849</td>\n      <td>2008-07-28</td>\n      <td>1</td>\n      <td>0</td>\n      <td>5</td>\n      <td>2008-07-28</td>\n      <td>0</td>\n      <td>2</td>\n      <td>2</td>\n      <td>0</td>\n      <td>...</td>\n      <td>0</td>\n      <td>0</td>\n      <td>0</td>\n      <td>0</td>\n      <td>0</td>\n      <td>0</td>\n      <td>0</td>\n      <td>0</td>\n      <td>0</td>\n      <td>0</td>\n    </tr>\n  </tbody>\n</table>\n<p>25943 rows × 38 columns</p>\n</div>"
     },
     "execution_count": 228,
     "metadata": {},
     "output_type": "execute_result"
    }
   ],
   "source": [
    "df = pd.read_csv('Variant5_train.csv', index_col='Unnamed: 0')\n",
    "val_df = pd.read_csv('Variant5_test.csv', index_col='Unnamed: 0')\n",
    "df"
   ],
   "metadata": {
    "collapsed": false,
    "ExecuteTime": {
     "end_time": "2024-05-19T14:58:04.551477Z",
     "start_time": "2024-05-19T14:58:04.375821300Z"
    }
   },
   "id": "69734596b8e2e2f",
   "execution_count": 228
  },
  {
   "cell_type": "code",
   "outputs": [
    {
     "data": {
      "text/plain": "      customernumber        date  salutation  title  domain datecreated  \\\n1              41191  2008-12-01           0      0       9  2008-12-01   \n2              38860  2008-12-16           1      0       4  2008-12-16   \n3              61917  2008-08-19           0      0      12  2008-08-19   \n4              40647  2008-06-16           1      0       8  2008-06-16   \n5               1347  2008-08-08           0      0       1  2008-08-08   \n...              ...         ...         ...    ...     ...         ...   \n6482           26695  2008-11-03           0      0       4  2008-11-03   \n6483           61792  2008-12-11           1      0      12  2008-12-11   \n6484           15980  2008-10-08           0      0       4  2008-10-08   \n6485           36989  2008-11-20           1      0       8  2008-11-20   \n6486           17847  2008-06-17           1      0       4  2008-06-17   \n\n      newsletter  model  paymenttype  deliverytype  ...  w1  w2  w3 w4  w5  \\\n1              0      2            2             0  ...   1   0   0  0   0   \n2              0      1            1             1  ...   0   0   0  0   0   \n3              0      1            0             0  ...   0   0   0  0   0   \n4              0      1            0             0  ...   0   0   0  0   2   \n5              0      1            1             1  ...   0   2   0  0   0   \n...          ...    ...          ...           ...  ...  ..  ..  .. ..  ..   \n6482           0      2            0             0  ...   0   0   0  0   0   \n6483           1      1            3             0  ...   0   0   0  3   0   \n6484           0      1            0             0  ...   0   0   0  0   0   \n6485           0      1            0             0  ...   1   0   0  0   0   \n6486           0      1            3             0  ...   0   0   0  0   0   \n\n      w6  w7  w8  w9  w10  \n1      0   0   0   0    0  \n2      0   0   0   0    0  \n3      0   0   0   1    0  \n4      0   0   0   0    0  \n5      0   0   0   0    0  \n...   ..  ..  ..  ..  ...  \n6482   0   0   0   0    0  \n6483   0   0   0   0    0  \n6484   0   0   0   0    0  \n6485   0   0   0   0    0  \n6486   0   0   0   4    0  \n\n[6486 rows x 37 columns]",
      "text/html": "<div>\n<style scoped>\n    .dataframe tbody tr th:only-of-type {\n        vertical-align: middle;\n    }\n\n    .dataframe tbody tr th {\n        vertical-align: top;\n    }\n\n    .dataframe thead th {\n        text-align: right;\n    }\n</style>\n<table border=\"1\" class=\"dataframe\">\n  <thead>\n    <tr style=\"text-align: right;\">\n      <th></th>\n      <th>customernumber</th>\n      <th>date</th>\n      <th>salutation</th>\n      <th>title</th>\n      <th>domain</th>\n      <th>datecreated</th>\n      <th>newsletter</th>\n      <th>model</th>\n      <th>paymenttype</th>\n      <th>deliverytype</th>\n      <th>...</th>\n      <th>w1</th>\n      <th>w2</th>\n      <th>w3</th>\n      <th>w4</th>\n      <th>w5</th>\n      <th>w6</th>\n      <th>w7</th>\n      <th>w8</th>\n      <th>w9</th>\n      <th>w10</th>\n    </tr>\n  </thead>\n  <tbody>\n    <tr>\n      <th>1</th>\n      <td>41191</td>\n      <td>2008-12-01</td>\n      <td>0</td>\n      <td>0</td>\n      <td>9</td>\n      <td>2008-12-01</td>\n      <td>0</td>\n      <td>2</td>\n      <td>2</td>\n      <td>0</td>\n      <td>...</td>\n      <td>1</td>\n      <td>0</td>\n      <td>0</td>\n      <td>0</td>\n      <td>0</td>\n      <td>0</td>\n      <td>0</td>\n      <td>0</td>\n      <td>0</td>\n      <td>0</td>\n    </tr>\n    <tr>\n      <th>2</th>\n      <td>38860</td>\n      <td>2008-12-16</td>\n      <td>1</td>\n      <td>0</td>\n      <td>4</td>\n      <td>2008-12-16</td>\n      <td>0</td>\n      <td>1</td>\n      <td>1</td>\n      <td>1</td>\n      <td>...</td>\n      <td>0</td>\n      <td>0</td>\n      <td>0</td>\n      <td>0</td>\n      <td>0</td>\n      <td>0</td>\n      <td>0</td>\n      <td>0</td>\n      <td>0</td>\n      <td>0</td>\n    </tr>\n    <tr>\n      <th>3</th>\n      <td>61917</td>\n      <td>2008-08-19</td>\n      <td>0</td>\n      <td>0</td>\n      <td>12</td>\n      <td>2008-08-19</td>\n      <td>0</td>\n      <td>1</td>\n      <td>0</td>\n      <td>0</td>\n      <td>...</td>\n      <td>0</td>\n      <td>0</td>\n      <td>0</td>\n      <td>0</td>\n      <td>0</td>\n      <td>0</td>\n      <td>0</td>\n      <td>0</td>\n      <td>1</td>\n      <td>0</td>\n    </tr>\n    <tr>\n      <th>4</th>\n      <td>40647</td>\n      <td>2008-06-16</td>\n      <td>1</td>\n      <td>0</td>\n      <td>8</td>\n      <td>2008-06-16</td>\n      <td>0</td>\n      <td>1</td>\n      <td>0</td>\n      <td>0</td>\n      <td>...</td>\n      <td>0</td>\n      <td>0</td>\n      <td>0</td>\n      <td>0</td>\n      <td>2</td>\n      <td>0</td>\n      <td>0</td>\n      <td>0</td>\n      <td>0</td>\n      <td>0</td>\n    </tr>\n    <tr>\n      <th>5</th>\n      <td>1347</td>\n      <td>2008-08-08</td>\n      <td>0</td>\n      <td>0</td>\n      <td>1</td>\n      <td>2008-08-08</td>\n      <td>0</td>\n      <td>1</td>\n      <td>1</td>\n      <td>1</td>\n      <td>...</td>\n      <td>0</td>\n      <td>2</td>\n      <td>0</td>\n      <td>0</td>\n      <td>0</td>\n      <td>0</td>\n      <td>0</td>\n      <td>0</td>\n      <td>0</td>\n      <td>0</td>\n    </tr>\n    <tr>\n      <th>...</th>\n      <td>...</td>\n      <td>...</td>\n      <td>...</td>\n      <td>...</td>\n      <td>...</td>\n      <td>...</td>\n      <td>...</td>\n      <td>...</td>\n      <td>...</td>\n      <td>...</td>\n      <td>...</td>\n      <td>...</td>\n      <td>...</td>\n      <td>...</td>\n      <td>...</td>\n      <td>...</td>\n      <td>...</td>\n      <td>...</td>\n      <td>...</td>\n      <td>...</td>\n      <td>...</td>\n    </tr>\n    <tr>\n      <th>6482</th>\n      <td>26695</td>\n      <td>2008-11-03</td>\n      <td>0</td>\n      <td>0</td>\n      <td>4</td>\n      <td>2008-11-03</td>\n      <td>0</td>\n      <td>2</td>\n      <td>0</td>\n      <td>0</td>\n      <td>...</td>\n      <td>0</td>\n      <td>0</td>\n      <td>0</td>\n      <td>0</td>\n      <td>0</td>\n      <td>0</td>\n      <td>0</td>\n      <td>0</td>\n      <td>0</td>\n      <td>0</td>\n    </tr>\n    <tr>\n      <th>6483</th>\n      <td>61792</td>\n      <td>2008-12-11</td>\n      <td>1</td>\n      <td>0</td>\n      <td>12</td>\n      <td>2008-12-11</td>\n      <td>1</td>\n      <td>1</td>\n      <td>3</td>\n      <td>0</td>\n      <td>...</td>\n      <td>0</td>\n      <td>0</td>\n      <td>0</td>\n      <td>3</td>\n      <td>0</td>\n      <td>0</td>\n      <td>0</td>\n      <td>0</td>\n      <td>0</td>\n      <td>0</td>\n    </tr>\n    <tr>\n      <th>6484</th>\n      <td>15980</td>\n      <td>2008-10-08</td>\n      <td>0</td>\n      <td>0</td>\n      <td>4</td>\n      <td>2008-10-08</td>\n      <td>0</td>\n      <td>1</td>\n      <td>0</td>\n      <td>0</td>\n      <td>...</td>\n      <td>0</td>\n      <td>0</td>\n      <td>0</td>\n      <td>0</td>\n      <td>0</td>\n      <td>0</td>\n      <td>0</td>\n      <td>0</td>\n      <td>0</td>\n      <td>0</td>\n    </tr>\n    <tr>\n      <th>6485</th>\n      <td>36989</td>\n      <td>2008-11-20</td>\n      <td>1</td>\n      <td>0</td>\n      <td>8</td>\n      <td>2008-11-20</td>\n      <td>0</td>\n      <td>1</td>\n      <td>0</td>\n      <td>0</td>\n      <td>...</td>\n      <td>1</td>\n      <td>0</td>\n      <td>0</td>\n      <td>0</td>\n      <td>0</td>\n      <td>0</td>\n      <td>0</td>\n      <td>0</td>\n      <td>0</td>\n      <td>0</td>\n    </tr>\n    <tr>\n      <th>6486</th>\n      <td>17847</td>\n      <td>2008-06-17</td>\n      <td>1</td>\n      <td>0</td>\n      <td>4</td>\n      <td>2008-06-17</td>\n      <td>0</td>\n      <td>1</td>\n      <td>3</td>\n      <td>0</td>\n      <td>...</td>\n      <td>0</td>\n      <td>0</td>\n      <td>0</td>\n      <td>0</td>\n      <td>0</td>\n      <td>0</td>\n      <td>0</td>\n      <td>0</td>\n      <td>4</td>\n      <td>0</td>\n    </tr>\n  </tbody>\n</table>\n<p>6486 rows × 37 columns</p>\n</div>"
     },
     "execution_count": 229,
     "metadata": {},
     "output_type": "execute_result"
    }
   ],
   "source": [
    "val_df"
   ],
   "metadata": {
    "collapsed": false,
    "ExecuteTime": {
     "end_time": "2024-05-19T14:58:04.582395400Z",
     "start_time": "2024-05-19T14:58:04.477748200Z"
    }
   },
   "id": "8b35850702b43cbc",
   "execution_count": 229
  },
  {
   "cell_type": "code",
   "outputs": [
    {
     "data": {
      "text/plain": "target90\n0    21058\n1     4885\nName: count, dtype: int64"
     },
     "execution_count": 230,
     "metadata": {},
     "output_type": "execute_result"
    }
   ],
   "source": [
    "df['target90'].value_counts()"
   ],
   "metadata": {
    "collapsed": false,
    "ExecuteTime": {
     "end_time": "2024-05-19T14:58:04.682024800Z",
     "start_time": "2024-05-19T14:58:04.512491800Z"
    }
   },
   "id": "80afe10f73a78d28",
   "execution_count": 230
  },
  {
   "cell_type": "code",
   "outputs": [
    {
     "data": {
      "text/plain": "       customernumber       date  salutation  title  domain datecreated  \\\n6486            17847 2008-06-17           1      0       4  2008-06-17   \n6487            51773 2008-11-27           0      0       9  2008-11-27   \n6488            33615 2008-10-21           1      0       4  2008-10-21   \n6489            56071 2008-12-17           0      0      12  2008-12-17   \n6490            15808 2008-09-24           1      0       1  2008-09-24   \n...               ...        ...         ...    ...     ...         ...   \n32424            7784 2008-10-21           1      0       8  2008-10-21   \n32425           41695 2008-11-09           1      0       4  2008-11-09   \n32426            7612 2008-04-12           2      0       9  2008-04-12   \n32427           31941 2008-11-15           0      0      12  2008-11-15   \n32428           58849 2008-07-28           1      0       5  2008-07-28   \n\n       newsletter  model  paymenttype  deliverytype  ...  w2 w3  w4 w5  w6  \\\n6486            0      1            3             0  ...   0  0   0  0   0   \n6487            0      3            1             1  ...   0  0   0  0   0   \n6488            0      1            0             0  ...   0  0   0  1   0   \n6489            0      1            0             0  ...   0  0   0  0   0   \n6490            0      3            0             0  ...   1  0   0  0   0   \n...           ...    ...          ...           ...  ...  .. ..  .. ..  ..   \n32424           0      1            2             0  ...   0  0   0  0   0   \n32425           0      1            3             0  ...   0  0   0  1   0   \n32426           0      3            0             0  ...   0  0   0  0   0   \n32427           0      1            0             0  ...   0  0   0  0   0   \n32428           0      2            2             0  ...   0  0   0  0   0   \n\n       w7  w8  w9  w10  target90  \n6486    0   0   4    0         0  \n6487    0   0   0    0         1  \n6488    0   0   0    0         1  \n6489    0   0   0    0         1  \n6490    0   0   0    0         0  \n...    ..  ..  ..  ...       ...  \n32424   0   0   0    0         0  \n32425   0   0   0    0         1  \n32426   0   0   0    0         0  \n32427   0   0   0    0         0  \n32428   0   0   0    0         0  \n\n[25943 rows x 38 columns]",
      "text/html": "<div>\n<style scoped>\n    .dataframe tbody tr th:only-of-type {\n        vertical-align: middle;\n    }\n\n    .dataframe tbody tr th {\n        vertical-align: top;\n    }\n\n    .dataframe thead th {\n        text-align: right;\n    }\n</style>\n<table border=\"1\" class=\"dataframe\">\n  <thead>\n    <tr style=\"text-align: right;\">\n      <th></th>\n      <th>customernumber</th>\n      <th>date</th>\n      <th>salutation</th>\n      <th>title</th>\n      <th>domain</th>\n      <th>datecreated</th>\n      <th>newsletter</th>\n      <th>model</th>\n      <th>paymenttype</th>\n      <th>deliverytype</th>\n      <th>...</th>\n      <th>w2</th>\n      <th>w3</th>\n      <th>w4</th>\n      <th>w5</th>\n      <th>w6</th>\n      <th>w7</th>\n      <th>w8</th>\n      <th>w9</th>\n      <th>w10</th>\n      <th>target90</th>\n    </tr>\n  </thead>\n  <tbody>\n    <tr>\n      <th>6486</th>\n      <td>17847</td>\n      <td>2008-06-17</td>\n      <td>1</td>\n      <td>0</td>\n      <td>4</td>\n      <td>2008-06-17</td>\n      <td>0</td>\n      <td>1</td>\n      <td>3</td>\n      <td>0</td>\n      <td>...</td>\n      <td>0</td>\n      <td>0</td>\n      <td>0</td>\n      <td>0</td>\n      <td>0</td>\n      <td>0</td>\n      <td>0</td>\n      <td>4</td>\n      <td>0</td>\n      <td>0</td>\n    </tr>\n    <tr>\n      <th>6487</th>\n      <td>51773</td>\n      <td>2008-11-27</td>\n      <td>0</td>\n      <td>0</td>\n      <td>9</td>\n      <td>2008-11-27</td>\n      <td>0</td>\n      <td>3</td>\n      <td>1</td>\n      <td>1</td>\n      <td>...</td>\n      <td>0</td>\n      <td>0</td>\n      <td>0</td>\n      <td>0</td>\n      <td>0</td>\n      <td>0</td>\n      <td>0</td>\n      <td>0</td>\n      <td>0</td>\n      <td>1</td>\n    </tr>\n    <tr>\n      <th>6488</th>\n      <td>33615</td>\n      <td>2008-10-21</td>\n      <td>1</td>\n      <td>0</td>\n      <td>4</td>\n      <td>2008-10-21</td>\n      <td>0</td>\n      <td>1</td>\n      <td>0</td>\n      <td>0</td>\n      <td>...</td>\n      <td>0</td>\n      <td>0</td>\n      <td>0</td>\n      <td>1</td>\n      <td>0</td>\n      <td>0</td>\n      <td>0</td>\n      <td>0</td>\n      <td>0</td>\n      <td>1</td>\n    </tr>\n    <tr>\n      <th>6489</th>\n      <td>56071</td>\n      <td>2008-12-17</td>\n      <td>0</td>\n      <td>0</td>\n      <td>12</td>\n      <td>2008-12-17</td>\n      <td>0</td>\n      <td>1</td>\n      <td>0</td>\n      <td>0</td>\n      <td>...</td>\n      <td>0</td>\n      <td>0</td>\n      <td>0</td>\n      <td>0</td>\n      <td>0</td>\n      <td>0</td>\n      <td>0</td>\n      <td>0</td>\n      <td>0</td>\n      <td>1</td>\n    </tr>\n    <tr>\n      <th>6490</th>\n      <td>15808</td>\n      <td>2008-09-24</td>\n      <td>1</td>\n      <td>0</td>\n      <td>1</td>\n      <td>2008-09-24</td>\n      <td>0</td>\n      <td>3</td>\n      <td>0</td>\n      <td>0</td>\n      <td>...</td>\n      <td>1</td>\n      <td>0</td>\n      <td>0</td>\n      <td>0</td>\n      <td>0</td>\n      <td>0</td>\n      <td>0</td>\n      <td>0</td>\n      <td>0</td>\n      <td>0</td>\n    </tr>\n    <tr>\n      <th>...</th>\n      <td>...</td>\n      <td>...</td>\n      <td>...</td>\n      <td>...</td>\n      <td>...</td>\n      <td>...</td>\n      <td>...</td>\n      <td>...</td>\n      <td>...</td>\n      <td>...</td>\n      <td>...</td>\n      <td>...</td>\n      <td>...</td>\n      <td>...</td>\n      <td>...</td>\n      <td>...</td>\n      <td>...</td>\n      <td>...</td>\n      <td>...</td>\n      <td>...</td>\n      <td>...</td>\n    </tr>\n    <tr>\n      <th>32424</th>\n      <td>7784</td>\n      <td>2008-10-21</td>\n      <td>1</td>\n      <td>0</td>\n      <td>8</td>\n      <td>2008-10-21</td>\n      <td>0</td>\n      <td>1</td>\n      <td>2</td>\n      <td>0</td>\n      <td>...</td>\n      <td>0</td>\n      <td>0</td>\n      <td>0</td>\n      <td>0</td>\n      <td>0</td>\n      <td>0</td>\n      <td>0</td>\n      <td>0</td>\n      <td>0</td>\n      <td>0</td>\n    </tr>\n    <tr>\n      <th>32425</th>\n      <td>41695</td>\n      <td>2008-11-09</td>\n      <td>1</td>\n      <td>0</td>\n      <td>4</td>\n      <td>2008-11-09</td>\n      <td>0</td>\n      <td>1</td>\n      <td>3</td>\n      <td>0</td>\n      <td>...</td>\n      <td>0</td>\n      <td>0</td>\n      <td>0</td>\n      <td>1</td>\n      <td>0</td>\n      <td>0</td>\n      <td>0</td>\n      <td>0</td>\n      <td>0</td>\n      <td>1</td>\n    </tr>\n    <tr>\n      <th>32426</th>\n      <td>7612</td>\n      <td>2008-04-12</td>\n      <td>2</td>\n      <td>0</td>\n      <td>9</td>\n      <td>2008-04-12</td>\n      <td>0</td>\n      <td>3</td>\n      <td>0</td>\n      <td>0</td>\n      <td>...</td>\n      <td>0</td>\n      <td>0</td>\n      <td>0</td>\n      <td>0</td>\n      <td>0</td>\n      <td>0</td>\n      <td>0</td>\n      <td>0</td>\n      <td>0</td>\n      <td>0</td>\n    </tr>\n    <tr>\n      <th>32427</th>\n      <td>31941</td>\n      <td>2008-11-15</td>\n      <td>0</td>\n      <td>0</td>\n      <td>12</td>\n      <td>2008-11-15</td>\n      <td>0</td>\n      <td>1</td>\n      <td>0</td>\n      <td>0</td>\n      <td>...</td>\n      <td>0</td>\n      <td>0</td>\n      <td>0</td>\n      <td>0</td>\n      <td>0</td>\n      <td>0</td>\n      <td>0</td>\n      <td>0</td>\n      <td>0</td>\n      <td>0</td>\n    </tr>\n    <tr>\n      <th>32428</th>\n      <td>58849</td>\n      <td>2008-07-28</td>\n      <td>1</td>\n      <td>0</td>\n      <td>5</td>\n      <td>2008-07-28</td>\n      <td>0</td>\n      <td>2</td>\n      <td>2</td>\n      <td>0</td>\n      <td>...</td>\n      <td>0</td>\n      <td>0</td>\n      <td>0</td>\n      <td>0</td>\n      <td>0</td>\n      <td>0</td>\n      <td>0</td>\n      <td>0</td>\n      <td>0</td>\n      <td>0</td>\n    </tr>\n  </tbody>\n</table>\n<p>25943 rows × 38 columns</p>\n</div>"
     },
     "execution_count": 231,
     "metadata": {},
     "output_type": "execute_result"
    }
   ],
   "source": [
    "df['date'] = pd.to_datetime(df['date'])\n",
    "val_df['date'] = pd.to_datetime(val_df['date'])\n",
    "df"
   ],
   "metadata": {
    "collapsed": false,
    "ExecuteTime": {
     "end_time": "2024-05-19T14:58:04.863413700Z",
     "start_time": "2024-05-19T14:58:04.648889100Z"
    }
   },
   "id": "a27ebb77adee34ed",
   "execution_count": 231
  },
  {
   "cell_type": "code",
   "outputs": [],
   "source": [
    "def get_deliv_date_delta(row):\n",
    "    try:\n",
    "        delta = (pd.to_datetime(row['deliverydatereal']) - pd.to_datetime(\n",
    "            row['datecreated'])).days\n",
    "    except:\n",
    "        delta = None\n",
    "    return delta\n",
    "\n",
    "\n",
    "def get_deliv_prom_real_delta(row):\n",
    "    try:\n",
    "        delta = (pd.to_datetime(row['deliverydatereal']) - pd.to_datetime(\n",
    "            row['deliverydatepromised'])).days\n",
    "    except:\n",
    "        delta = None\n",
    "    return delta\n",
    "\n",
    "\n",
    "def get_month_created(date):\n",
    "    try:\n",
    "        month = pd.to_datetime(date).month_name()\n",
    "    except:\n",
    "        month = None\n",
    "    return month"
   ],
   "metadata": {
    "collapsed": false,
    "ExecuteTime": {
     "end_time": "2024-05-19T14:58:04.956800700Z",
     "start_time": "2024-05-19T14:58:04.790606200Z"
    }
   },
   "id": "f08b427d2c39b578",
   "execution_count": 232
  },
  {
   "cell_type": "code",
   "outputs": [
    {
     "data": {
      "text/plain": "       customernumber       date  salutation  title  domain datecreated  \\\n6486            17847 2008-06-17           1      0       4  2008-06-17   \n6487            51773 2008-11-27           0      0       9  2008-11-27   \n6488            33615 2008-10-21           1      0       4  2008-10-21   \n6489            56071 2008-12-17           0      0      12  2008-12-17   \n6490            15808 2008-09-24           1      0       1  2008-09-24   \n...               ...        ...         ...    ...     ...         ...   \n32424            7784 2008-10-21           1      0       8  2008-10-21   \n32425           41695 2008-11-09           1      0       4  2008-11-09   \n32426            7612 2008-04-12           2      0       9  2008-04-12   \n32427           31941 2008-11-15           0      0      12  2008-11-15   \n32428           58849 2008-07-28           1      0       5  2008-07-28   \n\n       newsletter  model  paymenttype  deliverytype  ...  w5 w6  w7 w8  w9  \\\n6486            0      1            3             0  ...   0  0   0  0   4   \n6487            0      3            1             1  ...   0  0   0  0   0   \n6488            0      1            0             0  ...   1  0   0  0   0   \n6489            0      1            0             0  ...   0  0   0  0   0   \n6490            0      3            0             0  ...   0  0   0  0   0   \n...           ...    ...          ...           ...  ...  .. ..  .. ..  ..   \n32424           0      1            2             0  ...   0  0   0  0   0   \n32425           0      1            3             0  ...   1  0   0  0   0   \n32426           0      3            0             0  ...   0  0   0  0   0   \n32427           0      1            0             0  ...   0  0   0  0   0   \n32428           0      2            2             0  ...   0  0   0  0   0   \n\n       w10  target90  delivery_creation_delta  delivery_prom_real_delta  \\\n6486     0         0                     18.0                       4.0   \n6487     0         1                      1.0                       0.0   \n6488     0         1                      NaN                       NaN   \n6489     0         1                      1.0                      -1.0   \n6490     0         0                     52.0                      38.0   \n...    ...       ...                      ...                       ...   \n32424    0         0                      1.0                       0.0   \n32425    0         1                      NaN                       NaN   \n32426    0         0                      2.0                      -1.0   \n32427    0         0                      2.0                      -1.0   \n32428    0         0                     15.0                       0.0   \n\n       creation_month  \n6486             June  \n6487         November  \n6488          October  \n6489         December  \n6490        September  \n...               ...  \n32424         October  \n32425        November  \n32426           April  \n32427        November  \n32428            July  \n\n[25943 rows x 41 columns]",
      "text/html": "<div>\n<style scoped>\n    .dataframe tbody tr th:only-of-type {\n        vertical-align: middle;\n    }\n\n    .dataframe tbody tr th {\n        vertical-align: top;\n    }\n\n    .dataframe thead th {\n        text-align: right;\n    }\n</style>\n<table border=\"1\" class=\"dataframe\">\n  <thead>\n    <tr style=\"text-align: right;\">\n      <th></th>\n      <th>customernumber</th>\n      <th>date</th>\n      <th>salutation</th>\n      <th>title</th>\n      <th>domain</th>\n      <th>datecreated</th>\n      <th>newsletter</th>\n      <th>model</th>\n      <th>paymenttype</th>\n      <th>deliverytype</th>\n      <th>...</th>\n      <th>w5</th>\n      <th>w6</th>\n      <th>w7</th>\n      <th>w8</th>\n      <th>w9</th>\n      <th>w10</th>\n      <th>target90</th>\n      <th>delivery_creation_delta</th>\n      <th>delivery_prom_real_delta</th>\n      <th>creation_month</th>\n    </tr>\n  </thead>\n  <tbody>\n    <tr>\n      <th>6486</th>\n      <td>17847</td>\n      <td>2008-06-17</td>\n      <td>1</td>\n      <td>0</td>\n      <td>4</td>\n      <td>2008-06-17</td>\n      <td>0</td>\n      <td>1</td>\n      <td>3</td>\n      <td>0</td>\n      <td>...</td>\n      <td>0</td>\n      <td>0</td>\n      <td>0</td>\n      <td>0</td>\n      <td>4</td>\n      <td>0</td>\n      <td>0</td>\n      <td>18.0</td>\n      <td>4.0</td>\n      <td>June</td>\n    </tr>\n    <tr>\n      <th>6487</th>\n      <td>51773</td>\n      <td>2008-11-27</td>\n      <td>0</td>\n      <td>0</td>\n      <td>9</td>\n      <td>2008-11-27</td>\n      <td>0</td>\n      <td>3</td>\n      <td>1</td>\n      <td>1</td>\n      <td>...</td>\n      <td>0</td>\n      <td>0</td>\n      <td>0</td>\n      <td>0</td>\n      <td>0</td>\n      <td>0</td>\n      <td>1</td>\n      <td>1.0</td>\n      <td>0.0</td>\n      <td>November</td>\n    </tr>\n    <tr>\n      <th>6488</th>\n      <td>33615</td>\n      <td>2008-10-21</td>\n      <td>1</td>\n      <td>0</td>\n      <td>4</td>\n      <td>2008-10-21</td>\n      <td>0</td>\n      <td>1</td>\n      <td>0</td>\n      <td>0</td>\n      <td>...</td>\n      <td>1</td>\n      <td>0</td>\n      <td>0</td>\n      <td>0</td>\n      <td>0</td>\n      <td>0</td>\n      <td>1</td>\n      <td>NaN</td>\n      <td>NaN</td>\n      <td>October</td>\n    </tr>\n    <tr>\n      <th>6489</th>\n      <td>56071</td>\n      <td>2008-12-17</td>\n      <td>0</td>\n      <td>0</td>\n      <td>12</td>\n      <td>2008-12-17</td>\n      <td>0</td>\n      <td>1</td>\n      <td>0</td>\n      <td>0</td>\n      <td>...</td>\n      <td>0</td>\n      <td>0</td>\n      <td>0</td>\n      <td>0</td>\n      <td>0</td>\n      <td>0</td>\n      <td>1</td>\n      <td>1.0</td>\n      <td>-1.0</td>\n      <td>December</td>\n    </tr>\n    <tr>\n      <th>6490</th>\n      <td>15808</td>\n      <td>2008-09-24</td>\n      <td>1</td>\n      <td>0</td>\n      <td>1</td>\n      <td>2008-09-24</td>\n      <td>0</td>\n      <td>3</td>\n      <td>0</td>\n      <td>0</td>\n      <td>...</td>\n      <td>0</td>\n      <td>0</td>\n      <td>0</td>\n      <td>0</td>\n      <td>0</td>\n      <td>0</td>\n      <td>0</td>\n      <td>52.0</td>\n      <td>38.0</td>\n      <td>September</td>\n    </tr>\n    <tr>\n      <th>...</th>\n      <td>...</td>\n      <td>...</td>\n      <td>...</td>\n      <td>...</td>\n      <td>...</td>\n      <td>...</td>\n      <td>...</td>\n      <td>...</td>\n      <td>...</td>\n      <td>...</td>\n      <td>...</td>\n      <td>...</td>\n      <td>...</td>\n      <td>...</td>\n      <td>...</td>\n      <td>...</td>\n      <td>...</td>\n      <td>...</td>\n      <td>...</td>\n      <td>...</td>\n      <td>...</td>\n    </tr>\n    <tr>\n      <th>32424</th>\n      <td>7784</td>\n      <td>2008-10-21</td>\n      <td>1</td>\n      <td>0</td>\n      <td>8</td>\n      <td>2008-10-21</td>\n      <td>0</td>\n      <td>1</td>\n      <td>2</td>\n      <td>0</td>\n      <td>...</td>\n      <td>0</td>\n      <td>0</td>\n      <td>0</td>\n      <td>0</td>\n      <td>0</td>\n      <td>0</td>\n      <td>0</td>\n      <td>1.0</td>\n      <td>0.0</td>\n      <td>October</td>\n    </tr>\n    <tr>\n      <th>32425</th>\n      <td>41695</td>\n      <td>2008-11-09</td>\n      <td>1</td>\n      <td>0</td>\n      <td>4</td>\n      <td>2008-11-09</td>\n      <td>0</td>\n      <td>1</td>\n      <td>3</td>\n      <td>0</td>\n      <td>...</td>\n      <td>1</td>\n      <td>0</td>\n      <td>0</td>\n      <td>0</td>\n      <td>0</td>\n      <td>0</td>\n      <td>1</td>\n      <td>NaN</td>\n      <td>NaN</td>\n      <td>November</td>\n    </tr>\n    <tr>\n      <th>32426</th>\n      <td>7612</td>\n      <td>2008-04-12</td>\n      <td>2</td>\n      <td>0</td>\n      <td>9</td>\n      <td>2008-04-12</td>\n      <td>0</td>\n      <td>3</td>\n      <td>0</td>\n      <td>0</td>\n      <td>...</td>\n      <td>0</td>\n      <td>0</td>\n      <td>0</td>\n      <td>0</td>\n      <td>0</td>\n      <td>0</td>\n      <td>0</td>\n      <td>2.0</td>\n      <td>-1.0</td>\n      <td>April</td>\n    </tr>\n    <tr>\n      <th>32427</th>\n      <td>31941</td>\n      <td>2008-11-15</td>\n      <td>0</td>\n      <td>0</td>\n      <td>12</td>\n      <td>2008-11-15</td>\n      <td>0</td>\n      <td>1</td>\n      <td>0</td>\n      <td>0</td>\n      <td>...</td>\n      <td>0</td>\n      <td>0</td>\n      <td>0</td>\n      <td>0</td>\n      <td>0</td>\n      <td>0</td>\n      <td>0</td>\n      <td>2.0</td>\n      <td>-1.0</td>\n      <td>November</td>\n    </tr>\n    <tr>\n      <th>32428</th>\n      <td>58849</td>\n      <td>2008-07-28</td>\n      <td>1</td>\n      <td>0</td>\n      <td>5</td>\n      <td>2008-07-28</td>\n      <td>0</td>\n      <td>2</td>\n      <td>2</td>\n      <td>0</td>\n      <td>...</td>\n      <td>0</td>\n      <td>0</td>\n      <td>0</td>\n      <td>0</td>\n      <td>0</td>\n      <td>0</td>\n      <td>0</td>\n      <td>15.0</td>\n      <td>0.0</td>\n      <td>July</td>\n    </tr>\n  </tbody>\n</table>\n<p>25943 rows × 41 columns</p>\n</div>"
     },
     "execution_count": 233,
     "metadata": {},
     "output_type": "execute_result"
    }
   ],
   "source": [
    "df['delivery_creation_delta'] = df.apply(lambda x: get_deliv_date_delta(x),\n",
    "                                         axis=1)\n",
    "df['delivery_prom_real_delta'] = df.apply(\n",
    "    lambda x: get_deliv_prom_real_delta(x),\n",
    "    axis=1)\n",
    "df['creation_month'] = df['datecreated'].apply(get_month_created)\n",
    "df"
   ],
   "metadata": {
    "collapsed": false,
    "ExecuteTime": {
     "end_time": "2024-05-19T14:58:43.393701700Z",
     "start_time": "2024-05-19T14:58:04.959768900Z"
    }
   },
   "id": "27c88ee4ada7cfc6",
   "execution_count": 233
  },
  {
   "cell_type": "code",
   "outputs": [
    {
     "data": {
      "text/plain": "      customernumber       date  salutation  title  domain datecreated  \\\n1              41191 2008-12-01           0      0       9  2008-12-01   \n2              38860 2008-12-16           1      0       4  2008-12-16   \n3              61917 2008-08-19           0      0      12  2008-08-19   \n4              40647 2008-06-16           1      0       8  2008-06-16   \n5               1347 2008-08-08           0      0       1  2008-08-08   \n...              ...        ...         ...    ...     ...         ...   \n6482           26695 2008-11-03           0      0       4  2008-11-03   \n6483           61792 2008-12-11           1      0      12  2008-12-11   \n6484           15980 2008-10-08           0      0       4  2008-10-08   \n6485           36989 2008-11-20           1      0       8  2008-11-20   \n6486           17847 2008-06-17           1      0       4  2008-06-17   \n\n      newsletter  model  paymenttype  deliverytype  ...  w4  w5  w6 w7  w8  \\\n1              0      2            2             0  ...   0   0   0  0   0   \n2              0      1            1             1  ...   0   0   0  0   0   \n3              0      1            0             0  ...   0   0   0  0   0   \n4              0      1            0             0  ...   0   2   0  0   0   \n5              0      1            1             1  ...   0   0   0  0   0   \n...          ...    ...          ...           ...  ...  ..  ..  .. ..  ..   \n6482           0      2            0             0  ...   0   0   0  0   0   \n6483           1      1            3             0  ...   3   0   0  0   0   \n6484           0      1            0             0  ...   0   0   0  0   0   \n6485           0      1            0             0  ...   0   0   0  0   0   \n6486           0      1            3             0  ...   0   0   0  0   0   \n\n      w9  w10  delivery_creation_delta  delivery_prom_real_delta  \\\n1      0    0                      1.0                      -1.0   \n2      0    0                     49.0                      35.0   \n3      1    0                      9.0                      -5.0   \n4      0    0                      NaN                       NaN   \n5      0    0                      0.0                      -3.0   \n...   ..  ...                      ...                       ...   \n6482   0    0                      1.0                      -1.0   \n6483   0    0                      0.0                      -1.0   \n6484   0    0                     14.0                       1.0   \n6485   0    0                     28.0                    -341.0   \n6486   4    0                     18.0                       4.0   \n\n      creation_month  \n1           December  \n2           December  \n3             August  \n4               June  \n5             August  \n...              ...  \n6482        November  \n6483        December  \n6484         October  \n6485        November  \n6486            June  \n\n[6486 rows x 40 columns]",
      "text/html": "<div>\n<style scoped>\n    .dataframe tbody tr th:only-of-type {\n        vertical-align: middle;\n    }\n\n    .dataframe tbody tr th {\n        vertical-align: top;\n    }\n\n    .dataframe thead th {\n        text-align: right;\n    }\n</style>\n<table border=\"1\" class=\"dataframe\">\n  <thead>\n    <tr style=\"text-align: right;\">\n      <th></th>\n      <th>customernumber</th>\n      <th>date</th>\n      <th>salutation</th>\n      <th>title</th>\n      <th>domain</th>\n      <th>datecreated</th>\n      <th>newsletter</th>\n      <th>model</th>\n      <th>paymenttype</th>\n      <th>deliverytype</th>\n      <th>...</th>\n      <th>w4</th>\n      <th>w5</th>\n      <th>w6</th>\n      <th>w7</th>\n      <th>w8</th>\n      <th>w9</th>\n      <th>w10</th>\n      <th>delivery_creation_delta</th>\n      <th>delivery_prom_real_delta</th>\n      <th>creation_month</th>\n    </tr>\n  </thead>\n  <tbody>\n    <tr>\n      <th>1</th>\n      <td>41191</td>\n      <td>2008-12-01</td>\n      <td>0</td>\n      <td>0</td>\n      <td>9</td>\n      <td>2008-12-01</td>\n      <td>0</td>\n      <td>2</td>\n      <td>2</td>\n      <td>0</td>\n      <td>...</td>\n      <td>0</td>\n      <td>0</td>\n      <td>0</td>\n      <td>0</td>\n      <td>0</td>\n      <td>0</td>\n      <td>0</td>\n      <td>1.0</td>\n      <td>-1.0</td>\n      <td>December</td>\n    </tr>\n    <tr>\n      <th>2</th>\n      <td>38860</td>\n      <td>2008-12-16</td>\n      <td>1</td>\n      <td>0</td>\n      <td>4</td>\n      <td>2008-12-16</td>\n      <td>0</td>\n      <td>1</td>\n      <td>1</td>\n      <td>1</td>\n      <td>...</td>\n      <td>0</td>\n      <td>0</td>\n      <td>0</td>\n      <td>0</td>\n      <td>0</td>\n      <td>0</td>\n      <td>0</td>\n      <td>49.0</td>\n      <td>35.0</td>\n      <td>December</td>\n    </tr>\n    <tr>\n      <th>3</th>\n      <td>61917</td>\n      <td>2008-08-19</td>\n      <td>0</td>\n      <td>0</td>\n      <td>12</td>\n      <td>2008-08-19</td>\n      <td>0</td>\n      <td>1</td>\n      <td>0</td>\n      <td>0</td>\n      <td>...</td>\n      <td>0</td>\n      <td>0</td>\n      <td>0</td>\n      <td>0</td>\n      <td>0</td>\n      <td>1</td>\n      <td>0</td>\n      <td>9.0</td>\n      <td>-5.0</td>\n      <td>August</td>\n    </tr>\n    <tr>\n      <th>4</th>\n      <td>40647</td>\n      <td>2008-06-16</td>\n      <td>1</td>\n      <td>0</td>\n      <td>8</td>\n      <td>2008-06-16</td>\n      <td>0</td>\n      <td>1</td>\n      <td>0</td>\n      <td>0</td>\n      <td>...</td>\n      <td>0</td>\n      <td>2</td>\n      <td>0</td>\n      <td>0</td>\n      <td>0</td>\n      <td>0</td>\n      <td>0</td>\n      <td>NaN</td>\n      <td>NaN</td>\n      <td>June</td>\n    </tr>\n    <tr>\n      <th>5</th>\n      <td>1347</td>\n      <td>2008-08-08</td>\n      <td>0</td>\n      <td>0</td>\n      <td>1</td>\n      <td>2008-08-08</td>\n      <td>0</td>\n      <td>1</td>\n      <td>1</td>\n      <td>1</td>\n      <td>...</td>\n      <td>0</td>\n      <td>0</td>\n      <td>0</td>\n      <td>0</td>\n      <td>0</td>\n      <td>0</td>\n      <td>0</td>\n      <td>0.0</td>\n      <td>-3.0</td>\n      <td>August</td>\n    </tr>\n    <tr>\n      <th>...</th>\n      <td>...</td>\n      <td>...</td>\n      <td>...</td>\n      <td>...</td>\n      <td>...</td>\n      <td>...</td>\n      <td>...</td>\n      <td>...</td>\n      <td>...</td>\n      <td>...</td>\n      <td>...</td>\n      <td>...</td>\n      <td>...</td>\n      <td>...</td>\n      <td>...</td>\n      <td>...</td>\n      <td>...</td>\n      <td>...</td>\n      <td>...</td>\n      <td>...</td>\n      <td>...</td>\n    </tr>\n    <tr>\n      <th>6482</th>\n      <td>26695</td>\n      <td>2008-11-03</td>\n      <td>0</td>\n      <td>0</td>\n      <td>4</td>\n      <td>2008-11-03</td>\n      <td>0</td>\n      <td>2</td>\n      <td>0</td>\n      <td>0</td>\n      <td>...</td>\n      <td>0</td>\n      <td>0</td>\n      <td>0</td>\n      <td>0</td>\n      <td>0</td>\n      <td>0</td>\n      <td>0</td>\n      <td>1.0</td>\n      <td>-1.0</td>\n      <td>November</td>\n    </tr>\n    <tr>\n      <th>6483</th>\n      <td>61792</td>\n      <td>2008-12-11</td>\n      <td>1</td>\n      <td>0</td>\n      <td>12</td>\n      <td>2008-12-11</td>\n      <td>1</td>\n      <td>1</td>\n      <td>3</td>\n      <td>0</td>\n      <td>...</td>\n      <td>3</td>\n      <td>0</td>\n      <td>0</td>\n      <td>0</td>\n      <td>0</td>\n      <td>0</td>\n      <td>0</td>\n      <td>0.0</td>\n      <td>-1.0</td>\n      <td>December</td>\n    </tr>\n    <tr>\n      <th>6484</th>\n      <td>15980</td>\n      <td>2008-10-08</td>\n      <td>0</td>\n      <td>0</td>\n      <td>4</td>\n      <td>2008-10-08</td>\n      <td>0</td>\n      <td>1</td>\n      <td>0</td>\n      <td>0</td>\n      <td>...</td>\n      <td>0</td>\n      <td>0</td>\n      <td>0</td>\n      <td>0</td>\n      <td>0</td>\n      <td>0</td>\n      <td>0</td>\n      <td>14.0</td>\n      <td>1.0</td>\n      <td>October</td>\n    </tr>\n    <tr>\n      <th>6485</th>\n      <td>36989</td>\n      <td>2008-11-20</td>\n      <td>1</td>\n      <td>0</td>\n      <td>8</td>\n      <td>2008-11-20</td>\n      <td>0</td>\n      <td>1</td>\n      <td>0</td>\n      <td>0</td>\n      <td>...</td>\n      <td>0</td>\n      <td>0</td>\n      <td>0</td>\n      <td>0</td>\n      <td>0</td>\n      <td>0</td>\n      <td>0</td>\n      <td>28.0</td>\n      <td>-341.0</td>\n      <td>November</td>\n    </tr>\n    <tr>\n      <th>6486</th>\n      <td>17847</td>\n      <td>2008-06-17</td>\n      <td>1</td>\n      <td>0</td>\n      <td>4</td>\n      <td>2008-06-17</td>\n      <td>0</td>\n      <td>1</td>\n      <td>3</td>\n      <td>0</td>\n      <td>...</td>\n      <td>0</td>\n      <td>0</td>\n      <td>0</td>\n      <td>0</td>\n      <td>0</td>\n      <td>4</td>\n      <td>0</td>\n      <td>18.0</td>\n      <td>4.0</td>\n      <td>June</td>\n    </tr>\n  </tbody>\n</table>\n<p>6486 rows × 40 columns</p>\n</div>"
     },
     "execution_count": 234,
     "metadata": {},
     "output_type": "execute_result"
    }
   ],
   "source": [
    "val_df['delivery_creation_delta'] = val_df.apply(lambda x: get_deliv_date_delta(x),\n",
    "                                         axis=1)\n",
    "val_df['delivery_prom_real_delta'] = val_df.apply(\n",
    "    lambda x: get_deliv_prom_real_delta(x),\n",
    "    axis=1)\n",
    "val_df['creation_month'] = val_df['datecreated'].apply(get_month_created)\n",
    "val_df"
   ],
   "metadata": {
    "collapsed": false,
    "ExecuteTime": {
     "end_time": "2024-05-19T14:58:52.928469800Z",
     "start_time": "2024-05-19T14:58:43.394697500Z"
    }
   },
   "id": "b1fad740a8b6606e",
   "execution_count": 234
  },
  {
   "cell_type": "code",
   "outputs": [],
   "source": [
    "df = df.drop(\n",
    "    columns=['date', 'datecreated', 'deliverydatepromised', 'deliverydatereal',\n",
    "             'delivpostcode', 'invoicepostcode', 'customernumber', 'points'])\n",
    "val_df = val_df.drop(\n",
    "    columns=['date', 'datecreated', 'deliverydatepromised', 'deliverydatereal',\n",
    "             'delivpostcode', 'invoicepostcode', 'customernumber', 'points'])"
   ],
   "metadata": {
    "collapsed": false,
    "ExecuteTime": {
     "end_time": "2024-05-19T14:58:52.958902400Z",
     "start_time": "2024-05-19T14:58:52.928469800Z"
    }
   },
   "id": "6a4dcf4cc75a815e",
   "execution_count": 235
  },
  {
   "cell_type": "code",
   "outputs": [
    {
     "data": {
      "text/plain": "29436"
     },
     "execution_count": 236,
     "metadata": {},
     "output_type": "execute_result"
    }
   ],
   "source": [
    "df.isnull().sum().sum()"
   ],
   "metadata": {
    "collapsed": false,
    "ExecuteTime": {
     "end_time": "2024-05-19T14:58:52.960897300Z",
     "start_time": "2024-05-19T14:58:52.937108300Z"
    }
   },
   "id": "406b687dbc08d3bb",
   "execution_count": 236
  },
  {
   "cell_type": "code",
   "outputs": [
    {
     "data": {
      "text/plain": "7420"
     },
     "execution_count": 237,
     "metadata": {},
     "output_type": "execute_result"
    }
   ],
   "source": [
    "val_df.isnull().sum().sum()"
   ],
   "metadata": {
    "collapsed": false,
    "ExecuteTime": {
     "end_time": "2024-05-19T14:58:52.961894100Z",
     "start_time": "2024-05-19T14:58:52.945603Z"
    }
   },
   "id": "a284fe3b555eae9",
   "execution_count": 237
  },
  {
   "cell_type": "code",
   "outputs": [
    {
     "data": {
      "text/plain": "7420"
     },
     "execution_count": 238,
     "metadata": {},
     "output_type": "execute_result"
    }
   ],
   "source": [
    "val_df.isnull().sum().sum()"
   ],
   "metadata": {
    "collapsed": false,
    "ExecuteTime": {
     "end_time": "2024-05-19T14:58:52.987391800Z",
     "start_time": "2024-05-19T14:58:52.951462700Z"
    }
   },
   "id": "5ae37baa7932347d",
   "execution_count": 238
  },
  {
   "cell_type": "code",
   "outputs": [],
   "source": [
    "df[['salutation', 'title', 'domain',\n",
    "                           'newsletter', 'model', 'paymenttype', 'deliverytype',\n",
    "                          'voucher', 'advertisingdatacode',\n",
    "                           'case', 'numberitems', 'gift', 'entry',\n",
    "                           'shippingcosts', 'creation_month']] = df[['salutation', 'title', 'domain',\n",
    "                           'newsletter', 'model', 'paymenttype', 'deliverytype',\n",
    "                          'voucher', 'advertisingdatacode',\n",
    "                           'case', 'numberitems', 'gift', 'entry',\n",
    "                           'shippingcosts', 'creation_month']].astype(str)\n",
    "val_df[['salutation', 'title', 'domain',\n",
    "                           'newsletter', 'model', 'paymenttype', 'deliverytype',\n",
    "                          'voucher', 'advertisingdatacode',\n",
    "                           'case', 'numberitems', 'gift', 'entry',\n",
    "                           'shippingcosts', 'creation_month']] = val_df[['salutation', 'title', 'domain',\n",
    "                           'newsletter', 'model', 'paymenttype', 'deliverytype',\n",
    "                          'voucher', 'advertisingdatacode',\n",
    "                           'case', 'numberitems', 'gift', 'entry',\n",
    "                           'shippingcosts', 'creation_month']].astype(str)"
   ],
   "metadata": {
    "collapsed": false,
    "ExecuteTime": {
     "end_time": "2024-05-19T14:58:53.165699Z",
     "start_time": "2024-05-19T14:58:52.956906800Z"
    }
   },
   "id": "23d425ae739c8e28",
   "execution_count": 239
  },
  {
   "cell_type": "code",
   "outputs": [],
   "source": [
    "from sklearn.model_selection import train_test_split\n",
    "from sklearn.metrics import classification_report\n",
    "\n",
    "train, test = train_test_split(df, test_size=0.3, random_state=42,\n",
    "                               stratify=df['target90'])\n"
   ],
   "metadata": {
    "collapsed": false,
    "ExecuteTime": {
     "end_time": "2024-05-19T15:32:17.468750500Z",
     "start_time": "2024-05-19T15:32:17.434716200Z"
    }
   },
   "id": "5ef6c73e5ee43895",
   "execution_count": 262
  },
  {
   "cell_type": "code",
   "outputs": [],
   "source": [
    "train, test = df, val_df"
   ],
   "metadata": {
    "collapsed": false,
    "ExecuteTime": {
     "end_time": "2024-05-19T15:36:47.631420300Z",
     "start_time": "2024-05-19T15:36:47.605371200Z"
    }
   },
   "id": "9a5b40a4aeefea73",
   "execution_count": 273
  },
  {
   "cell_type": "code",
   "outputs": [
    {
     "name": "stderr",
     "output_type": "stream",
     "text": [
      "C:\\Users\\slava\\AppData\\Local\\Temp\\ipykernel_22192\\2656521069.py:2: DeprecationWarning: DataFrameGroupBy.apply operated on the grouping columns. This behavior is deprecated, and in a future version of pandas the grouping columns will be excluded from the operation. Either pass `include_groups=False` to exclude the groupings or explicitly select the grouping columns after groupby to silence this warning.\n",
      "  balanced = g.apply(lambda x: x.sample(g.size().min()).reset_index(drop=True))\n"
     ]
    },
    {
     "data": {
      "text/plain": "              salutation title domain newsletter model paymenttype  \\\ntarget90                                                             \n0        0             0     0      9          0     3           1   \n         1             0     0      9          0     2           1   \n         2             2     0     12          0     3           0   \n         3             1     0      1          0     1           2   \n         4             0     0      4          0     1           3   \n...                  ...   ...    ...        ...   ...         ...   \n1        3414          1     0     12          0     1           3   \n         3415          0     0     12          0     2           2   \n         3416          0     0      7          0     1           3   \n         3417          0     0      9          1     1           0   \n         3418          2     0     12          0     1           3   \n\n              deliverytype voucher advertisingdatacode case  ... w5 w6 w7 w8  \\\ntarget90                                                     ...               \n0        0               1       0                 nan    3  ...  0  0  0  0   \n         1               1       0                 nan    3  ...  0  0  0  0   \n         2               0       0                 nan    4  ...  0  0  0  0   \n         3               0       0                  BQ    1  ...  1  0  0  0   \n         4               0       0                 nan    1  ...  1  0  0  0   \n...                    ...     ...                 ...  ...  ... .. .. .. ..   \n1        3414            0       0                 nan    4  ...  0  0  0  0   \n         3415            0       1                 nan    1  ...  0  0  0  0   \n         3416            0       0                  BT    1  ...  1  0  0  0   \n         3417            0       0                 nan    4  ...  0  0  0  0   \n         3418            0       0                 nan    3  ...  0  0  0  0   \n\n               w9  w10  target90  delivery_creation_delta  \\\ntarget90                                                    \n0        0      0    0         0                      1.0   \n         1      0    0         0                      4.0   \n         2      0    0         0                      0.0   \n         3      0    0         0                      NaN   \n         4      0    0         0                      NaN   \n...            ..  ...       ...                      ...   \n1        3414   0    0         1                      0.0   \n         3415   0    0         1                      NaN   \n         3416   0    0         1                      NaN   \n         3417   0    0         1                      0.0   \n         3418   0    0         1                      5.0   \n\n               delivery_prom_real_delta  creation_month  \ntarget90                                                 \n0        0                          0.0             May  \n         1                        -27.0             May  \n         2                         -1.0          August  \n         3                          NaN           April  \n         4                          NaN       September  \n...                                 ...             ...  \n1        3414                      -1.0          August  \n         3415                       NaN        December  \n         3416                       NaN           April  \n         3417                      -3.0          August  \n         3418                      -8.0            July  \n\n[6838 rows x 33 columns]",
      "text/html": "<div>\n<style scoped>\n    .dataframe tbody tr th:only-of-type {\n        vertical-align: middle;\n    }\n\n    .dataframe tbody tr th {\n        vertical-align: top;\n    }\n\n    .dataframe thead th {\n        text-align: right;\n    }\n</style>\n<table border=\"1\" class=\"dataframe\">\n  <thead>\n    <tr style=\"text-align: right;\">\n      <th></th>\n      <th></th>\n      <th>salutation</th>\n      <th>title</th>\n      <th>domain</th>\n      <th>newsletter</th>\n      <th>model</th>\n      <th>paymenttype</th>\n      <th>deliverytype</th>\n      <th>voucher</th>\n      <th>advertisingdatacode</th>\n      <th>case</th>\n      <th>...</th>\n      <th>w5</th>\n      <th>w6</th>\n      <th>w7</th>\n      <th>w8</th>\n      <th>w9</th>\n      <th>w10</th>\n      <th>target90</th>\n      <th>delivery_creation_delta</th>\n      <th>delivery_prom_real_delta</th>\n      <th>creation_month</th>\n    </tr>\n    <tr>\n      <th>target90</th>\n      <th></th>\n      <th></th>\n      <th></th>\n      <th></th>\n      <th></th>\n      <th></th>\n      <th></th>\n      <th></th>\n      <th></th>\n      <th></th>\n      <th></th>\n      <th></th>\n      <th></th>\n      <th></th>\n      <th></th>\n      <th></th>\n      <th></th>\n      <th></th>\n      <th></th>\n      <th></th>\n      <th></th>\n      <th></th>\n    </tr>\n  </thead>\n  <tbody>\n    <tr>\n      <th rowspan=\"5\" valign=\"top\">0</th>\n      <th>0</th>\n      <td>0</td>\n      <td>0</td>\n      <td>9</td>\n      <td>0</td>\n      <td>3</td>\n      <td>1</td>\n      <td>1</td>\n      <td>0</td>\n      <td>nan</td>\n      <td>3</td>\n      <td>...</td>\n      <td>0</td>\n      <td>0</td>\n      <td>0</td>\n      <td>0</td>\n      <td>0</td>\n      <td>0</td>\n      <td>0</td>\n      <td>1.0</td>\n      <td>0.0</td>\n      <td>May</td>\n    </tr>\n    <tr>\n      <th>1</th>\n      <td>0</td>\n      <td>0</td>\n      <td>9</td>\n      <td>0</td>\n      <td>2</td>\n      <td>1</td>\n      <td>1</td>\n      <td>0</td>\n      <td>nan</td>\n      <td>3</td>\n      <td>...</td>\n      <td>0</td>\n      <td>0</td>\n      <td>0</td>\n      <td>0</td>\n      <td>0</td>\n      <td>0</td>\n      <td>0</td>\n      <td>4.0</td>\n      <td>-27.0</td>\n      <td>May</td>\n    </tr>\n    <tr>\n      <th>2</th>\n      <td>2</td>\n      <td>0</td>\n      <td>12</td>\n      <td>0</td>\n      <td>3</td>\n      <td>0</td>\n      <td>0</td>\n      <td>0</td>\n      <td>nan</td>\n      <td>4</td>\n      <td>...</td>\n      <td>0</td>\n      <td>0</td>\n      <td>0</td>\n      <td>0</td>\n      <td>0</td>\n      <td>0</td>\n      <td>0</td>\n      <td>0.0</td>\n      <td>-1.0</td>\n      <td>August</td>\n    </tr>\n    <tr>\n      <th>3</th>\n      <td>1</td>\n      <td>0</td>\n      <td>1</td>\n      <td>0</td>\n      <td>1</td>\n      <td>2</td>\n      <td>0</td>\n      <td>0</td>\n      <td>BQ</td>\n      <td>1</td>\n      <td>...</td>\n      <td>1</td>\n      <td>0</td>\n      <td>0</td>\n      <td>0</td>\n      <td>0</td>\n      <td>0</td>\n      <td>0</td>\n      <td>NaN</td>\n      <td>NaN</td>\n      <td>April</td>\n    </tr>\n    <tr>\n      <th>4</th>\n      <td>0</td>\n      <td>0</td>\n      <td>4</td>\n      <td>0</td>\n      <td>1</td>\n      <td>3</td>\n      <td>0</td>\n      <td>0</td>\n      <td>nan</td>\n      <td>1</td>\n      <td>...</td>\n      <td>1</td>\n      <td>0</td>\n      <td>0</td>\n      <td>0</td>\n      <td>0</td>\n      <td>0</td>\n      <td>0</td>\n      <td>NaN</td>\n      <td>NaN</td>\n      <td>September</td>\n    </tr>\n    <tr>\n      <th>...</th>\n      <th>...</th>\n      <td>...</td>\n      <td>...</td>\n      <td>...</td>\n      <td>...</td>\n      <td>...</td>\n      <td>...</td>\n      <td>...</td>\n      <td>...</td>\n      <td>...</td>\n      <td>...</td>\n      <td>...</td>\n      <td>...</td>\n      <td>...</td>\n      <td>...</td>\n      <td>...</td>\n      <td>...</td>\n      <td>...</td>\n      <td>...</td>\n      <td>...</td>\n      <td>...</td>\n      <td>...</td>\n    </tr>\n    <tr>\n      <th rowspan=\"5\" valign=\"top\">1</th>\n      <th>3414</th>\n      <td>1</td>\n      <td>0</td>\n      <td>12</td>\n      <td>0</td>\n      <td>1</td>\n      <td>3</td>\n      <td>0</td>\n      <td>0</td>\n      <td>nan</td>\n      <td>4</td>\n      <td>...</td>\n      <td>0</td>\n      <td>0</td>\n      <td>0</td>\n      <td>0</td>\n      <td>0</td>\n      <td>0</td>\n      <td>1</td>\n      <td>0.0</td>\n      <td>-1.0</td>\n      <td>August</td>\n    </tr>\n    <tr>\n      <th>3415</th>\n      <td>0</td>\n      <td>0</td>\n      <td>12</td>\n      <td>0</td>\n      <td>2</td>\n      <td>2</td>\n      <td>0</td>\n      <td>1</td>\n      <td>nan</td>\n      <td>1</td>\n      <td>...</td>\n      <td>0</td>\n      <td>0</td>\n      <td>0</td>\n      <td>0</td>\n      <td>0</td>\n      <td>0</td>\n      <td>1</td>\n      <td>NaN</td>\n      <td>NaN</td>\n      <td>December</td>\n    </tr>\n    <tr>\n      <th>3416</th>\n      <td>0</td>\n      <td>0</td>\n      <td>7</td>\n      <td>0</td>\n      <td>1</td>\n      <td>3</td>\n      <td>0</td>\n      <td>0</td>\n      <td>BT</td>\n      <td>1</td>\n      <td>...</td>\n      <td>1</td>\n      <td>0</td>\n      <td>0</td>\n      <td>0</td>\n      <td>0</td>\n      <td>0</td>\n      <td>1</td>\n      <td>NaN</td>\n      <td>NaN</td>\n      <td>April</td>\n    </tr>\n    <tr>\n      <th>3417</th>\n      <td>0</td>\n      <td>0</td>\n      <td>9</td>\n      <td>1</td>\n      <td>1</td>\n      <td>0</td>\n      <td>0</td>\n      <td>0</td>\n      <td>nan</td>\n      <td>4</td>\n      <td>...</td>\n      <td>0</td>\n      <td>0</td>\n      <td>0</td>\n      <td>0</td>\n      <td>0</td>\n      <td>0</td>\n      <td>1</td>\n      <td>0.0</td>\n      <td>-3.0</td>\n      <td>August</td>\n    </tr>\n    <tr>\n      <th>3418</th>\n      <td>2</td>\n      <td>0</td>\n      <td>12</td>\n      <td>0</td>\n      <td>1</td>\n      <td>3</td>\n      <td>0</td>\n      <td>0</td>\n      <td>nan</td>\n      <td>3</td>\n      <td>...</td>\n      <td>0</td>\n      <td>0</td>\n      <td>0</td>\n      <td>0</td>\n      <td>0</td>\n      <td>0</td>\n      <td>1</td>\n      <td>5.0</td>\n      <td>-8.0</td>\n      <td>July</td>\n    </tr>\n  </tbody>\n</table>\n<p>6838 rows × 33 columns</p>\n</div>"
     },
     "execution_count": 213,
     "metadata": {},
     "output_type": "execute_result"
    }
   ],
   "source": [
    "g = train.groupby('target90')\n",
    "balanced = g.apply(lambda x: x.sample(g.size().min()).reset_index(drop=True))\n",
    "balanced"
   ],
   "metadata": {
    "collapsed": false,
    "ExecuteTime": {
     "end_time": "2024-05-19T14:03:16.187903200Z",
     "start_time": "2024-05-19T14:03:16.100412500Z"
    }
   },
   "id": "43f3fd58ac8d2db4",
   "execution_count": 213
  },
  {
   "cell_type": "code",
   "outputs": [
    {
     "data": {
      "text/plain": "target90\n0    21058\n1     4885\nName: count, dtype: int64"
     },
     "execution_count": 274,
     "metadata": {},
     "output_type": "execute_result"
    }
   ],
   "source": [
    "train['target90'].value_counts()"
   ],
   "metadata": {
    "collapsed": false,
    "ExecuteTime": {
     "end_time": "2024-05-19T15:36:49.975837300Z",
     "start_time": "2024-05-19T15:36:49.901161200Z"
    }
   },
   "id": "4e6d238adf4df321",
   "execution_count": 274
  },
  {
   "cell_type": "code",
   "outputs": [
    {
     "data": {
      "text/plain": "Index(['salutation', 'title', 'domain', 'newsletter', 'model', 'paymenttype',\n       'deliverytype', 'voucher', 'advertisingdatacode', 'case', 'numberitems',\n       'gift', 'entry', 'shippingcosts', 'weight', 'remi', 'cancel', 'used',\n       'w0', 'w1', 'w2', 'w3', 'w4', 'w5', 'w6', 'w7', 'w8', 'w9', 'w10',\n       'target90', 'delivery_creation_delta', 'delivery_prom_real_delta',\n       'creation_month'],\n      dtype='object')"
     },
     "execution_count": 242,
     "metadata": {},
     "output_type": "execute_result"
    }
   ],
   "source": [
    "train.columns"
   ],
   "metadata": {
    "collapsed": false,
    "ExecuteTime": {
     "end_time": "2024-05-19T15:12:20.214584500Z",
     "start_time": "2024-05-19T15:12:20.182060100Z"
    }
   },
   "id": "147142aa07b8074f",
   "execution_count": 242
  },
  {
   "cell_type": "code",
   "outputs": [
    {
     "data": {
      "text/plain": "{0: 0.615989172760946, 1: 1.7553735926305016}"
     },
     "execution_count": 275,
     "metadata": {},
     "output_type": "execute_result"
    }
   ],
   "source": [
    "from catboost import CatBoostClassifier\n",
    "from sklearn.utils.class_weight import compute_class_weight\n",
    "\n",
    "classes = np.unique(train['target90'])\n",
    "weights = compute_class_weight(class_weight='balanced', classes=classes, y=train['target90'])\n",
    "class_weights = dict(zip(classes, weights))\n",
    "class_weights[1] -= 0.9\n",
    "class_weights"
   ],
   "metadata": {
    "collapsed": false,
    "ExecuteTime": {
     "end_time": "2024-05-19T15:36:52.761778800Z",
     "start_time": "2024-05-19T15:36:52.738501800Z"
    }
   },
   "id": "926ad358d2698040",
   "execution_count": 275
  },
  {
   "cell_type": "code",
   "outputs": [
    {
     "name": "stdout",
     "output_type": "stream",
     "text": [
      "Learning rate set to 0.028184\n",
      "0:\tlearn: 0.6904005\ttotal: 114ms\tremaining: 1m 54s\n",
      "1:\tlearn: 0.6878621\ttotal: 237ms\tremaining: 1m 58s\n",
      "2:\tlearn: 0.6856649\ttotal: 312ms\tremaining: 1m 43s\n",
      "3:\tlearn: 0.6832146\ttotal: 409ms\tremaining: 1m 41s\n",
      "4:\tlearn: 0.6809136\ttotal: 501ms\tremaining: 1m 39s\n",
      "5:\tlearn: 0.6788117\ttotal: 614ms\tremaining: 1m 41s\n",
      "6:\tlearn: 0.6766969\ttotal: 719ms\tremaining: 1m 41s\n",
      "7:\tlearn: 0.6748016\ttotal: 814ms\tremaining: 1m 40s\n",
      "8:\tlearn: 0.6730123\ttotal: 903ms\tremaining: 1m 39s\n",
      "9:\tlearn: 0.6713349\ttotal: 999ms\tremaining: 1m 38s\n",
      "10:\tlearn: 0.6700559\ttotal: 1.04s\tremaining: 1m 33s\n",
      "11:\tlearn: 0.6684333\ttotal: 1.14s\tremaining: 1m 33s\n",
      "12:\tlearn: 0.6671076\ttotal: 1.23s\tremaining: 1m 33s\n",
      "13:\tlearn: 0.6657863\ttotal: 1.34s\tremaining: 1m 34s\n",
      "14:\tlearn: 0.6644953\ttotal: 1.43s\tremaining: 1m 33s\n",
      "15:\tlearn: 0.6633211\ttotal: 1.53s\tremaining: 1m 34s\n",
      "16:\tlearn: 0.6621141\ttotal: 1.63s\tremaining: 1m 34s\n",
      "17:\tlearn: 0.6611074\ttotal: 1.72s\tremaining: 1m 33s\n",
      "18:\tlearn: 0.6601959\ttotal: 1.81s\tremaining: 1m 33s\n",
      "19:\tlearn: 0.6591367\ttotal: 1.91s\tremaining: 1m 33s\n",
      "20:\tlearn: 0.6580535\ttotal: 2s\tremaining: 1m 33s\n",
      "21:\tlearn: 0.6572277\ttotal: 2.1s\tremaining: 1m 33s\n",
      "22:\tlearn: 0.6563082\ttotal: 2.19s\tremaining: 1m 33s\n",
      "23:\tlearn: 0.6554853\ttotal: 2.3s\tremaining: 1m 33s\n",
      "24:\tlearn: 0.6546250\ttotal: 2.41s\tremaining: 1m 34s\n",
      "25:\tlearn: 0.6538011\ttotal: 2.5s\tremaining: 1m 33s\n",
      "26:\tlearn: 0.6530937\ttotal: 2.59s\tremaining: 1m 33s\n",
      "27:\tlearn: 0.6523987\ttotal: 2.68s\tremaining: 1m 33s\n",
      "28:\tlearn: 0.6517292\ttotal: 2.79s\tremaining: 1m 33s\n",
      "29:\tlearn: 0.6511069\ttotal: 2.9s\tremaining: 1m 33s\n",
      "30:\tlearn: 0.6504428\ttotal: 3.01s\tremaining: 1m 34s\n",
      "31:\tlearn: 0.6496919\ttotal: 3.12s\tremaining: 1m 34s\n",
      "32:\tlearn: 0.6489919\ttotal: 3.22s\tremaining: 1m 34s\n",
      "33:\tlearn: 0.6483105\ttotal: 3.31s\tremaining: 1m 34s\n",
      "34:\tlearn: 0.6477607\ttotal: 3.42s\tremaining: 1m 34s\n",
      "35:\tlearn: 0.6474058\ttotal: 3.52s\tremaining: 1m 34s\n",
      "36:\tlearn: 0.6468531\ttotal: 3.61s\tremaining: 1m 33s\n",
      "37:\tlearn: 0.6463740\ttotal: 3.71s\tremaining: 1m 33s\n",
      "38:\tlearn: 0.6458661\ttotal: 3.81s\tremaining: 1m 33s\n",
      "39:\tlearn: 0.6454215\ttotal: 3.9s\tremaining: 1m 33s\n",
      "40:\tlearn: 0.6449009\ttotal: 3.99s\tremaining: 1m 33s\n",
      "41:\tlearn: 0.6445302\ttotal: 4.08s\tremaining: 1m 33s\n",
      "42:\tlearn: 0.6440587\ttotal: 4.17s\tremaining: 1m 32s\n",
      "43:\tlearn: 0.6437330\ttotal: 4.26s\tremaining: 1m 32s\n",
      "44:\tlearn: 0.6434326\ttotal: 4.38s\tremaining: 1m 32s\n",
      "45:\tlearn: 0.6431926\ttotal: 4.48s\tremaining: 1m 32s\n",
      "46:\tlearn: 0.6427692\ttotal: 4.59s\tremaining: 1m 33s\n",
      "47:\tlearn: 0.6424880\ttotal: 4.7s\tremaining: 1m 33s\n",
      "48:\tlearn: 0.6419888\ttotal: 4.81s\tremaining: 1m 33s\n",
      "49:\tlearn: 0.6414887\ttotal: 4.9s\tremaining: 1m 33s\n",
      "50:\tlearn: 0.6411637\ttotal: 5s\tremaining: 1m 33s\n",
      "51:\tlearn: 0.6409256\ttotal: 5.09s\tremaining: 1m 32s\n",
      "52:\tlearn: 0.6406538\ttotal: 5.17s\tremaining: 1m 32s\n",
      "53:\tlearn: 0.6404693\ttotal: 5.26s\tremaining: 1m 32s\n",
      "54:\tlearn: 0.6401958\ttotal: 5.35s\tremaining: 1m 31s\n",
      "55:\tlearn: 0.6399399\ttotal: 5.45s\tremaining: 1m 31s\n",
      "56:\tlearn: 0.6396360\ttotal: 5.54s\tremaining: 1m 31s\n",
      "57:\tlearn: 0.6393920\ttotal: 5.63s\tremaining: 1m 31s\n",
      "58:\tlearn: 0.6390154\ttotal: 5.72s\tremaining: 1m 31s\n",
      "59:\tlearn: 0.6387331\ttotal: 5.82s\tremaining: 1m 31s\n",
      "60:\tlearn: 0.6384669\ttotal: 5.91s\tremaining: 1m 30s\n",
      "61:\tlearn: 0.6382611\ttotal: 6s\tremaining: 1m 30s\n",
      "62:\tlearn: 0.6379857\ttotal: 6.1s\tremaining: 1m 30s\n",
      "63:\tlearn: 0.6376981\ttotal: 6.19s\tremaining: 1m 30s\n",
      "64:\tlearn: 0.6374571\ttotal: 6.29s\tremaining: 1m 30s\n",
      "65:\tlearn: 0.6372725\ttotal: 6.39s\tremaining: 1m 30s\n",
      "66:\tlearn: 0.6371197\ttotal: 6.45s\tremaining: 1m 29s\n",
      "67:\tlearn: 0.6368814\ttotal: 6.54s\tremaining: 1m 29s\n",
      "68:\tlearn: 0.6366655\ttotal: 6.63s\tremaining: 1m 29s\n",
      "69:\tlearn: 0.6364022\ttotal: 6.73s\tremaining: 1m 29s\n",
      "70:\tlearn: 0.6361865\ttotal: 6.83s\tremaining: 1m 29s\n",
      "71:\tlearn: 0.6360048\ttotal: 6.92s\tremaining: 1m 29s\n",
      "72:\tlearn: 0.6357708\ttotal: 7.01s\tremaining: 1m 29s\n",
      "73:\tlearn: 0.6355951\ttotal: 7.09s\tremaining: 1m 28s\n",
      "74:\tlearn: 0.6354386\ttotal: 7.18s\tremaining: 1m 28s\n",
      "75:\tlearn: 0.6353594\ttotal: 7.28s\tremaining: 1m 28s\n",
      "76:\tlearn: 0.6351952\ttotal: 7.37s\tremaining: 1m 28s\n",
      "77:\tlearn: 0.6350067\ttotal: 7.46s\tremaining: 1m 28s\n",
      "78:\tlearn: 0.6348273\ttotal: 7.56s\tremaining: 1m 28s\n",
      "79:\tlearn: 0.6346883\ttotal: 7.65s\tremaining: 1m 27s\n",
      "80:\tlearn: 0.6345515\ttotal: 7.75s\tremaining: 1m 27s\n",
      "81:\tlearn: 0.6343662\ttotal: 7.84s\tremaining: 1m 27s\n",
      "82:\tlearn: 0.6341979\ttotal: 7.93s\tremaining: 1m 27s\n",
      "83:\tlearn: 0.6340559\ttotal: 8.03s\tremaining: 1m 27s\n",
      "84:\tlearn: 0.6339061\ttotal: 8.12s\tremaining: 1m 27s\n",
      "85:\tlearn: 0.6338420\ttotal: 8.21s\tremaining: 1m 27s\n",
      "86:\tlearn: 0.6336866\ttotal: 8.29s\tremaining: 1m 27s\n",
      "87:\tlearn: 0.6335482\ttotal: 8.39s\tremaining: 1m 26s\n",
      "88:\tlearn: 0.6333900\ttotal: 8.47s\tremaining: 1m 26s\n",
      "89:\tlearn: 0.6333131\ttotal: 8.57s\tremaining: 1m 26s\n",
      "90:\tlearn: 0.6331736\ttotal: 8.67s\tremaining: 1m 26s\n",
      "91:\tlearn: 0.6330264\ttotal: 8.76s\tremaining: 1m 26s\n",
      "92:\tlearn: 0.6329113\ttotal: 8.86s\tremaining: 1m 26s\n",
      "93:\tlearn: 0.6327930\ttotal: 8.95s\tremaining: 1m 26s\n",
      "94:\tlearn: 0.6326661\ttotal: 9.04s\tremaining: 1m 26s\n",
      "95:\tlearn: 0.6325286\ttotal: 9.13s\tremaining: 1m 25s\n",
      "96:\tlearn: 0.6323807\ttotal: 9.21s\tremaining: 1m 25s\n",
      "97:\tlearn: 0.6322536\ttotal: 9.3s\tremaining: 1m 25s\n",
      "98:\tlearn: 0.6321102\ttotal: 9.4s\tremaining: 1m 25s\n",
      "99:\tlearn: 0.6320042\ttotal: 9.49s\tremaining: 1m 25s\n",
      "100:\tlearn: 0.6318738\ttotal: 9.58s\tremaining: 1m 25s\n",
      "101:\tlearn: 0.6316602\ttotal: 9.68s\tremaining: 1m 25s\n",
      "102:\tlearn: 0.6315451\ttotal: 9.77s\tremaining: 1m 25s\n",
      "103:\tlearn: 0.6313272\ttotal: 9.9s\tremaining: 1m 25s\n",
      "104:\tlearn: 0.6312630\ttotal: 10s\tremaining: 1m 25s\n",
      "105:\tlearn: 0.6311846\ttotal: 10.1s\tremaining: 1m 25s\n",
      "106:\tlearn: 0.6309860\ttotal: 10.2s\tremaining: 1m 25s\n",
      "107:\tlearn: 0.6307699\ttotal: 10.3s\tremaining: 1m 25s\n",
      "108:\tlearn: 0.6306956\ttotal: 10.4s\tremaining: 1m 25s\n",
      "109:\tlearn: 0.6305515\ttotal: 10.5s\tremaining: 1m 25s\n",
      "110:\tlearn: 0.6304482\ttotal: 10.6s\tremaining: 1m 24s\n",
      "111:\tlearn: 0.6303679\ttotal: 10.7s\tremaining: 1m 24s\n",
      "112:\tlearn: 0.6302737\ttotal: 10.8s\tremaining: 1m 24s\n",
      "113:\tlearn: 0.6300800\ttotal: 10.9s\tremaining: 1m 24s\n",
      "114:\tlearn: 0.6299781\ttotal: 11s\tremaining: 1m 24s\n",
      "115:\tlearn: 0.6298916\ttotal: 11.1s\tremaining: 1m 24s\n",
      "116:\tlearn: 0.6297726\ttotal: 11.2s\tremaining: 1m 24s\n",
      "117:\tlearn: 0.6297006\ttotal: 11.3s\tremaining: 1m 24s\n",
      "118:\tlearn: 0.6295899\ttotal: 11.3s\tremaining: 1m 23s\n",
      "119:\tlearn: 0.6295560\ttotal: 11.4s\tremaining: 1m 23s\n",
      "120:\tlearn: 0.6294771\ttotal: 11.5s\tremaining: 1m 23s\n",
      "121:\tlearn: 0.6294055\ttotal: 11.6s\tremaining: 1m 23s\n",
      "122:\tlearn: 0.6293383\ttotal: 11.7s\tremaining: 1m 23s\n",
      "123:\tlearn: 0.6291735\ttotal: 11.8s\tremaining: 1m 23s\n",
      "124:\tlearn: 0.6291100\ttotal: 11.9s\tremaining: 1m 23s\n",
      "125:\tlearn: 0.6290433\ttotal: 12s\tremaining: 1m 23s\n",
      "126:\tlearn: 0.6289688\ttotal: 12.1s\tremaining: 1m 22s\n",
      "127:\tlearn: 0.6288497\ttotal: 12.2s\tremaining: 1m 22s\n",
      "128:\tlearn: 0.6287325\ttotal: 12.3s\tremaining: 1m 22s\n",
      "129:\tlearn: 0.6286358\ttotal: 12.4s\tremaining: 1m 22s\n",
      "130:\tlearn: 0.6285531\ttotal: 12.4s\tremaining: 1m 22s\n",
      "131:\tlearn: 0.6284868\ttotal: 12.5s\tremaining: 1m 22s\n",
      "132:\tlearn: 0.6284546\ttotal: 12.6s\tremaining: 1m 22s\n",
      "133:\tlearn: 0.6283939\ttotal: 12.7s\tremaining: 1m 22s\n",
      "134:\tlearn: 0.6282744\ttotal: 12.8s\tremaining: 1m 22s\n",
      "135:\tlearn: 0.6281104\ttotal: 12.9s\tremaining: 1m 21s\n",
      "136:\tlearn: 0.6280693\ttotal: 13s\tremaining: 1m 21s\n",
      "137:\tlearn: 0.6279901\ttotal: 13.1s\tremaining: 1m 21s\n",
      "138:\tlearn: 0.6278923\ttotal: 13.2s\tremaining: 1m 21s\n",
      "139:\tlearn: 0.6278535\ttotal: 13.3s\tremaining: 1m 21s\n",
      "140:\tlearn: 0.6278246\ttotal: 13.3s\tremaining: 1m 21s\n",
      "141:\tlearn: 0.6276649\ttotal: 13.4s\tremaining: 1m 21s\n",
      "142:\tlearn: 0.6275244\ttotal: 13.5s\tremaining: 1m 21s\n",
      "143:\tlearn: 0.6274524\ttotal: 13.6s\tremaining: 1m 20s\n",
      "144:\tlearn: 0.6273689\ttotal: 13.7s\tremaining: 1m 20s\n",
      "145:\tlearn: 0.6272788\ttotal: 13.8s\tremaining: 1m 20s\n",
      "146:\tlearn: 0.6272030\ttotal: 13.9s\tremaining: 1m 20s\n",
      "147:\tlearn: 0.6271864\ttotal: 14s\tremaining: 1m 20s\n",
      "148:\tlearn: 0.6270544\ttotal: 14.1s\tremaining: 1m 20s\n",
      "149:\tlearn: 0.6269519\ttotal: 14.1s\tremaining: 1m 20s\n",
      "150:\tlearn: 0.6268177\ttotal: 14.2s\tremaining: 1m 20s\n",
      "151:\tlearn: 0.6267901\ttotal: 14.3s\tremaining: 1m 20s\n",
      "152:\tlearn: 0.6267560\ttotal: 14.4s\tremaining: 1m 19s\n",
      "153:\tlearn: 0.6266488\ttotal: 14.5s\tremaining: 1m 19s\n",
      "154:\tlearn: 0.6265786\ttotal: 14.6s\tremaining: 1m 19s\n",
      "155:\tlearn: 0.6264612\ttotal: 14.7s\tremaining: 1m 19s\n",
      "156:\tlearn: 0.6264198\ttotal: 14.8s\tremaining: 1m 19s\n",
      "157:\tlearn: 0.6263557\ttotal: 14.9s\tremaining: 1m 19s\n",
      "158:\tlearn: 0.6263208\ttotal: 15s\tremaining: 1m 19s\n",
      "159:\tlearn: 0.6262264\ttotal: 15.1s\tremaining: 1m 19s\n",
      "160:\tlearn: 0.6260819\ttotal: 15.2s\tremaining: 1m 19s\n",
      "161:\tlearn: 0.6260172\ttotal: 15.3s\tremaining: 1m 18s\n",
      "162:\tlearn: 0.6259298\ttotal: 15.3s\tremaining: 1m 18s\n",
      "163:\tlearn: 0.6259184\ttotal: 15.5s\tremaining: 1m 18s\n",
      "164:\tlearn: 0.6258852\ttotal: 15.5s\tremaining: 1m 18s\n",
      "165:\tlearn: 0.6258410\ttotal: 15.6s\tremaining: 1m 18s\n",
      "166:\tlearn: 0.6257773\ttotal: 15.7s\tremaining: 1m 18s\n",
      "167:\tlearn: 0.6257399\ttotal: 15.8s\tremaining: 1m 18s\n",
      "168:\tlearn: 0.6256498\ttotal: 15.9s\tremaining: 1m 18s\n",
      "169:\tlearn: 0.6256390\ttotal: 16s\tremaining: 1m 18s\n",
      "170:\tlearn: 0.6255833\ttotal: 16.1s\tremaining: 1m 17s\n",
      "171:\tlearn: 0.6254983\ttotal: 16.2s\tremaining: 1m 17s\n",
      "172:\tlearn: 0.6254777\ttotal: 16.3s\tremaining: 1m 17s\n",
      "173:\tlearn: 0.6254026\ttotal: 16.3s\tremaining: 1m 17s\n",
      "174:\tlearn: 0.6253703\ttotal: 16.4s\tremaining: 1m 17s\n",
      "175:\tlearn: 0.6252314\ttotal: 16.5s\tremaining: 1m 17s\n",
      "176:\tlearn: 0.6252165\ttotal: 16.6s\tremaining: 1m 17s\n",
      "177:\tlearn: 0.6251931\ttotal: 16.7s\tremaining: 1m 17s\n",
      "178:\tlearn: 0.6251624\ttotal: 16.8s\tremaining: 1m 17s\n",
      "179:\tlearn: 0.6251465\ttotal: 16.9s\tremaining: 1m 16s\n",
      "180:\tlearn: 0.6250773\ttotal: 17s\tremaining: 1m 16s\n",
      "181:\tlearn: 0.6250304\ttotal: 17.1s\tremaining: 1m 16s\n",
      "182:\tlearn: 0.6249240\ttotal: 17.2s\tremaining: 1m 16s\n",
      "183:\tlearn: 0.6249099\ttotal: 17.2s\tremaining: 1m 16s\n",
      "184:\tlearn: 0.6248231\ttotal: 17.3s\tremaining: 1m 16s\n",
      "185:\tlearn: 0.6248182\ttotal: 17.4s\tremaining: 1m 16s\n",
      "186:\tlearn: 0.6247626\ttotal: 17.5s\tremaining: 1m 16s\n",
      "187:\tlearn: 0.6247500\ttotal: 17.6s\tremaining: 1m 15s\n",
      "188:\tlearn: 0.6247461\ttotal: 17.6s\tremaining: 1m 15s\n",
      "189:\tlearn: 0.6246369\ttotal: 17.7s\tremaining: 1m 15s\n",
      "190:\tlearn: 0.6245226\ttotal: 17.8s\tremaining: 1m 15s\n",
      "191:\tlearn: 0.6245179\ttotal: 17.9s\tremaining: 1m 15s\n",
      "192:\tlearn: 0.6245042\ttotal: 18s\tremaining: 1m 15s\n",
      "193:\tlearn: 0.6244946\ttotal: 18s\tremaining: 1m 14s\n",
      "194:\tlearn: 0.6244122\ttotal: 18.1s\tremaining: 1m 14s\n",
      "195:\tlearn: 0.6243595\ttotal: 18.2s\tremaining: 1m 14s\n",
      "196:\tlearn: 0.6243518\ttotal: 18.3s\tremaining: 1m 14s\n",
      "197:\tlearn: 0.6243234\ttotal: 18.4s\tremaining: 1m 14s\n",
      "198:\tlearn: 0.6242618\ttotal: 18.5s\tremaining: 1m 14s\n",
      "199:\tlearn: 0.6242391\ttotal: 18.6s\tremaining: 1m 14s\n",
      "200:\tlearn: 0.6242266\ttotal: 18.7s\tremaining: 1m 14s\n",
      "201:\tlearn: 0.6241183\ttotal: 18.8s\tremaining: 1m 14s\n",
      "202:\tlearn: 0.6240924\ttotal: 18.9s\tremaining: 1m 14s\n",
      "203:\tlearn: 0.6240253\ttotal: 18.9s\tremaining: 1m 13s\n",
      "204:\tlearn: 0.6239728\ttotal: 19s\tremaining: 1m 13s\n",
      "205:\tlearn: 0.6238416\ttotal: 19.1s\tremaining: 1m 13s\n",
      "206:\tlearn: 0.6238079\ttotal: 19.2s\tremaining: 1m 13s\n",
      "207:\tlearn: 0.6237209\ttotal: 19.3s\tremaining: 1m 13s\n",
      "208:\tlearn: 0.6236269\ttotal: 19.4s\tremaining: 1m 13s\n",
      "209:\tlearn: 0.6235912\ttotal: 19.5s\tremaining: 1m 13s\n",
      "210:\tlearn: 0.6235818\ttotal: 19.6s\tremaining: 1m 13s\n",
      "211:\tlearn: 0.6235194\ttotal: 19.7s\tremaining: 1m 13s\n",
      "212:\tlearn: 0.6234912\ttotal: 19.8s\tremaining: 1m 12s\n",
      "213:\tlearn: 0.6233824\ttotal: 19.8s\tremaining: 1m 12s\n",
      "214:\tlearn: 0.6233773\ttotal: 19.9s\tremaining: 1m 12s\n",
      "215:\tlearn: 0.6232951\ttotal: 20s\tremaining: 1m 12s\n",
      "216:\tlearn: 0.6232817\ttotal: 20.1s\tremaining: 1m 12s\n",
      "217:\tlearn: 0.6231605\ttotal: 20.2s\tremaining: 1m 12s\n",
      "218:\tlearn: 0.6230642\ttotal: 20.3s\tremaining: 1m 12s\n",
      "219:\tlearn: 0.6230559\ttotal: 20.4s\tremaining: 1m 12s\n",
      "220:\tlearn: 0.6230497\ttotal: 20.5s\tremaining: 1m 12s\n",
      "221:\tlearn: 0.6230323\ttotal: 20.6s\tremaining: 1m 12s\n",
      "222:\tlearn: 0.6230196\ttotal: 20.6s\tremaining: 1m 11s\n",
      "223:\tlearn: 0.6230133\ttotal: 20.7s\tremaining: 1m 11s\n",
      "224:\tlearn: 0.6229898\ttotal: 20.8s\tremaining: 1m 11s\n",
      "225:\tlearn: 0.6229791\ttotal: 20.9s\tremaining: 1m 11s\n",
      "226:\tlearn: 0.6229351\ttotal: 21s\tremaining: 1m 11s\n",
      "227:\tlearn: 0.6229236\ttotal: 21.1s\tremaining: 1m 11s\n",
      "228:\tlearn: 0.6229140\ttotal: 21.2s\tremaining: 1m 11s\n",
      "229:\tlearn: 0.6228856\ttotal: 21.3s\tremaining: 1m 11s\n",
      "230:\tlearn: 0.6228715\ttotal: 21.4s\tremaining: 1m 11s\n",
      "231:\tlearn: 0.6227309\ttotal: 21.4s\tremaining: 1m 11s\n",
      "232:\tlearn: 0.6225064\ttotal: 21.6s\tremaining: 1m 10s\n",
      "233:\tlearn: 0.6225029\ttotal: 21.6s\tremaining: 1m 10s\n",
      "234:\tlearn: 0.6224889\ttotal: 21.7s\tremaining: 1m 10s\n",
      "235:\tlearn: 0.6224786\ttotal: 21.8s\tremaining: 1m 10s\n",
      "236:\tlearn: 0.6223389\ttotal: 21.9s\tremaining: 1m 10s\n",
      "237:\tlearn: 0.6222174\ttotal: 22s\tremaining: 1m 10s\n",
      "238:\tlearn: 0.6221965\ttotal: 22.1s\tremaining: 1m 10s\n",
      "239:\tlearn: 0.6221695\ttotal: 22.2s\tremaining: 1m 10s\n",
      "240:\tlearn: 0.6221617\ttotal: 22.3s\tremaining: 1m 10s\n",
      "241:\tlearn: 0.6221199\ttotal: 22.4s\tremaining: 1m 10s\n",
      "242:\tlearn: 0.6221013\ttotal: 22.5s\tremaining: 1m 10s\n",
      "243:\tlearn: 0.6220984\ttotal: 22.5s\tremaining: 1m 9s\n",
      "244:\tlearn: 0.6220449\ttotal: 22.6s\tremaining: 1m 9s\n",
      "245:\tlearn: 0.6220314\ttotal: 22.7s\tremaining: 1m 9s\n",
      "246:\tlearn: 0.6220252\ttotal: 22.8s\tremaining: 1m 9s\n",
      "247:\tlearn: 0.6219882\ttotal: 22.9s\tremaining: 1m 9s\n",
      "248:\tlearn: 0.6219807\ttotal: 23s\tremaining: 1m 9s\n",
      "249:\tlearn: 0.6219460\ttotal: 23.1s\tremaining: 1m 9s\n",
      "250:\tlearn: 0.6219383\ttotal: 23.1s\tremaining: 1m 9s\n",
      "251:\tlearn: 0.6219356\ttotal: 23.2s\tremaining: 1m 8s\n",
      "252:\tlearn: 0.6219136\ttotal: 23.3s\tremaining: 1m 8s\n",
      "253:\tlearn: 0.6218807\ttotal: 23.4s\tremaining: 1m 8s\n",
      "254:\tlearn: 0.6218710\ttotal: 23.5s\tremaining: 1m 8s\n",
      "255:\tlearn: 0.6218685\ttotal: 23.5s\tremaining: 1m 8s\n",
      "256:\tlearn: 0.6218639\ttotal: 23.6s\tremaining: 1m 8s\n",
      "257:\tlearn: 0.6218380\ttotal: 23.7s\tremaining: 1m 8s\n",
      "258:\tlearn: 0.6217947\ttotal: 23.8s\tremaining: 1m 8s\n",
      "259:\tlearn: 0.6217231\ttotal: 23.9s\tremaining: 1m 8s\n",
      "260:\tlearn: 0.6217172\ttotal: 24s\tremaining: 1m 8s\n",
      "261:\tlearn: 0.6217124\ttotal: 24.1s\tremaining: 1m 7s\n",
      "262:\tlearn: 0.6216598\ttotal: 24.2s\tremaining: 1m 7s\n",
      "263:\tlearn: 0.6216171\ttotal: 24.3s\tremaining: 1m 7s\n",
      "264:\tlearn: 0.6216109\ttotal: 24.4s\tremaining: 1m 7s\n",
      "265:\tlearn: 0.6216084\ttotal: 24.4s\tremaining: 1m 7s\n",
      "266:\tlearn: 0.6215968\ttotal: 24.5s\tremaining: 1m 7s\n",
      "267:\tlearn: 0.6215903\ttotal: 24.6s\tremaining: 1m 7s\n",
      "268:\tlearn: 0.6215193\ttotal: 24.7s\tremaining: 1m 7s\n",
      "269:\tlearn: 0.6214904\ttotal: 24.8s\tremaining: 1m 7s\n",
      "270:\tlearn: 0.6214858\ttotal: 24.9s\tremaining: 1m 6s\n",
      "271:\tlearn: 0.6213721\ttotal: 25s\tremaining: 1m 6s\n",
      "272:\tlearn: 0.6213699\ttotal: 25.1s\tremaining: 1m 6s\n",
      "273:\tlearn: 0.6213461\ttotal: 25.1s\tremaining: 1m 6s\n",
      "274:\tlearn: 0.6213367\ttotal: 25.2s\tremaining: 1m 6s\n",
      "275:\tlearn: 0.6213028\ttotal: 25.3s\tremaining: 1m 6s\n",
      "276:\tlearn: 0.6212854\ttotal: 25.4s\tremaining: 1m 6s\n",
      "277:\tlearn: 0.6212797\ttotal: 25.5s\tremaining: 1m 6s\n",
      "278:\tlearn: 0.6212589\ttotal: 25.6s\tremaining: 1m 6s\n",
      "279:\tlearn: 0.6212086\ttotal: 25.7s\tremaining: 1m 6s\n",
      "280:\tlearn: 0.6210676\ttotal: 25.8s\tremaining: 1m 5s\n",
      "281:\tlearn: 0.6210636\ttotal: 25.9s\tremaining: 1m 5s\n",
      "282:\tlearn: 0.6210410\ttotal: 25.9s\tremaining: 1m 5s\n",
      "283:\tlearn: 0.6210398\ttotal: 26s\tremaining: 1m 5s\n",
      "284:\tlearn: 0.6210382\ttotal: 26.1s\tremaining: 1m 5s\n",
      "285:\tlearn: 0.6210341\ttotal: 26.2s\tremaining: 1m 5s\n",
      "286:\tlearn: 0.6209966\ttotal: 26.3s\tremaining: 1m 5s\n",
      "287:\tlearn: 0.6209783\ttotal: 26.4s\tremaining: 1m 5s\n",
      "288:\tlearn: 0.6209584\ttotal: 26.5s\tremaining: 1m 5s\n",
      "289:\tlearn: 0.6209399\ttotal: 26.6s\tremaining: 1m 5s\n",
      "290:\tlearn: 0.6208589\ttotal: 26.6s\tremaining: 1m 4s\n",
      "291:\tlearn: 0.6208569\ttotal: 26.7s\tremaining: 1m 4s\n",
      "292:\tlearn: 0.6208228\ttotal: 26.8s\tremaining: 1m 4s\n",
      "293:\tlearn: 0.6208194\ttotal: 26.9s\tremaining: 1m 4s\n",
      "294:\tlearn: 0.6208174\ttotal: 27s\tremaining: 1m 4s\n",
      "295:\tlearn: 0.6207700\ttotal: 27s\tremaining: 1m 4s\n",
      "296:\tlearn: 0.6207544\ttotal: 27.1s\tremaining: 1m 4s\n",
      "297:\tlearn: 0.6207525\ttotal: 27.2s\tremaining: 1m 4s\n",
      "298:\tlearn: 0.6207397\ttotal: 27.3s\tremaining: 1m 3s\n",
      "299:\tlearn: 0.6207163\ttotal: 27.4s\tremaining: 1m 3s\n",
      "300:\tlearn: 0.6207139\ttotal: 27.5s\tremaining: 1m 3s\n",
      "301:\tlearn: 0.6206896\ttotal: 27.5s\tremaining: 1m 3s\n",
      "302:\tlearn: 0.6206868\ttotal: 27.6s\tremaining: 1m 3s\n",
      "303:\tlearn: 0.6206773\ttotal: 27.7s\tremaining: 1m 3s\n",
      "304:\tlearn: 0.6206728\ttotal: 27.8s\tremaining: 1m 3s\n",
      "305:\tlearn: 0.6206402\ttotal: 27.9s\tremaining: 1m 3s\n",
      "306:\tlearn: 0.6206164\ttotal: 28s\tremaining: 1m 3s\n",
      "307:\tlearn: 0.6205366\ttotal: 28.1s\tremaining: 1m 3s\n",
      "308:\tlearn: 0.6205219\ttotal: 28.2s\tremaining: 1m 3s\n",
      "309:\tlearn: 0.6205179\ttotal: 28.3s\tremaining: 1m 2s\n",
      "310:\tlearn: 0.6204402\ttotal: 28.3s\tremaining: 1m 2s\n",
      "311:\tlearn: 0.6204104\ttotal: 28.4s\tremaining: 1m 2s\n",
      "312:\tlearn: 0.6203964\ttotal: 28.5s\tremaining: 1m 2s\n",
      "313:\tlearn: 0.6203922\ttotal: 28.6s\tremaining: 1m 2s\n",
      "314:\tlearn: 0.6203839\ttotal: 28.7s\tremaining: 1m 2s\n",
      "315:\tlearn: 0.6203805\ttotal: 28.8s\tremaining: 1m 2s\n",
      "316:\tlearn: 0.6202963\ttotal: 28.9s\tremaining: 1m 2s\n",
      "317:\tlearn: 0.6202643\ttotal: 29s\tremaining: 1m 2s\n",
      "318:\tlearn: 0.6202347\ttotal: 29.1s\tremaining: 1m 2s\n",
      "319:\tlearn: 0.6202280\ttotal: 29.1s\tremaining: 1m 1s\n",
      "320:\tlearn: 0.6202221\ttotal: 29.2s\tremaining: 1m 1s\n",
      "321:\tlearn: 0.6201926\ttotal: 29.3s\tremaining: 1m 1s\n",
      "322:\tlearn: 0.6201906\ttotal: 29.4s\tremaining: 1m 1s\n",
      "323:\tlearn: 0.6201455\ttotal: 29.5s\tremaining: 1m 1s\n",
      "324:\tlearn: 0.6201131\ttotal: 29.6s\tremaining: 1m 1s\n",
      "325:\tlearn: 0.6200650\ttotal: 29.7s\tremaining: 1m 1s\n",
      "326:\tlearn: 0.6200545\ttotal: 29.8s\tremaining: 1m 1s\n",
      "327:\tlearn: 0.6200532\ttotal: 29.9s\tremaining: 1m 1s\n",
      "328:\tlearn: 0.6200494\ttotal: 30s\tremaining: 1m 1s\n",
      "329:\tlearn: 0.6200356\ttotal: 30s\tremaining: 1m\n",
      "330:\tlearn: 0.6200284\ttotal: 30.1s\tremaining: 1m\n",
      "331:\tlearn: 0.6200265\ttotal: 30.2s\tremaining: 1m\n",
      "332:\tlearn: 0.6199923\ttotal: 30.3s\tremaining: 1m\n",
      "333:\tlearn: 0.6199907\ttotal: 30.4s\tremaining: 1m\n",
      "334:\tlearn: 0.6199525\ttotal: 30.5s\tremaining: 1m\n",
      "335:\tlearn: 0.6199478\ttotal: 30.5s\tremaining: 1m\n",
      "336:\tlearn: 0.6198191\ttotal: 30.6s\tremaining: 1m\n",
      "337:\tlearn: 0.6197370\ttotal: 30.7s\tremaining: 1m\n",
      "338:\tlearn: 0.6197354\ttotal: 30.8s\tremaining: 1m\n",
      "339:\tlearn: 0.6197336\ttotal: 30.9s\tremaining: 59.9s\n",
      "340:\tlearn: 0.6197318\ttotal: 31s\tremaining: 59.8s\n",
      "341:\tlearn: 0.6196595\ttotal: 31.1s\tremaining: 59.7s\n",
      "342:\tlearn: 0.6196581\ttotal: 31.1s\tremaining: 59.6s\n",
      "343:\tlearn: 0.6196309\ttotal: 31.2s\tremaining: 59.5s\n",
      "344:\tlearn: 0.6194260\ttotal: 31.3s\tremaining: 59.4s\n",
      "345:\tlearn: 0.6194223\ttotal: 31.4s\tremaining: 59.3s\n",
      "346:\tlearn: 0.6194211\ttotal: 31.5s\tremaining: 59.3s\n",
      "347:\tlearn: 0.6194136\ttotal: 31.6s\tremaining: 59.2s\n",
      "348:\tlearn: 0.6194120\ttotal: 31.7s\tremaining: 59.1s\n",
      "349:\tlearn: 0.6194010\ttotal: 31.8s\tremaining: 59s\n",
      "350:\tlearn: 0.6194000\ttotal: 31.8s\tremaining: 58.9s\n",
      "351:\tlearn: 0.6193882\ttotal: 31.9s\tremaining: 58.8s\n",
      "352:\tlearn: 0.6193733\ttotal: 32s\tremaining: 58.7s\n",
      "353:\tlearn: 0.6193621\ttotal: 32.1s\tremaining: 58.6s\n",
      "354:\tlearn: 0.6193608\ttotal: 32.2s\tremaining: 58.5s\n",
      "355:\tlearn: 0.6193003\ttotal: 32.3s\tremaining: 58.4s\n",
      "356:\tlearn: 0.6192818\ttotal: 32.4s\tremaining: 58.3s\n",
      "357:\tlearn: 0.6192743\ttotal: 32.5s\tremaining: 58.2s\n",
      "358:\tlearn: 0.6192628\ttotal: 32.5s\tremaining: 58.1s\n",
      "359:\tlearn: 0.6192504\ttotal: 32.6s\tremaining: 58s\n",
      "360:\tlearn: 0.6192424\ttotal: 32.7s\tremaining: 57.9s\n",
      "361:\tlearn: 0.6192406\ttotal: 32.8s\tremaining: 57.8s\n",
      "362:\tlearn: 0.6192383\ttotal: 32.9s\tremaining: 57.8s\n",
      "363:\tlearn: 0.6192342\ttotal: 33s\tremaining: 57.7s\n",
      "364:\tlearn: 0.6192044\ttotal: 33.1s\tremaining: 57.6s\n",
      "365:\tlearn: 0.6191805\ttotal: 33.2s\tremaining: 57.6s\n",
      "366:\tlearn: 0.6191751\ttotal: 33.3s\tremaining: 57.5s\n",
      "367:\tlearn: 0.6191675\ttotal: 33.4s\tremaining: 57.4s\n",
      "368:\tlearn: 0.6191614\ttotal: 33.5s\tremaining: 57.4s\n",
      "369:\tlearn: 0.6191597\ttotal: 33.6s\tremaining: 57.3s\n",
      "370:\tlearn: 0.6191553\ttotal: 33.7s\tremaining: 57.2s\n",
      "371:\tlearn: 0.6191073\ttotal: 33.8s\tremaining: 57.1s\n",
      "372:\tlearn: 0.6191060\ttotal: 33.9s\tremaining: 57s\n",
      "373:\tlearn: 0.6191035\ttotal: 34s\tremaining: 56.9s\n",
      "374:\tlearn: 0.6190943\ttotal: 34.1s\tremaining: 56.8s\n",
      "375:\tlearn: 0.6190935\ttotal: 34.2s\tremaining: 56.7s\n",
      "376:\tlearn: 0.6190914\ttotal: 34.2s\tremaining: 56.6s\n",
      "377:\tlearn: 0.6190880\ttotal: 34.3s\tremaining: 56.5s\n",
      "378:\tlearn: 0.6190873\ttotal: 34.4s\tremaining: 56.3s\n",
      "379:\tlearn: 0.6190774\ttotal: 34.5s\tremaining: 56.2s\n",
      "380:\tlearn: 0.6190564\ttotal: 34.6s\tremaining: 56.2s\n",
      "381:\tlearn: 0.6190490\ttotal: 34.7s\tremaining: 56.1s\n",
      "382:\tlearn: 0.6190447\ttotal: 34.8s\tremaining: 56s\n",
      "383:\tlearn: 0.6190438\ttotal: 34.8s\tremaining: 55.8s\n",
      "384:\tlearn: 0.6190418\ttotal: 34.9s\tremaining: 55.7s\n",
      "385:\tlearn: 0.6190138\ttotal: 35s\tremaining: 55.7s\n",
      "386:\tlearn: 0.6189805\ttotal: 35.1s\tremaining: 55.6s\n",
      "387:\tlearn: 0.6189721\ttotal: 35.2s\tremaining: 55.5s\n",
      "388:\tlearn: 0.6189713\ttotal: 35.2s\tremaining: 55.4s\n",
      "389:\tlearn: 0.6189706\ttotal: 35.3s\tremaining: 55.2s\n",
      "390:\tlearn: 0.6189176\ttotal: 35.4s\tremaining: 55.1s\n",
      "391:\tlearn: 0.6188810\ttotal: 35.5s\tremaining: 55s\n",
      "392:\tlearn: 0.6188804\ttotal: 35.6s\tremaining: 54.9s\n",
      "393:\tlearn: 0.6188775\ttotal: 35.6s\tremaining: 54.8s\n",
      "394:\tlearn: 0.6188648\ttotal: 35.7s\tremaining: 54.7s\n",
      "395:\tlearn: 0.6188510\ttotal: 35.8s\tremaining: 54.7s\n",
      "396:\tlearn: 0.6188502\ttotal: 35.9s\tremaining: 54.5s\n",
      "397:\tlearn: 0.6188492\ttotal: 36s\tremaining: 54.4s\n",
      "398:\tlearn: 0.6188472\ttotal: 36.1s\tremaining: 54.4s\n",
      "399:\tlearn: 0.6188458\ttotal: 36.2s\tremaining: 54.3s\n",
      "400:\tlearn: 0.6188437\ttotal: 36.3s\tremaining: 54.2s\n",
      "401:\tlearn: 0.6188258\ttotal: 36.4s\tremaining: 54.1s\n",
      "402:\tlearn: 0.6187259\ttotal: 36.5s\tremaining: 54s\n",
      "403:\tlearn: 0.6187170\ttotal: 36.5s\tremaining: 53.9s\n",
      "404:\tlearn: 0.6187116\ttotal: 36.6s\tremaining: 53.8s\n",
      "405:\tlearn: 0.6187046\ttotal: 36.7s\tremaining: 53.7s\n",
      "406:\tlearn: 0.6186576\ttotal: 36.8s\tremaining: 53.7s\n",
      "407:\tlearn: 0.6186566\ttotal: 36.9s\tremaining: 53.6s\n",
      "408:\tlearn: 0.6186561\ttotal: 37s\tremaining: 53.5s\n",
      "409:\tlearn: 0.6185646\ttotal: 37.1s\tremaining: 53.4s\n",
      "410:\tlearn: 0.6185069\ttotal: 37.2s\tremaining: 53.4s\n",
      "411:\tlearn: 0.6184799\ttotal: 37.3s\tremaining: 53.3s\n",
      "412:\tlearn: 0.6184398\ttotal: 37.4s\tremaining: 53.2s\n",
      "413:\tlearn: 0.6184199\ttotal: 37.5s\tremaining: 53.1s\n",
      "414:\tlearn: 0.6183926\ttotal: 37.6s\tremaining: 53s\n",
      "415:\tlearn: 0.6183914\ttotal: 37.7s\tremaining: 52.9s\n",
      "416:\tlearn: 0.6183911\ttotal: 37.8s\tremaining: 52.9s\n",
      "417:\tlearn: 0.6183894\ttotal: 37.9s\tremaining: 52.8s\n",
      "418:\tlearn: 0.6183357\ttotal: 38s\tremaining: 52.7s\n",
      "419:\tlearn: 0.6183267\ttotal: 38.1s\tremaining: 52.6s\n",
      "420:\tlearn: 0.6182724\ttotal: 38.2s\tremaining: 52.5s\n",
      "421:\tlearn: 0.6182717\ttotal: 38.3s\tremaining: 52.4s\n",
      "422:\tlearn: 0.6182652\ttotal: 38.4s\tremaining: 52.4s\n",
      "423:\tlearn: 0.6182108\ttotal: 38.5s\tremaining: 52.3s\n",
      "424:\tlearn: 0.6182096\ttotal: 38.6s\tremaining: 52.2s\n",
      "425:\tlearn: 0.6182043\ttotal: 38.7s\tremaining: 52.1s\n",
      "426:\tlearn: 0.6182001\ttotal: 38.8s\tremaining: 52s\n",
      "427:\tlearn: 0.6180839\ttotal: 38.9s\tremaining: 51.9s\n",
      "428:\tlearn: 0.6180807\ttotal: 39s\tremaining: 51.8s\n",
      "429:\tlearn: 0.6180740\ttotal: 39s\tremaining: 51.8s\n",
      "430:\tlearn: 0.6180478\ttotal: 39.1s\tremaining: 51.7s\n",
      "431:\tlearn: 0.6180391\ttotal: 39.2s\tremaining: 51.6s\n",
      "432:\tlearn: 0.6180330\ttotal: 39.3s\tremaining: 51.5s\n",
      "433:\tlearn: 0.6179591\ttotal: 39.5s\tremaining: 51.5s\n",
      "434:\tlearn: 0.6179547\ttotal: 39.5s\tremaining: 51.4s\n",
      "435:\tlearn: 0.6179518\ttotal: 39.6s\tremaining: 51.3s\n",
      "436:\tlearn: 0.6179432\ttotal: 39.7s\tremaining: 51.2s\n",
      "437:\tlearn: 0.6179323\ttotal: 39.9s\tremaining: 51.1s\n",
      "438:\tlearn: 0.6179253\ttotal: 39.9s\tremaining: 51.1s\n",
      "439:\tlearn: 0.6179215\ttotal: 40.1s\tremaining: 51s\n",
      "440:\tlearn: 0.6179132\ttotal: 40.1s\tremaining: 50.9s\n",
      "441:\tlearn: 0.6179059\ttotal: 40.2s\tremaining: 50.8s\n",
      "442:\tlearn: 0.6178991\ttotal: 40.3s\tremaining: 50.7s\n",
      "443:\tlearn: 0.6178309\ttotal: 40.4s\tremaining: 50.6s\n",
      "444:\tlearn: 0.6178168\ttotal: 40.5s\tremaining: 50.5s\n",
      "445:\tlearn: 0.6177231\ttotal: 40.6s\tremaining: 50.5s\n",
      "446:\tlearn: 0.6176844\ttotal: 40.7s\tremaining: 50.4s\n",
      "447:\tlearn: 0.6176789\ttotal: 40.8s\tremaining: 50.3s\n",
      "448:\tlearn: 0.6176757\ttotal: 40.9s\tremaining: 50.2s\n",
      "449:\tlearn: 0.6176406\ttotal: 41s\tremaining: 50.1s\n",
      "450:\tlearn: 0.6176340\ttotal: 41.1s\tremaining: 50s\n",
      "451:\tlearn: 0.6176297\ttotal: 41.2s\tremaining: 49.9s\n",
      "452:\tlearn: 0.6176223\ttotal: 41.3s\tremaining: 49.8s\n",
      "453:\tlearn: 0.6176200\ttotal: 41.3s\tremaining: 49.7s\n",
      "454:\tlearn: 0.6175644\ttotal: 41.4s\tremaining: 49.6s\n",
      "455:\tlearn: 0.6175527\ttotal: 41.5s\tremaining: 49.5s\n",
      "456:\tlearn: 0.6175452\ttotal: 41.6s\tremaining: 49.5s\n",
      "457:\tlearn: 0.6174739\ttotal: 41.7s\tremaining: 49.4s\n",
      "458:\tlearn: 0.6174723\ttotal: 41.8s\tremaining: 49.3s\n",
      "459:\tlearn: 0.6174651\ttotal: 41.9s\tremaining: 49.2s\n",
      "460:\tlearn: 0.6174644\ttotal: 42s\tremaining: 49.1s\n",
      "461:\tlearn: 0.6174616\ttotal: 42.1s\tremaining: 49s\n",
      "462:\tlearn: 0.6174558\ttotal: 42.2s\tremaining: 48.9s\n",
      "463:\tlearn: 0.6174543\ttotal: 42.3s\tremaining: 48.8s\n",
      "464:\tlearn: 0.6174500\ttotal: 42.4s\tremaining: 48.8s\n",
      "465:\tlearn: 0.6174491\ttotal: 42.5s\tremaining: 48.7s\n",
      "466:\tlearn: 0.6174418\ttotal: 42.6s\tremaining: 48.6s\n",
      "467:\tlearn: 0.6174377\ttotal: 42.7s\tremaining: 48.5s\n",
      "468:\tlearn: 0.6174059\ttotal: 42.8s\tremaining: 48.4s\n",
      "469:\tlearn: 0.6174041\ttotal: 42.8s\tremaining: 48.3s\n",
      "470:\tlearn: 0.6174006\ttotal: 42.9s\tremaining: 48.2s\n",
      "471:\tlearn: 0.6173929\ttotal: 43s\tremaining: 48.1s\n",
      "472:\tlearn: 0.6173904\ttotal: 43.1s\tremaining: 48.1s\n",
      "473:\tlearn: 0.6173827\ttotal: 43.2s\tremaining: 48s\n",
      "474:\tlearn: 0.6173182\ttotal: 43.3s\tremaining: 47.9s\n",
      "475:\tlearn: 0.6173153\ttotal: 43.4s\tremaining: 47.8s\n",
      "476:\tlearn: 0.6173067\ttotal: 43.5s\tremaining: 47.7s\n",
      "477:\tlearn: 0.6173016\ttotal: 43.6s\tremaining: 47.7s\n",
      "478:\tlearn: 0.6172973\ttotal: 43.7s\tremaining: 47.6s\n",
      "479:\tlearn: 0.6172964\ttotal: 43.8s\tremaining: 47.5s\n",
      "480:\tlearn: 0.6172954\ttotal: 43.9s\tremaining: 47.4s\n",
      "481:\tlearn: 0.6172920\ttotal: 44s\tremaining: 47.3s\n",
      "482:\tlearn: 0.6172891\ttotal: 44.1s\tremaining: 47.2s\n",
      "483:\tlearn: 0.6172863\ttotal: 44.2s\tremaining: 47.2s\n",
      "484:\tlearn: 0.6171840\ttotal: 44.3s\tremaining: 47.1s\n",
      "485:\tlearn: 0.6171827\ttotal: 44.4s\tremaining: 47s\n",
      "486:\tlearn: 0.6171236\ttotal: 44.5s\tremaining: 46.9s\n",
      "487:\tlearn: 0.6171183\ttotal: 44.7s\tremaining: 46.9s\n",
      "488:\tlearn: 0.6171096\ttotal: 44.8s\tremaining: 46.8s\n",
      "489:\tlearn: 0.6171041\ttotal: 44.9s\tremaining: 46.7s\n",
      "490:\tlearn: 0.6170561\ttotal: 45s\tremaining: 46.7s\n",
      "491:\tlearn: 0.6170530\ttotal: 45.1s\tremaining: 46.6s\n",
      "492:\tlearn: 0.6170516\ttotal: 45.2s\tremaining: 46.5s\n",
      "493:\tlearn: 0.6170443\ttotal: 45.3s\tremaining: 46.4s\n",
      "494:\tlearn: 0.6168903\ttotal: 45.4s\tremaining: 46.4s\n",
      "495:\tlearn: 0.6168853\ttotal: 45.5s\tremaining: 46.3s\n",
      "496:\tlearn: 0.6168824\ttotal: 45.7s\tremaining: 46.2s\n",
      "497:\tlearn: 0.6168792\ttotal: 45.8s\tremaining: 46.1s\n",
      "498:\tlearn: 0.6168740\ttotal: 45.9s\tremaining: 46s\n",
      "499:\tlearn: 0.6168207\ttotal: 46s\tremaining: 46s\n",
      "500:\tlearn: 0.6168091\ttotal: 46.1s\tremaining: 45.9s\n",
      "501:\tlearn: 0.6168034\ttotal: 46.2s\tremaining: 45.8s\n",
      "502:\tlearn: 0.6167275\ttotal: 46.3s\tremaining: 45.7s\n",
      "503:\tlearn: 0.6167176\ttotal: 46.4s\tremaining: 45.7s\n",
      "504:\tlearn: 0.6166955\ttotal: 46.5s\tremaining: 45.6s\n",
      "505:\tlearn: 0.6166819\ttotal: 46.6s\tremaining: 45.5s\n",
      "506:\tlearn: 0.6166805\ttotal: 46.7s\tremaining: 45.5s\n",
      "507:\tlearn: 0.6166664\ttotal: 46.9s\tremaining: 45.4s\n",
      "508:\tlearn: 0.6166609\ttotal: 46.9s\tremaining: 45.3s\n",
      "509:\tlearn: 0.6166232\ttotal: 47.1s\tremaining: 45.2s\n",
      "510:\tlearn: 0.6166089\ttotal: 47.2s\tremaining: 45.1s\n",
      "511:\tlearn: 0.6165970\ttotal: 47.3s\tremaining: 45.1s\n",
      "512:\tlearn: 0.6165912\ttotal: 47.4s\tremaining: 45s\n",
      "513:\tlearn: 0.6165850\ttotal: 47.5s\tremaining: 44.9s\n",
      "514:\tlearn: 0.6165758\ttotal: 47.6s\tremaining: 44.8s\n",
      "515:\tlearn: 0.6165705\ttotal: 47.7s\tremaining: 44.7s\n",
      "516:\tlearn: 0.6165433\ttotal: 47.7s\tremaining: 44.6s\n",
      "517:\tlearn: 0.6165313\ttotal: 47.8s\tremaining: 44.5s\n",
      "518:\tlearn: 0.6165208\ttotal: 47.9s\tremaining: 44.4s\n",
      "519:\tlearn: 0.6165121\ttotal: 48s\tremaining: 44.3s\n",
      "520:\tlearn: 0.6164870\ttotal: 48.1s\tremaining: 44.2s\n",
      "521:\tlearn: 0.6164782\ttotal: 48.2s\tremaining: 44.1s\n",
      "522:\tlearn: 0.6164571\ttotal: 48.3s\tremaining: 44.1s\n",
      "523:\tlearn: 0.6164537\ttotal: 48.4s\tremaining: 44s\n",
      "524:\tlearn: 0.6164439\ttotal: 48.5s\tremaining: 43.9s\n",
      "525:\tlearn: 0.6164343\ttotal: 48.6s\tremaining: 43.8s\n",
      "526:\tlearn: 0.6164154\ttotal: 48.7s\tremaining: 43.7s\n",
      "527:\tlearn: 0.6164117\ttotal: 48.8s\tremaining: 43.6s\n",
      "528:\tlearn: 0.6164073\ttotal: 48.8s\tremaining: 43.5s\n",
      "529:\tlearn: 0.6163956\ttotal: 48.9s\tremaining: 43.4s\n",
      "530:\tlearn: 0.6163725\ttotal: 49s\tremaining: 43.3s\n",
      "531:\tlearn: 0.6162735\ttotal: 49.1s\tremaining: 43.2s\n",
      "532:\tlearn: 0.6162659\ttotal: 49.2s\tremaining: 43.1s\n",
      "533:\tlearn: 0.6162652\ttotal: 49.3s\tremaining: 43s\n",
      "534:\tlearn: 0.6162646\ttotal: 49.4s\tremaining: 43s\n",
      "535:\tlearn: 0.6162616\ttotal: 49.5s\tremaining: 42.9s\n",
      "536:\tlearn: 0.6162540\ttotal: 49.6s\tremaining: 42.8s\n",
      "537:\tlearn: 0.6162491\ttotal: 49.7s\tremaining: 42.7s\n",
      "538:\tlearn: 0.6162329\ttotal: 49.8s\tremaining: 42.6s\n",
      "539:\tlearn: 0.6162317\ttotal: 49.9s\tremaining: 42.5s\n",
      "540:\tlearn: 0.6162116\ttotal: 50s\tremaining: 42.4s\n",
      "541:\tlearn: 0.6162092\ttotal: 50.1s\tremaining: 42.3s\n",
      "542:\tlearn: 0.6162053\ttotal: 50.2s\tremaining: 42.2s\n",
      "543:\tlearn: 0.6161951\ttotal: 50.3s\tremaining: 42.1s\n",
      "544:\tlearn: 0.6161882\ttotal: 50.4s\tremaining: 42s\n",
      "545:\tlearn: 0.6161867\ttotal: 50.5s\tremaining: 42s\n",
      "546:\tlearn: 0.6161851\ttotal: 50.6s\tremaining: 41.9s\n",
      "547:\tlearn: 0.6161783\ttotal: 50.6s\tremaining: 41.8s\n",
      "548:\tlearn: 0.6161775\ttotal: 50.7s\tremaining: 41.7s\n",
      "549:\tlearn: 0.6160827\ttotal: 50.8s\tremaining: 41.6s\n",
      "550:\tlearn: 0.6160764\ttotal: 50.9s\tremaining: 41.5s\n",
      "551:\tlearn: 0.6160481\ttotal: 51s\tremaining: 41.4s\n",
      "552:\tlearn: 0.6160465\ttotal: 51.1s\tremaining: 41.3s\n",
      "553:\tlearn: 0.6160436\ttotal: 51.2s\tremaining: 41.2s\n",
      "554:\tlearn: 0.6160426\ttotal: 51.3s\tremaining: 41.1s\n",
      "555:\tlearn: 0.6160363\ttotal: 51.4s\tremaining: 41s\n",
      "556:\tlearn: 0.6159526\ttotal: 51.5s\tremaining: 41s\n",
      "557:\tlearn: 0.6159512\ttotal: 51.6s\tremaining: 40.9s\n",
      "558:\tlearn: 0.6159447\ttotal: 51.7s\tremaining: 40.8s\n",
      "559:\tlearn: 0.6159437\ttotal: 51.8s\tremaining: 40.7s\n",
      "560:\tlearn: 0.6159421\ttotal: 51.9s\tremaining: 40.6s\n",
      "561:\tlearn: 0.6159399\ttotal: 52s\tremaining: 40.5s\n",
      "562:\tlearn: 0.6159391\ttotal: 52.1s\tremaining: 40.4s\n",
      "563:\tlearn: 0.6159270\ttotal: 52.2s\tremaining: 40.3s\n",
      "564:\tlearn: 0.6159261\ttotal: 52.3s\tremaining: 40.2s\n",
      "565:\tlearn: 0.6159100\ttotal: 52.4s\tremaining: 40.1s\n",
      "566:\tlearn: 0.6159080\ttotal: 52.5s\tremaining: 40.1s\n",
      "567:\tlearn: 0.6159062\ttotal: 52.5s\tremaining: 40s\n",
      "568:\tlearn: 0.6159020\ttotal: 52.6s\tremaining: 39.9s\n",
      "569:\tlearn: 0.6159011\ttotal: 52.7s\tremaining: 39.8s\n",
      "570:\tlearn: 0.6158943\ttotal: 52.8s\tremaining: 39.7s\n",
      "571:\tlearn: 0.6158712\ttotal: 52.9s\tremaining: 39.6s\n",
      "572:\tlearn: 0.6158658\ttotal: 53s\tremaining: 39.5s\n",
      "573:\tlearn: 0.6158562\ttotal: 53.1s\tremaining: 39.4s\n",
      "574:\tlearn: 0.6158520\ttotal: 53.2s\tremaining: 39.3s\n",
      "575:\tlearn: 0.6158388\ttotal: 53.3s\tremaining: 39.2s\n",
      "576:\tlearn: 0.6158385\ttotal: 53.4s\tremaining: 39.1s\n",
      "577:\tlearn: 0.6158252\ttotal: 53.5s\tremaining: 39s\n",
      "578:\tlearn: 0.6157981\ttotal: 53.6s\tremaining: 38.9s\n",
      "579:\tlearn: 0.6157949\ttotal: 53.7s\tremaining: 38.9s\n",
      "580:\tlearn: 0.6157902\ttotal: 53.7s\tremaining: 38.8s\n",
      "581:\tlearn: 0.6157679\ttotal: 53.9s\tremaining: 38.7s\n",
      "582:\tlearn: 0.6157520\ttotal: 53.9s\tremaining: 38.6s\n",
      "583:\tlearn: 0.6156355\ttotal: 54s\tremaining: 38.5s\n",
      "584:\tlearn: 0.6156344\ttotal: 54.1s\tremaining: 38.4s\n",
      "585:\tlearn: 0.6155397\ttotal: 54.2s\tremaining: 38.3s\n",
      "586:\tlearn: 0.6155389\ttotal: 54.3s\tremaining: 38.2s\n",
      "587:\tlearn: 0.6154560\ttotal: 54.4s\tremaining: 38.1s\n",
      "588:\tlearn: 0.6154553\ttotal: 54.5s\tremaining: 38s\n",
      "589:\tlearn: 0.6153633\ttotal: 54.6s\tremaining: 37.9s\n",
      "590:\tlearn: 0.6153266\ttotal: 54.7s\tremaining: 37.9s\n",
      "591:\tlearn: 0.6153218\ttotal: 54.8s\tremaining: 37.8s\n",
      "592:\tlearn: 0.6151915\ttotal: 54.9s\tremaining: 37.7s\n",
      "593:\tlearn: 0.6150478\ttotal: 55s\tremaining: 37.6s\n",
      "594:\tlearn: 0.6150434\ttotal: 55.1s\tremaining: 37.5s\n",
      "595:\tlearn: 0.6150423\ttotal: 55.2s\tremaining: 37.4s\n",
      "596:\tlearn: 0.6150356\ttotal: 55.3s\tremaining: 37.3s\n",
      "597:\tlearn: 0.6150193\ttotal: 55.4s\tremaining: 37.2s\n",
      "598:\tlearn: 0.6149889\ttotal: 55.5s\tremaining: 37.1s\n",
      "599:\tlearn: 0.6149720\ttotal: 55.5s\tremaining: 37s\n",
      "600:\tlearn: 0.6149659\ttotal: 55.6s\tremaining: 36.9s\n",
      "601:\tlearn: 0.6149542\ttotal: 55.7s\tremaining: 36.8s\n",
      "602:\tlearn: 0.6149354\ttotal: 55.8s\tremaining: 36.8s\n",
      "603:\tlearn: 0.6148132\ttotal: 55.9s\tremaining: 36.7s\n",
      "604:\tlearn: 0.6148077\ttotal: 56s\tremaining: 36.6s\n",
      "605:\tlearn: 0.6147466\ttotal: 56.1s\tremaining: 36.5s\n",
      "606:\tlearn: 0.6147357\ttotal: 56.2s\tremaining: 36.4s\n",
      "607:\tlearn: 0.6147315\ttotal: 56.3s\tremaining: 36.3s\n",
      "608:\tlearn: 0.6147263\ttotal: 56.4s\tremaining: 36.2s\n",
      "609:\tlearn: 0.6146593\ttotal: 56.5s\tremaining: 36.1s\n",
      "610:\tlearn: 0.6146524\ttotal: 56.6s\tremaining: 36s\n",
      "611:\tlearn: 0.6146428\ttotal: 56.7s\tremaining: 35.9s\n",
      "612:\tlearn: 0.6146284\ttotal: 56.8s\tremaining: 35.8s\n",
      "613:\tlearn: 0.6146247\ttotal: 56.9s\tremaining: 35.7s\n",
      "614:\tlearn: 0.6146175\ttotal: 56.9s\tremaining: 35.6s\n",
      "615:\tlearn: 0.6145867\ttotal: 57s\tremaining: 35.6s\n",
      "616:\tlearn: 0.6145819\ttotal: 57.1s\tremaining: 35.5s\n",
      "617:\tlearn: 0.6145695\ttotal: 57.2s\tremaining: 35.4s\n",
      "618:\tlearn: 0.6145622\ttotal: 57.3s\tremaining: 35.3s\n",
      "619:\tlearn: 0.6145548\ttotal: 57.4s\tremaining: 35.2s\n",
      "620:\tlearn: 0.6145506\ttotal: 57.5s\tremaining: 35.1s\n",
      "621:\tlearn: 0.6145500\ttotal: 57.6s\tremaining: 35s\n",
      "622:\tlearn: 0.6145048\ttotal: 57.7s\tremaining: 34.9s\n",
      "623:\tlearn: 0.6143970\ttotal: 57.8s\tremaining: 34.8s\n",
      "624:\tlearn: 0.6141639\ttotal: 57.9s\tremaining: 34.7s\n",
      "625:\tlearn: 0.6141527\ttotal: 58s\tremaining: 34.7s\n",
      "626:\tlearn: 0.6140933\ttotal: 58.1s\tremaining: 34.6s\n",
      "627:\tlearn: 0.6140774\ttotal: 58.2s\tremaining: 34.5s\n",
      "628:\tlearn: 0.6139442\ttotal: 58.3s\tremaining: 34.4s\n",
      "629:\tlearn: 0.6139303\ttotal: 58.4s\tremaining: 34.3s\n",
      "630:\tlearn: 0.6139280\ttotal: 58.5s\tremaining: 34.2s\n",
      "631:\tlearn: 0.6139227\ttotal: 58.6s\tremaining: 34.1s\n",
      "632:\tlearn: 0.6138799\ttotal: 58.7s\tremaining: 34s\n",
      "633:\tlearn: 0.6138706\ttotal: 58.8s\tremaining: 33.9s\n",
      "634:\tlearn: 0.6138621\ttotal: 58.9s\tremaining: 33.8s\n",
      "635:\tlearn: 0.6138583\ttotal: 59s\tremaining: 33.7s\n",
      "636:\tlearn: 0.6138531\ttotal: 59s\tremaining: 33.6s\n",
      "637:\tlearn: 0.6138034\ttotal: 59.1s\tremaining: 33.5s\n",
      "638:\tlearn: 0.6137979\ttotal: 59.2s\tremaining: 33.5s\n",
      "639:\tlearn: 0.6137966\ttotal: 59.3s\tremaining: 33.4s\n",
      "640:\tlearn: 0.6137894\ttotal: 59.4s\tremaining: 33.3s\n",
      "641:\tlearn: 0.6137114\ttotal: 59.5s\tremaining: 33.2s\n",
      "642:\tlearn: 0.6137071\ttotal: 59.6s\tremaining: 33.1s\n",
      "643:\tlearn: 0.6137020\ttotal: 59.7s\tremaining: 33s\n",
      "644:\tlearn: 0.6136745\ttotal: 59.8s\tremaining: 32.9s\n",
      "645:\tlearn: 0.6136711\ttotal: 59.9s\tremaining: 32.8s\n",
      "646:\tlearn: 0.6135610\ttotal: 60s\tremaining: 32.7s\n",
      "647:\tlearn: 0.6135450\ttotal: 1m\tremaining: 32.6s\n",
      "648:\tlearn: 0.6135370\ttotal: 1m\tremaining: 32.6s\n",
      "649:\tlearn: 0.6135308\ttotal: 1m\tremaining: 32.5s\n",
      "650:\tlearn: 0.6135216\ttotal: 1m\tremaining: 32.4s\n",
      "651:\tlearn: 0.6134060\ttotal: 1m\tremaining: 32.3s\n",
      "652:\tlearn: 0.6134027\ttotal: 1m\tremaining: 32.2s\n",
      "653:\tlearn: 0.6133931\ttotal: 1m\tremaining: 32.1s\n",
      "654:\tlearn: 0.6133906\ttotal: 1m\tremaining: 32s\n",
      "655:\tlearn: 0.6133852\ttotal: 1m\tremaining: 31.9s\n",
      "656:\tlearn: 0.6133830\ttotal: 1m\tremaining: 31.8s\n",
      "657:\tlearn: 0.6133766\ttotal: 1m 1s\tremaining: 31.7s\n",
      "658:\tlearn: 0.6133007\ttotal: 1m 1s\tremaining: 31.6s\n",
      "659:\tlearn: 0.6132902\ttotal: 1m 1s\tremaining: 31.5s\n",
      "660:\tlearn: 0.6132844\ttotal: 1m 1s\tremaining: 31.4s\n",
      "661:\tlearn: 0.6132134\ttotal: 1m 1s\tremaining: 31.3s\n",
      "662:\tlearn: 0.6131818\ttotal: 1m 1s\tremaining: 31.3s\n",
      "663:\tlearn: 0.6131805\ttotal: 1m 1s\tremaining: 31.2s\n",
      "664:\tlearn: 0.6131723\ttotal: 1m 1s\tremaining: 31.1s\n",
      "665:\tlearn: 0.6131425\ttotal: 1m 1s\tremaining: 31s\n",
      "666:\tlearn: 0.6131376\ttotal: 1m 1s\tremaining: 30.9s\n",
      "667:\tlearn: 0.6131334\ttotal: 1m 1s\tremaining: 30.8s\n",
      "668:\tlearn: 0.6131294\ttotal: 1m 2s\tremaining: 30.7s\n",
      "669:\tlearn: 0.6131036\ttotal: 1m 2s\tremaining: 30.6s\n",
      "670:\tlearn: 0.6131010\ttotal: 1m 2s\tremaining: 30.5s\n",
      "671:\tlearn: 0.6130757\ttotal: 1m 2s\tremaining: 30.4s\n",
      "672:\tlearn: 0.6130538\ttotal: 1m 2s\tremaining: 30.3s\n",
      "673:\tlearn: 0.6129897\ttotal: 1m 2s\tremaining: 30.2s\n",
      "674:\tlearn: 0.6129836\ttotal: 1m 2s\tremaining: 30.2s\n",
      "675:\tlearn: 0.6129815\ttotal: 1m 2s\tremaining: 30.1s\n",
      "676:\tlearn: 0.6129799\ttotal: 1m 2s\tremaining: 30s\n",
      "677:\tlearn: 0.6129500\ttotal: 1m 2s\tremaining: 29.9s\n",
      "678:\tlearn: 0.6128820\ttotal: 1m 2s\tremaining: 29.8s\n",
      "679:\tlearn: 0.6127892\ttotal: 1m 3s\tremaining: 29.7s\n",
      "680:\tlearn: 0.6127851\ttotal: 1m 3s\tremaining: 29.6s\n",
      "681:\tlearn: 0.6127806\ttotal: 1m 3s\tremaining: 29.5s\n",
      "682:\tlearn: 0.6127713\ttotal: 1m 3s\tremaining: 29.4s\n",
      "683:\tlearn: 0.6127518\ttotal: 1m 3s\tremaining: 29.3s\n",
      "684:\tlearn: 0.6127377\ttotal: 1m 3s\tremaining: 29.2s\n",
      "685:\tlearn: 0.6126835\ttotal: 1m 3s\tremaining: 29.1s\n",
      "686:\tlearn: 0.6126081\ttotal: 1m 3s\tremaining: 29s\n",
      "687:\tlearn: 0.6125930\ttotal: 1m 3s\tremaining: 29s\n",
      "688:\tlearn: 0.6125407\ttotal: 1m 3s\tremaining: 28.9s\n",
      "689:\tlearn: 0.6124974\ttotal: 1m 4s\tremaining: 28.8s\n",
      "690:\tlearn: 0.6123695\ttotal: 1m 4s\tremaining: 28.7s\n",
      "691:\tlearn: 0.6123450\ttotal: 1m 4s\tremaining: 28.6s\n",
      "692:\tlearn: 0.6123411\ttotal: 1m 4s\tremaining: 28.5s\n",
      "693:\tlearn: 0.6123339\ttotal: 1m 4s\tremaining: 28.4s\n",
      "694:\tlearn: 0.6123306\ttotal: 1m 4s\tremaining: 28.3s\n",
      "695:\tlearn: 0.6123296\ttotal: 1m 4s\tremaining: 28.2s\n",
      "696:\tlearn: 0.6123213\ttotal: 1m 4s\tremaining: 28.1s\n",
      "697:\tlearn: 0.6123194\ttotal: 1m 4s\tremaining: 28s\n",
      "698:\tlearn: 0.6122915\ttotal: 1m 4s\tremaining: 28s\n",
      "699:\tlearn: 0.6122290\ttotal: 1m 5s\tremaining: 27.9s\n",
      "700:\tlearn: 0.6121632\ttotal: 1m 5s\tremaining: 27.8s\n",
      "701:\tlearn: 0.6121604\ttotal: 1m 5s\tremaining: 27.7s\n",
      "702:\tlearn: 0.6121586\ttotal: 1m 5s\tremaining: 27.6s\n",
      "703:\tlearn: 0.6121161\ttotal: 1m 5s\tremaining: 27.5s\n",
      "704:\tlearn: 0.6120576\ttotal: 1m 5s\tremaining: 27.4s\n",
      "705:\tlearn: 0.6120523\ttotal: 1m 5s\tremaining: 27.3s\n",
      "706:\tlearn: 0.6120504\ttotal: 1m 5s\tremaining: 27.2s\n",
      "707:\tlearn: 0.6120457\ttotal: 1m 5s\tremaining: 27.1s\n",
      "708:\tlearn: 0.6119948\ttotal: 1m 5s\tremaining: 27s\n",
      "709:\tlearn: 0.6118978\ttotal: 1m 5s\tremaining: 26.9s\n",
      "710:\tlearn: 0.6118737\ttotal: 1m 6s\tremaining: 26.9s\n",
      "711:\tlearn: 0.6118693\ttotal: 1m 6s\tremaining: 26.8s\n",
      "712:\tlearn: 0.6118465\ttotal: 1m 6s\tremaining: 26.7s\n",
      "713:\tlearn: 0.6118296\ttotal: 1m 6s\tremaining: 26.6s\n",
      "714:\tlearn: 0.6118266\ttotal: 1m 6s\tremaining: 26.5s\n",
      "715:\tlearn: 0.6118253\ttotal: 1m 6s\tremaining: 26.4s\n",
      "716:\tlearn: 0.6118245\ttotal: 1m 6s\tremaining: 26.3s\n",
      "717:\tlearn: 0.6118184\ttotal: 1m 6s\tremaining: 26.2s\n",
      "718:\tlearn: 0.6118156\ttotal: 1m 6s\tremaining: 26.1s\n",
      "719:\tlearn: 0.6118101\ttotal: 1m 6s\tremaining: 26s\n",
      "720:\tlearn: 0.6116362\ttotal: 1m 7s\tremaining: 25.9s\n",
      "721:\tlearn: 0.6116285\ttotal: 1m 7s\tremaining: 25.9s\n",
      "722:\tlearn: 0.6116159\ttotal: 1m 7s\tremaining: 25.8s\n",
      "723:\tlearn: 0.6116095\ttotal: 1m 7s\tremaining: 25.7s\n",
      "724:\tlearn: 0.6116038\ttotal: 1m 7s\tremaining: 25.6s\n",
      "725:\tlearn: 0.6115162\ttotal: 1m 7s\tremaining: 25.5s\n",
      "726:\tlearn: 0.6114373\ttotal: 1m 7s\tremaining: 25.4s\n",
      "727:\tlearn: 0.6114277\ttotal: 1m 7s\tremaining: 25.3s\n",
      "728:\tlearn: 0.6114261\ttotal: 1m 7s\tremaining: 25.2s\n",
      "729:\tlearn: 0.6114248\ttotal: 1m 7s\tremaining: 25.1s\n",
      "730:\tlearn: 0.6113212\ttotal: 1m 7s\tremaining: 25s\n",
      "731:\tlearn: 0.6113101\ttotal: 1m 8s\tremaining: 24.9s\n",
      "732:\tlearn: 0.6111812\ttotal: 1m 8s\tremaining: 24.8s\n",
      "733:\tlearn: 0.6111689\ttotal: 1m 8s\tremaining: 24.7s\n",
      "734:\tlearn: 0.6109865\ttotal: 1m 8s\tremaining: 24.6s\n",
      "735:\tlearn: 0.6108480\ttotal: 1m 8s\tremaining: 24.6s\n",
      "736:\tlearn: 0.6108466\ttotal: 1m 8s\tremaining: 24.5s\n",
      "737:\tlearn: 0.6108427\ttotal: 1m 8s\tremaining: 24.4s\n",
      "738:\tlearn: 0.6108214\ttotal: 1m 8s\tremaining: 24.3s\n",
      "739:\tlearn: 0.6108196\ttotal: 1m 8s\tremaining: 24.2s\n",
      "740:\tlearn: 0.6108174\ttotal: 1m 8s\tremaining: 24.1s\n",
      "741:\tlearn: 0.6108127\ttotal: 1m 9s\tremaining: 24s\n",
      "742:\tlearn: 0.6107975\ttotal: 1m 9s\tremaining: 23.9s\n",
      "743:\tlearn: 0.6107870\ttotal: 1m 9s\tremaining: 23.8s\n",
      "744:\tlearn: 0.6107849\ttotal: 1m 9s\tremaining: 23.7s\n",
      "745:\tlearn: 0.6107781\ttotal: 1m 9s\tremaining: 23.6s\n",
      "746:\tlearn: 0.6107663\ttotal: 1m 9s\tremaining: 23.6s\n",
      "747:\tlearn: 0.6107389\ttotal: 1m 9s\tremaining: 23.5s\n",
      "748:\tlearn: 0.6107178\ttotal: 1m 9s\tremaining: 23.4s\n",
      "749:\tlearn: 0.6107146\ttotal: 1m 9s\tremaining: 23.3s\n",
      "750:\tlearn: 0.6107119\ttotal: 1m 9s\tremaining: 23.2s\n",
      "751:\tlearn: 0.6107106\ttotal: 1m 10s\tremaining: 23.1s\n",
      "752:\tlearn: 0.6105731\ttotal: 1m 10s\tremaining: 23s\n",
      "753:\tlearn: 0.6105103\ttotal: 1m 10s\tremaining: 22.9s\n",
      "754:\tlearn: 0.6105081\ttotal: 1m 10s\tremaining: 22.8s\n",
      "755:\tlearn: 0.6104697\ttotal: 1m 10s\tremaining: 22.7s\n",
      "756:\tlearn: 0.6104368\ttotal: 1m 10s\tremaining: 22.7s\n",
      "757:\tlearn: 0.6104353\ttotal: 1m 10s\tremaining: 22.6s\n",
      "758:\tlearn: 0.6104318\ttotal: 1m 10s\tremaining: 22.5s\n",
      "759:\tlearn: 0.6104254\ttotal: 1m 10s\tremaining: 22.4s\n",
      "760:\tlearn: 0.6104021\ttotal: 1m 10s\tremaining: 22.3s\n",
      "761:\tlearn: 0.6104003\ttotal: 1m 11s\tremaining: 22.2s\n",
      "762:\tlearn: 0.6103961\ttotal: 1m 11s\tremaining: 22.1s\n",
      "763:\tlearn: 0.6103877\ttotal: 1m 11s\tremaining: 22s\n",
      "764:\tlearn: 0.6103856\ttotal: 1m 11s\tremaining: 21.9s\n",
      "765:\tlearn: 0.6103109\ttotal: 1m 11s\tremaining: 21.8s\n",
      "766:\tlearn: 0.6103073\ttotal: 1m 11s\tremaining: 21.7s\n",
      "767:\tlearn: 0.6103048\ttotal: 1m 11s\tremaining: 21.6s\n",
      "768:\tlearn: 0.6102875\ttotal: 1m 11s\tremaining: 21.6s\n",
      "769:\tlearn: 0.6101860\ttotal: 1m 11s\tremaining: 21.5s\n",
      "770:\tlearn: 0.6101833\ttotal: 1m 11s\tremaining: 21.4s\n",
      "771:\tlearn: 0.6101807\ttotal: 1m 12s\tremaining: 21.3s\n",
      "772:\tlearn: 0.6101532\ttotal: 1m 12s\tremaining: 21.2s\n",
      "773:\tlearn: 0.6101384\ttotal: 1m 12s\tremaining: 21.1s\n",
      "774:\tlearn: 0.6100979\ttotal: 1m 12s\tremaining: 21s\n",
      "775:\tlearn: 0.6100958\ttotal: 1m 12s\tremaining: 20.9s\n",
      "776:\tlearn: 0.6100444\ttotal: 1m 12s\tremaining: 20.8s\n",
      "777:\tlearn: 0.6099947\ttotal: 1m 12s\tremaining: 20.7s\n",
      "778:\tlearn: 0.6099928\ttotal: 1m 12s\tremaining: 20.6s\n",
      "779:\tlearn: 0.6099821\ttotal: 1m 12s\tremaining: 20.5s\n",
      "780:\tlearn: 0.6099615\ttotal: 1m 12s\tremaining: 20.4s\n",
      "781:\tlearn: 0.6099370\ttotal: 1m 12s\tremaining: 20.3s\n",
      "782:\tlearn: 0.6099186\ttotal: 1m 13s\tremaining: 20.3s\n",
      "783:\tlearn: 0.6099149\ttotal: 1m 13s\tremaining: 20.2s\n",
      "784:\tlearn: 0.6099138\ttotal: 1m 13s\tremaining: 20.1s\n",
      "785:\tlearn: 0.6099104\ttotal: 1m 13s\tremaining: 20s\n",
      "786:\tlearn: 0.6099084\ttotal: 1m 13s\tremaining: 19.9s\n",
      "787:\tlearn: 0.6099066\ttotal: 1m 13s\tremaining: 19.8s\n",
      "788:\tlearn: 0.6098910\ttotal: 1m 13s\tremaining: 19.7s\n",
      "789:\tlearn: 0.6098730\ttotal: 1m 13s\tremaining: 19.6s\n",
      "790:\tlearn: 0.6098309\ttotal: 1m 13s\tremaining: 19.5s\n",
      "791:\tlearn: 0.6098267\ttotal: 1m 13s\tremaining: 19.4s\n",
      "792:\tlearn: 0.6098133\ttotal: 1m 14s\tremaining: 19.3s\n",
      "793:\tlearn: 0.6097509\ttotal: 1m 14s\tremaining: 19.2s\n",
      "794:\tlearn: 0.6097497\ttotal: 1m 14s\tremaining: 19.1s\n",
      "795:\tlearn: 0.6097393\ttotal: 1m 14s\tremaining: 19s\n",
      "796:\tlearn: 0.6097381\ttotal: 1m 14s\tremaining: 18.9s\n",
      "797:\tlearn: 0.6096800\ttotal: 1m 14s\tremaining: 18.9s\n",
      "798:\tlearn: 0.6096162\ttotal: 1m 14s\tremaining: 18.8s\n",
      "799:\tlearn: 0.6096115\ttotal: 1m 14s\tremaining: 18.7s\n",
      "800:\tlearn: 0.6096099\ttotal: 1m 14s\tremaining: 18.6s\n",
      "801:\tlearn: 0.6096077\ttotal: 1m 14s\tremaining: 18.5s\n",
      "802:\tlearn: 0.6096068\ttotal: 1m 14s\tremaining: 18.4s\n",
      "803:\tlearn: 0.6095854\ttotal: 1m 15s\tremaining: 18.3s\n",
      "804:\tlearn: 0.6095837\ttotal: 1m 15s\tremaining: 18.2s\n",
      "805:\tlearn: 0.6095823\ttotal: 1m 15s\tremaining: 18.1s\n",
      "806:\tlearn: 0.6095801\ttotal: 1m 15s\tremaining: 18s\n",
      "807:\tlearn: 0.6095787\ttotal: 1m 15s\tremaining: 17.9s\n",
      "808:\tlearn: 0.6095529\ttotal: 1m 15s\tremaining: 17.8s\n",
      "809:\tlearn: 0.6095508\ttotal: 1m 15s\tremaining: 17.7s\n",
      "810:\tlearn: 0.6095497\ttotal: 1m 15s\tremaining: 17.6s\n",
      "811:\tlearn: 0.6094750\ttotal: 1m 15s\tremaining: 17.6s\n",
      "812:\tlearn: 0.6094291\ttotal: 1m 15s\tremaining: 17.5s\n",
      "813:\tlearn: 0.6094274\ttotal: 1m 16s\tremaining: 17.4s\n",
      "814:\tlearn: 0.6094257\ttotal: 1m 16s\tremaining: 17.3s\n",
      "815:\tlearn: 0.6094143\ttotal: 1m 16s\tremaining: 17.2s\n",
      "816:\tlearn: 0.6094045\ttotal: 1m 16s\tremaining: 17.1s\n",
      "817:\tlearn: 0.6094035\ttotal: 1m 16s\tremaining: 17s\n",
      "818:\tlearn: 0.6094014\ttotal: 1m 16s\tremaining: 16.9s\n",
      "819:\tlearn: 0.6093994\ttotal: 1m 16s\tremaining: 16.8s\n",
      "820:\tlearn: 0.6093946\ttotal: 1m 16s\tremaining: 16.7s\n",
      "821:\tlearn: 0.6093336\ttotal: 1m 16s\tremaining: 16.6s\n",
      "822:\tlearn: 0.6093313\ttotal: 1m 16s\tremaining: 16.5s\n",
      "823:\tlearn: 0.6093297\ttotal: 1m 16s\tremaining: 16.4s\n",
      "824:\tlearn: 0.6093114\ttotal: 1m 17s\tremaining: 16.3s\n",
      "825:\tlearn: 0.6093079\ttotal: 1m 17s\tremaining: 16.3s\n",
      "826:\tlearn: 0.6093063\ttotal: 1m 17s\tremaining: 16.2s\n",
      "827:\tlearn: 0.6092911\ttotal: 1m 17s\tremaining: 16.1s\n",
      "828:\tlearn: 0.6092837\ttotal: 1m 17s\tremaining: 16s\n",
      "829:\tlearn: 0.6092682\ttotal: 1m 17s\tremaining: 15.9s\n",
      "830:\tlearn: 0.6092674\ttotal: 1m 17s\tremaining: 15.8s\n",
      "831:\tlearn: 0.6092651\ttotal: 1m 17s\tremaining: 15.7s\n",
      "832:\tlearn: 0.6092609\ttotal: 1m 17s\tremaining: 15.6s\n",
      "833:\tlearn: 0.6092600\ttotal: 1m 17s\tremaining: 15.5s\n",
      "834:\tlearn: 0.6092540\ttotal: 1m 17s\tremaining: 15.4s\n",
      "835:\tlearn: 0.6092492\ttotal: 1m 18s\tremaining: 15.3s\n",
      "836:\tlearn: 0.6092462\ttotal: 1m 18s\tremaining: 15.2s\n",
      "837:\tlearn: 0.6091365\ttotal: 1m 18s\tremaining: 15.1s\n",
      "838:\tlearn: 0.6091291\ttotal: 1m 18s\tremaining: 15s\n",
      "839:\tlearn: 0.6091282\ttotal: 1m 18s\tremaining: 14.9s\n",
      "840:\tlearn: 0.6091270\ttotal: 1m 18s\tremaining: 14.8s\n",
      "841:\tlearn: 0.6091257\ttotal: 1m 18s\tremaining: 14.8s\n",
      "842:\tlearn: 0.6090538\ttotal: 1m 18s\tremaining: 14.7s\n",
      "843:\tlearn: 0.6090331\ttotal: 1m 18s\tremaining: 14.6s\n",
      "844:\tlearn: 0.6090287\ttotal: 1m 18s\tremaining: 14.5s\n",
      "845:\tlearn: 0.6090270\ttotal: 1m 19s\tremaining: 14.4s\n",
      "846:\tlearn: 0.6090257\ttotal: 1m 19s\tremaining: 14.3s\n",
      "847:\tlearn: 0.6090247\ttotal: 1m 19s\tremaining: 14.2s\n",
      "848:\tlearn: 0.6089234\ttotal: 1m 19s\tremaining: 14.1s\n",
      "849:\tlearn: 0.6089187\ttotal: 1m 19s\tremaining: 14s\n",
      "850:\tlearn: 0.6089151\ttotal: 1m 19s\tremaining: 13.9s\n",
      "851:\tlearn: 0.6089086\ttotal: 1m 19s\tremaining: 13.8s\n",
      "852:\tlearn: 0.6088740\ttotal: 1m 19s\tremaining: 13.7s\n",
      "853:\tlearn: 0.6088201\ttotal: 1m 19s\tremaining: 13.6s\n",
      "854:\tlearn: 0.6088019\ttotal: 1m 19s\tremaining: 13.6s\n",
      "855:\tlearn: 0.6088012\ttotal: 1m 19s\tremaining: 13.5s\n",
      "856:\tlearn: 0.6088000\ttotal: 1m 20s\tremaining: 13.4s\n",
      "857:\tlearn: 0.6087993\ttotal: 1m 20s\tremaining: 13.3s\n",
      "858:\tlearn: 0.6087966\ttotal: 1m 20s\tremaining: 13.2s\n",
      "859:\tlearn: 0.6087885\ttotal: 1m 20s\tremaining: 13.1s\n",
      "860:\tlearn: 0.6087723\ttotal: 1m 20s\tremaining: 13s\n",
      "861:\tlearn: 0.6087696\ttotal: 1m 20s\tremaining: 12.9s\n",
      "862:\tlearn: 0.6087690\ttotal: 1m 20s\tremaining: 12.8s\n",
      "863:\tlearn: 0.6087677\ttotal: 1m 20s\tremaining: 12.7s\n",
      "864:\tlearn: 0.6087669\ttotal: 1m 20s\tremaining: 12.6s\n",
      "865:\tlearn: 0.6087642\ttotal: 1m 20s\tremaining: 12.5s\n",
      "866:\tlearn: 0.6087615\ttotal: 1m 21s\tremaining: 12.4s\n",
      "867:\tlearn: 0.6087588\ttotal: 1m 21s\tremaining: 12.3s\n",
      "868:\tlearn: 0.6087356\ttotal: 1m 21s\tremaining: 12.2s\n",
      "869:\tlearn: 0.6087319\ttotal: 1m 21s\tremaining: 12.2s\n",
      "870:\tlearn: 0.6087198\ttotal: 1m 21s\tremaining: 12.1s\n",
      "871:\tlearn: 0.6087192\ttotal: 1m 21s\tremaining: 12s\n",
      "872:\tlearn: 0.6087182\ttotal: 1m 21s\tremaining: 11.9s\n",
      "873:\tlearn: 0.6086783\ttotal: 1m 21s\tremaining: 11.8s\n",
      "874:\tlearn: 0.6086685\ttotal: 1m 21s\tremaining: 11.7s\n",
      "875:\tlearn: 0.6086663\ttotal: 1m 21s\tremaining: 11.6s\n",
      "876:\tlearn: 0.6085716\ttotal: 1m 21s\tremaining: 11.5s\n",
      "877:\tlearn: 0.6085643\ttotal: 1m 22s\tremaining: 11.4s\n",
      "878:\tlearn: 0.6085620\ttotal: 1m 22s\tremaining: 11.3s\n",
      "879:\tlearn: 0.6085613\ttotal: 1m 22s\tremaining: 11.2s\n",
      "880:\tlearn: 0.6085381\ttotal: 1m 22s\tremaining: 11.1s\n",
      "881:\tlearn: 0.6085124\ttotal: 1m 22s\tremaining: 11s\n",
      "882:\tlearn: 0.6085071\ttotal: 1m 22s\tremaining: 10.9s\n",
      "883:\tlearn: 0.6085060\ttotal: 1m 22s\tremaining: 10.8s\n",
      "884:\tlearn: 0.6085055\ttotal: 1m 22s\tremaining: 10.8s\n",
      "885:\tlearn: 0.6085030\ttotal: 1m 22s\tremaining: 10.7s\n",
      "886:\tlearn: 0.6085024\ttotal: 1m 22s\tremaining: 10.6s\n",
      "887:\tlearn: 0.6085006\ttotal: 1m 23s\tremaining: 10.5s\n",
      "888:\tlearn: 0.6084456\ttotal: 1m 23s\tremaining: 10.4s\n",
      "889:\tlearn: 0.6084442\ttotal: 1m 23s\tremaining: 10.3s\n",
      "890:\tlearn: 0.6084292\ttotal: 1m 23s\tremaining: 10.2s\n",
      "891:\tlearn: 0.6083992\ttotal: 1m 23s\tremaining: 10.1s\n",
      "892:\tlearn: 0.6083984\ttotal: 1m 23s\tremaining: 10s\n",
      "893:\tlearn: 0.6083967\ttotal: 1m 23s\tremaining: 9.91s\n",
      "894:\tlearn: 0.6083919\ttotal: 1m 23s\tremaining: 9.82s\n",
      "895:\tlearn: 0.6083904\ttotal: 1m 23s\tremaining: 9.72s\n",
      "896:\tlearn: 0.6083838\ttotal: 1m 23s\tremaining: 9.63s\n",
      "897:\tlearn: 0.6083814\ttotal: 1m 23s\tremaining: 9.54s\n",
      "898:\tlearn: 0.6083801\ttotal: 1m 24s\tremaining: 9.44s\n",
      "899:\tlearn: 0.6083773\ttotal: 1m 24s\tremaining: 9.35s\n",
      "900:\tlearn: 0.6083762\ttotal: 1m 24s\tremaining: 9.26s\n",
      "901:\tlearn: 0.6083632\ttotal: 1m 24s\tremaining: 9.16s\n",
      "902:\tlearn: 0.6083617\ttotal: 1m 24s\tremaining: 9.07s\n",
      "903:\tlearn: 0.6083587\ttotal: 1m 24s\tremaining: 8.98s\n",
      "904:\tlearn: 0.6083580\ttotal: 1m 24s\tremaining: 8.88s\n",
      "905:\tlearn: 0.6083458\ttotal: 1m 24s\tremaining: 8.79s\n",
      "906:\tlearn: 0.6083448\ttotal: 1m 24s\tremaining: 8.7s\n",
      "907:\tlearn: 0.6083420\ttotal: 1m 24s\tremaining: 8.6s\n",
      "908:\tlearn: 0.6083302\ttotal: 1m 24s\tremaining: 8.51s\n",
      "909:\tlearn: 0.6083025\ttotal: 1m 25s\tremaining: 8.41s\n",
      "910:\tlearn: 0.6083001\ttotal: 1m 25s\tremaining: 8.32s\n",
      "911:\tlearn: 0.6082951\ttotal: 1m 25s\tremaining: 8.23s\n",
      "912:\tlearn: 0.6082931\ttotal: 1m 25s\tremaining: 8.13s\n",
      "913:\tlearn: 0.6082858\ttotal: 1m 25s\tremaining: 8.04s\n",
      "914:\tlearn: 0.6082661\ttotal: 1m 25s\tremaining: 7.95s\n",
      "915:\tlearn: 0.6082295\ttotal: 1m 25s\tremaining: 7.86s\n",
      "916:\tlearn: 0.6082279\ttotal: 1m 25s\tremaining: 7.76s\n",
      "917:\tlearn: 0.6080291\ttotal: 1m 25s\tremaining: 7.67s\n",
      "918:\tlearn: 0.6080283\ttotal: 1m 25s\tremaining: 7.57s\n",
      "919:\tlearn: 0.6079755\ttotal: 1m 26s\tremaining: 7.48s\n",
      "920:\tlearn: 0.6079741\ttotal: 1m 26s\tremaining: 7.39s\n",
      "921:\tlearn: 0.6079629\ttotal: 1m 26s\tremaining: 7.29s\n",
      "922:\tlearn: 0.6079618\ttotal: 1m 26s\tremaining: 7.2s\n",
      "923:\tlearn: 0.6079488\ttotal: 1m 26s\tremaining: 7.11s\n",
      "924:\tlearn: 0.6079432\ttotal: 1m 26s\tremaining: 7.01s\n",
      "925:\tlearn: 0.6079281\ttotal: 1m 26s\tremaining: 6.92s\n",
      "926:\tlearn: 0.6079239\ttotal: 1m 26s\tremaining: 6.83s\n",
      "927:\tlearn: 0.6079105\ttotal: 1m 26s\tremaining: 6.73s\n",
      "928:\tlearn: 0.6079038\ttotal: 1m 26s\tremaining: 6.64s\n",
      "929:\tlearn: 0.6078076\ttotal: 1m 26s\tremaining: 6.55s\n",
      "930:\tlearn: 0.6078050\ttotal: 1m 27s\tremaining: 6.45s\n",
      "931:\tlearn: 0.6077990\ttotal: 1m 27s\tremaining: 6.36s\n",
      "932:\tlearn: 0.6077841\ttotal: 1m 27s\tremaining: 6.26s\n",
      "933:\tlearn: 0.6077711\ttotal: 1m 27s\tremaining: 6.17s\n",
      "934:\tlearn: 0.6077080\ttotal: 1m 27s\tremaining: 6.08s\n",
      "935:\tlearn: 0.6076688\ttotal: 1m 27s\tremaining: 5.99s\n",
      "936:\tlearn: 0.6076646\ttotal: 1m 27s\tremaining: 5.89s\n",
      "937:\tlearn: 0.6076516\ttotal: 1m 27s\tremaining: 5.8s\n",
      "938:\tlearn: 0.6075467\ttotal: 1m 27s\tremaining: 5.71s\n",
      "939:\tlearn: 0.6075299\ttotal: 1m 27s\tremaining: 5.61s\n",
      "940:\tlearn: 0.6075218\ttotal: 1m 28s\tremaining: 5.52s\n",
      "941:\tlearn: 0.6074969\ttotal: 1m 28s\tremaining: 5.42s\n",
      "942:\tlearn: 0.6074686\ttotal: 1m 28s\tremaining: 5.33s\n",
      "943:\tlearn: 0.6074590\ttotal: 1m 28s\tremaining: 5.24s\n",
      "944:\tlearn: 0.6074444\ttotal: 1m 28s\tremaining: 5.14s\n",
      "945:\tlearn: 0.6073064\ttotal: 1m 28s\tremaining: 5.05s\n",
      "946:\tlearn: 0.6072611\ttotal: 1m 28s\tremaining: 4.96s\n",
      "947:\tlearn: 0.6072065\ttotal: 1m 28s\tremaining: 4.86s\n",
      "948:\tlearn: 0.6071461\ttotal: 1m 28s\tremaining: 4.77s\n",
      "949:\tlearn: 0.6071227\ttotal: 1m 28s\tremaining: 4.68s\n",
      "950:\tlearn: 0.6070973\ttotal: 1m 28s\tremaining: 4.58s\n",
      "951:\tlearn: 0.6070727\ttotal: 1m 29s\tremaining: 4.49s\n",
      "952:\tlearn: 0.6070010\ttotal: 1m 29s\tremaining: 4.4s\n",
      "953:\tlearn: 0.6069882\ttotal: 1m 29s\tremaining: 4.3s\n",
      "954:\tlearn: 0.6068327\ttotal: 1m 29s\tremaining: 4.21s\n",
      "955:\tlearn: 0.6068225\ttotal: 1m 29s\tremaining: 4.12s\n",
      "956:\tlearn: 0.6067890\ttotal: 1m 29s\tremaining: 4.02s\n",
      "957:\tlearn: 0.6067100\ttotal: 1m 29s\tremaining: 3.93s\n",
      "958:\tlearn: 0.6067095\ttotal: 1m 29s\tremaining: 3.84s\n",
      "959:\tlearn: 0.6067085\ttotal: 1m 29s\tremaining: 3.74s\n",
      "960:\tlearn: 0.6066578\ttotal: 1m 29s\tremaining: 3.65s\n",
      "961:\tlearn: 0.6065490\ttotal: 1m 30s\tremaining: 3.56s\n",
      "962:\tlearn: 0.6065329\ttotal: 1m 30s\tremaining: 3.46s\n",
      "963:\tlearn: 0.6064938\ttotal: 1m 30s\tremaining: 3.37s\n",
      "964:\tlearn: 0.6064298\ttotal: 1m 30s\tremaining: 3.27s\n",
      "965:\tlearn: 0.6064147\ttotal: 1m 30s\tremaining: 3.18s\n",
      "966:\tlearn: 0.6064106\ttotal: 1m 30s\tremaining: 3.09s\n",
      "967:\tlearn: 0.6063993\ttotal: 1m 30s\tremaining: 2.99s\n",
      "968:\tlearn: 0.6063253\ttotal: 1m 30s\tremaining: 2.9s\n",
      "969:\tlearn: 0.6062866\ttotal: 1m 30s\tremaining: 2.81s\n",
      "970:\tlearn: 0.6062520\ttotal: 1m 30s\tremaining: 2.71s\n",
      "971:\tlearn: 0.6062353\ttotal: 1m 30s\tremaining: 2.62s\n",
      "972:\tlearn: 0.6061122\ttotal: 1m 31s\tremaining: 2.53s\n",
      "973:\tlearn: 0.6060632\ttotal: 1m 31s\tremaining: 2.43s\n",
      "974:\tlearn: 0.6060133\ttotal: 1m 31s\tremaining: 2.34s\n",
      "975:\tlearn: 0.6059975\ttotal: 1m 31s\tremaining: 2.25s\n",
      "976:\tlearn: 0.6059640\ttotal: 1m 31s\tremaining: 2.15s\n",
      "977:\tlearn: 0.6059474\ttotal: 1m 31s\tremaining: 2.06s\n",
      "978:\tlearn: 0.6059061\ttotal: 1m 31s\tremaining: 1.97s\n",
      "979:\tlearn: 0.6058397\ttotal: 1m 31s\tremaining: 1.87s\n",
      "980:\tlearn: 0.6057938\ttotal: 1m 31s\tremaining: 1.78s\n",
      "981:\tlearn: 0.6057814\ttotal: 1m 31s\tremaining: 1.68s\n",
      "982:\tlearn: 0.6057536\ttotal: 1m 32s\tremaining: 1.59s\n",
      "983:\tlearn: 0.6057223\ttotal: 1m 32s\tremaining: 1.5s\n",
      "984:\tlearn: 0.6057134\ttotal: 1m 32s\tremaining: 1.4s\n",
      "985:\tlearn: 0.6057056\ttotal: 1m 32s\tremaining: 1.31s\n",
      "986:\tlearn: 0.6056196\ttotal: 1m 32s\tremaining: 1.22s\n",
      "987:\tlearn: 0.6054783\ttotal: 1m 32s\tremaining: 1.12s\n",
      "988:\tlearn: 0.6053791\ttotal: 1m 32s\tremaining: 1.03s\n",
      "989:\tlearn: 0.6053711\ttotal: 1m 32s\tremaining: 936ms\n",
      "990:\tlearn: 0.6053683\ttotal: 1m 32s\tremaining: 843ms\n",
      "991:\tlearn: 0.6053643\ttotal: 1m 32s\tremaining: 749ms\n",
      "992:\tlearn: 0.6053273\ttotal: 1m 32s\tremaining: 655ms\n",
      "993:\tlearn: 0.6053109\ttotal: 1m 33s\tremaining: 562ms\n",
      "994:\tlearn: 0.6053034\ttotal: 1m 33s\tremaining: 468ms\n",
      "995:\tlearn: 0.6052990\ttotal: 1m 33s\tremaining: 375ms\n",
      "996:\tlearn: 0.6052592\ttotal: 1m 33s\tremaining: 281ms\n",
      "997:\tlearn: 0.6052533\ttotal: 1m 33s\tremaining: 187ms\n",
      "998:\tlearn: 0.6051414\ttotal: 1m 33s\tremaining: 93.6ms\n",
      "999:\tlearn: 0.6051236\ttotal: 1m 33s\tremaining: 0us\n"
     ]
    },
    {
     "data": {
      "text/plain": "<catboost.core.CatBoostClassifier at 0x18510aeb2d0>"
     },
     "execution_count": 276,
     "metadata": {},
     "output_type": "execute_result"
    }
   ],
   "source": [
    "catboost = CatBoostClassifier(task_type='GPU', devices='0', depth=8, loss_function='Logloss', class_weights=class_weights)\n",
    "catboost.fit(train.drop(columns=['target90']), train['target90'],\n",
    "             cat_features=['salutation', 'title', 'domain',\n",
    "                           'newsletter', 'model', 'paymenttype', 'deliverytype',\n",
    "                          'voucher', 'advertisingdatacode',\n",
    "                           'case', 'numberitems', 'gift', 'entry',\n",
    "                           'shippingcosts', 'creation_month'])"
   ],
   "metadata": {
    "collapsed": false,
    "ExecuteTime": {
     "end_time": "2024-05-19T15:38:28.660098Z",
     "start_time": "2024-05-19T15:36:53.929834200Z"
    }
   },
   "id": "9e47d0baeff593be",
   "execution_count": 276
  },
  {
   "cell_type": "code",
   "outputs": [],
   "source": [
    "def mmad_metric(y_true, y_pred):\n",
    "    result = []\n",
    "    for i in range(len(y_true)):\n",
    "        if y_pred[i] == 0:\n",
    "            result.append(0)\n",
    "        else:\n",
    "            if y_true.iloc[i] == 1:\n",
    "                result.append(-5)\n",
    "            else:\n",
    "                result.append(1.5)\n",
    "    return sum(result)"
   ],
   "metadata": {
    "collapsed": false,
    "ExecuteTime": {
     "end_time": "2024-05-19T15:36:16.844850400Z",
     "start_time": "2024-05-19T15:36:16.823261400Z"
    }
   },
   "id": "bcbccfdc719d71ac",
   "execution_count": 270
  },
  {
   "cell_type": "code",
   "outputs": [
    {
     "name": "stdout",
     "output_type": "stream",
     "text": [
      "0    6603\n",
      "1    1180\n",
      "Name: count, dtype: int64\n",
      "              precision    recall  f1-score   support\n",
      "\n",
      "           0       0.84      0.87      0.86      6317\n",
      "           1       0.33      0.27      0.29      1466\n",
      "\n",
      "    accuracy                           0.76      7783\n",
      "   macro avg       0.58      0.57      0.57      7783\n",
      "weighted avg       0.74      0.76      0.75      7783\n",
      "\n",
      "roc 0.5700651093942782\n",
      "mmad -758.5\n"
     ]
    }
   ],
   "source": [
    "from sklearn.metrics import roc_auc_score\n",
    "\n",
    "\n",
    "pred = catboost.predict(test.drop(columns=['target90']))\n",
    "print(pd.Series(pred).value_counts())\n",
    "print(classification_report(test['target90'], pred))\n",
    "print('roc',roc_auc_score(test['target90'], pred))\n",
    "print('mmad', mmad_metric(test['target90'], pred))"
   ],
   "metadata": {
    "collapsed": false,
    "ExecuteTime": {
     "end_time": "2024-05-19T15:36:16.950384400Z",
     "start_time": "2024-05-19T15:36:16.827302100Z"
    }
   },
   "id": "f7763a1418500745",
   "execution_count": 271
  },
  {
   "cell_type": "code",
   "outputs": [
    {
     "data": {
      "text/plain": "0    5544\n1     942\nName: count, dtype: int64"
     },
     "execution_count": 279,
     "metadata": {},
     "output_type": "execute_result"
    }
   ],
   "source": [
    "pred = catboost.predict(test)\n",
    "pd.Series(pred).value_counts()"
   ],
   "metadata": {
    "collapsed": false,
    "ExecuteTime": {
     "end_time": "2024-05-19T15:38:38.038541300Z",
     "start_time": "2024-05-19T15:38:37.977108100Z"
    }
   },
   "id": "e2768527455ef54a",
   "execution_count": 279
  },
  {
   "cell_type": "code",
   "outputs": [],
   "source": [
    "pd.Series(pred).to_csv('answer_boost.csv', index_label=False, index=False)"
   ],
   "metadata": {
    "collapsed": false,
    "ExecuteTime": {
     "end_time": "2024-05-19T15:39:55.697037Z",
     "start_time": "2024-05-19T15:39:55.685520200Z"
    }
   },
   "id": "71d81830975f036e",
   "execution_count": 283
  },
  {
   "cell_type": "code",
   "outputs": [],
   "source": [
    "update = pd.read_csv('Variant5_test.csv')\n",
    "update['predicted'] = pd.Series(pred)\n",
    "update = update.fillna('Unknown')\n",
    "update.to_csv('test_updated_nonan.csv', index=False)"
   ],
   "metadata": {
    "collapsed": false,
    "ExecuteTime": {
     "end_time": "2024-05-19T16:07:10.104485700Z",
     "start_time": "2024-05-19T16:07:10.010201900Z"
    }
   },
   "id": "306c65620f59c866",
   "execution_count": 286
  },
  {
   "cell_type": "code",
   "outputs": [
    {
     "name": "stdout",
     "output_type": "stream",
     "text": [
      "0    21924\n",
      "1     4019\n",
      "Name: count, dtype: int64\n",
      "              precision    recall  f1-score   support\n",
      "\n",
      "           0       0.85      0.88      0.86     21058\n",
      "           1       0.38      0.31      0.34      4885\n",
      "\n",
      "    accuracy                           0.77     25943\n",
      "   macro avg       0.61      0.60      0.60     25943\n",
      "weighted avg       0.76      0.77      0.77     25943\n",
      "\n",
      "roc 0.5964943778128798\n",
      "mmad -3864.5\n"
     ]
    }
   ],
   "source": [
    "pred = catboost.predict(train.drop(columns=['target90']))\n",
    "print(pd.Series(pred).value_counts())\n",
    "print(classification_report(train['target90'], pred))\n",
    "print('roc',roc_auc_score(train['target90'], pred))\n",
    "print('mmad', mmad_metric(train['target90'], pred))"
   ],
   "metadata": {
    "collapsed": false,
    "ExecuteTime": {
     "end_time": "2024-05-19T15:38:29.042254900Z",
     "start_time": "2024-05-19T15:38:28.730042700Z"
    }
   },
   "id": "1cf1a34327474f8",
   "execution_count": 278
  },
  {
   "cell_type": "code",
   "outputs": [
    {
     "data": {
      "text/plain": "    feature_importance             feature_names\n17            7.969819                      remi\n33            6.732425            creation_month\n11            6.598172               numberitems\n10            5.865785                      case\n9             5.789653       advertisingdatacode\n31            5.487606   delivery_creation_delta\n16            5.086962                    weight\n6             4.957665               paymenttype\n3             4.900110                    domain\n32            4.893591  delivery_prom_real_delta\n15            4.449682             shippingcosts\n5             4.398821                     model\n4             4.386572                newsletter\n1             4.075876                salutation\n8             3.871618                   voucher\n20            2.598957                        w0\n19            2.154081                      used\n21            1.826355                        w1\n27            1.752676                        w7\n7             1.706156              deliverytype\n30            1.493300                       w10\n22            1.422078                        w2\n23            1.414779                        w3\n25            1.397376                        w5\n29            1.357425                        w9\n18            1.298167                    cancel\n26            0.837998                        w6\n24            0.569108                        w4\n12            0.309060                      gift\n2             0.229500                     title\n13            0.165861                     entry\n28            0.002765                        w8\n14            0.000000                    points\n0             0.000000            customernumber",
      "text/html": "<div>\n<style scoped>\n    .dataframe tbody tr th:only-of-type {\n        vertical-align: middle;\n    }\n\n    .dataframe tbody tr th {\n        vertical-align: top;\n    }\n\n    .dataframe thead th {\n        text-align: right;\n    }\n</style>\n<table border=\"1\" class=\"dataframe\">\n  <thead>\n    <tr style=\"text-align: right;\">\n      <th></th>\n      <th>feature_importance</th>\n      <th>feature_names</th>\n    </tr>\n  </thead>\n  <tbody>\n    <tr>\n      <th>17</th>\n      <td>7.969819</td>\n      <td>remi</td>\n    </tr>\n    <tr>\n      <th>33</th>\n      <td>6.732425</td>\n      <td>creation_month</td>\n    </tr>\n    <tr>\n      <th>11</th>\n      <td>6.598172</td>\n      <td>numberitems</td>\n    </tr>\n    <tr>\n      <th>10</th>\n      <td>5.865785</td>\n      <td>case</td>\n    </tr>\n    <tr>\n      <th>9</th>\n      <td>5.789653</td>\n      <td>advertisingdatacode</td>\n    </tr>\n    <tr>\n      <th>31</th>\n      <td>5.487606</td>\n      <td>delivery_creation_delta</td>\n    </tr>\n    <tr>\n      <th>16</th>\n      <td>5.086962</td>\n      <td>weight</td>\n    </tr>\n    <tr>\n      <th>6</th>\n      <td>4.957665</td>\n      <td>paymenttype</td>\n    </tr>\n    <tr>\n      <th>3</th>\n      <td>4.900110</td>\n      <td>domain</td>\n    </tr>\n    <tr>\n      <th>32</th>\n      <td>4.893591</td>\n      <td>delivery_prom_real_delta</td>\n    </tr>\n    <tr>\n      <th>15</th>\n      <td>4.449682</td>\n      <td>shippingcosts</td>\n    </tr>\n    <tr>\n      <th>5</th>\n      <td>4.398821</td>\n      <td>model</td>\n    </tr>\n    <tr>\n      <th>4</th>\n      <td>4.386572</td>\n      <td>newsletter</td>\n    </tr>\n    <tr>\n      <th>1</th>\n      <td>4.075876</td>\n      <td>salutation</td>\n    </tr>\n    <tr>\n      <th>8</th>\n      <td>3.871618</td>\n      <td>voucher</td>\n    </tr>\n    <tr>\n      <th>20</th>\n      <td>2.598957</td>\n      <td>w0</td>\n    </tr>\n    <tr>\n      <th>19</th>\n      <td>2.154081</td>\n      <td>used</td>\n    </tr>\n    <tr>\n      <th>21</th>\n      <td>1.826355</td>\n      <td>w1</td>\n    </tr>\n    <tr>\n      <th>27</th>\n      <td>1.752676</td>\n      <td>w7</td>\n    </tr>\n    <tr>\n      <th>7</th>\n      <td>1.706156</td>\n      <td>deliverytype</td>\n    </tr>\n    <tr>\n      <th>30</th>\n      <td>1.493300</td>\n      <td>w10</td>\n    </tr>\n    <tr>\n      <th>22</th>\n      <td>1.422078</td>\n      <td>w2</td>\n    </tr>\n    <tr>\n      <th>23</th>\n      <td>1.414779</td>\n      <td>w3</td>\n    </tr>\n    <tr>\n      <th>25</th>\n      <td>1.397376</td>\n      <td>w5</td>\n    </tr>\n    <tr>\n      <th>29</th>\n      <td>1.357425</td>\n      <td>w9</td>\n    </tr>\n    <tr>\n      <th>18</th>\n      <td>1.298167</td>\n      <td>cancel</td>\n    </tr>\n    <tr>\n      <th>26</th>\n      <td>0.837998</td>\n      <td>w6</td>\n    </tr>\n    <tr>\n      <th>24</th>\n      <td>0.569108</td>\n      <td>w4</td>\n    </tr>\n    <tr>\n      <th>12</th>\n      <td>0.309060</td>\n      <td>gift</td>\n    </tr>\n    <tr>\n      <th>2</th>\n      <td>0.229500</td>\n      <td>title</td>\n    </tr>\n    <tr>\n      <th>13</th>\n      <td>0.165861</td>\n      <td>entry</td>\n    </tr>\n    <tr>\n      <th>28</th>\n      <td>0.002765</td>\n      <td>w8</td>\n    </tr>\n    <tr>\n      <th>14</th>\n      <td>0.000000</td>\n      <td>points</td>\n    </tr>\n    <tr>\n      <th>0</th>\n      <td>0.000000</td>\n      <td>customernumber</td>\n    </tr>\n  </tbody>\n</table>\n</div>"
     },
     "execution_count": 121,
     "metadata": {},
     "output_type": "execute_result"
    }
   ],
   "source": [
    "from catboost import Pool\n",
    "pd.DataFrame({'feature_importance': catboost.get_feature_importance(Pool(train.drop(columns=['target90']), train['target90'], cat_features=['salutation', 'title', 'domain',\n",
    "                           'newsletter', 'model', 'paymenttype', 'deliverytype',\n",
    "                          'voucher', 'advertisingdatacode',\n",
    "                           'case', 'numberitems', 'gift', 'entry',\n",
    "                           'shippingcosts', 'creation_month'])), \n",
    "              'feature_names': train.drop(columns=['target90']).columns}).sort_values(by=['feature_importance'], \n",
    "                                                           ascending=False)"
   ],
   "metadata": {
    "collapsed": false,
    "ExecuteTime": {
     "end_time": "2024-05-17T11:55:10.192479600Z",
     "start_time": "2024-05-17T11:55:09.121860700Z"
    }
   },
   "id": "5e214a0ef6d29bd3",
   "execution_count": 121
  },
  {
   "cell_type": "code",
   "outputs": [
    {
     "name": "stdout",
     "output_type": "stream",
     "text": [
      "              precision    recall  f1-score   support\n",
      "\n",
      "           0       0.81      1.00      0.90      6317\n",
      "           1       0.00      0.00      0.00      1466\n",
      "\n",
      "    accuracy                           0.81      7783\n",
      "   macro avg       0.41      0.50      0.45      7783\n",
      "weighted avg       0.66      0.81      0.73      7783\n",
      "\n",
      "0.5\n",
      "0\n"
     ]
    },
    {
     "name": "stderr",
     "output_type": "stream",
     "text": [
      "C:\\Users\\slava\\PycharmProjects\\MLPerm\\venv\\Lib\\site-packages\\sklearn\\metrics\\_classification.py:1509: UndefinedMetricWarning: Precision is ill-defined and being set to 0.0 in labels with no predicted samples. Use `zero_division` parameter to control this behavior.\n",
      "  _warn_prf(average, modifier, f\"{metric.capitalize()} is\", len(result))\n",
      "C:\\Users\\slava\\PycharmProjects\\MLPerm\\venv\\Lib\\site-packages\\sklearn\\metrics\\_classification.py:1509: UndefinedMetricWarning: Precision is ill-defined and being set to 0.0 in labels with no predicted samples. Use `zero_division` parameter to control this behavior.\n",
      "  _warn_prf(average, modifier, f\"{metric.capitalize()} is\", len(result))\n",
      "C:\\Users\\slava\\PycharmProjects\\MLPerm\\venv\\Lib\\site-packages\\sklearn\\metrics\\_classification.py:1509: UndefinedMetricWarning: Precision is ill-defined and being set to 0.0 in labels with no predicted samples. Use `zero_division` parameter to control this behavior.\n",
      "  _warn_prf(average, modifier, f\"{metric.capitalize()} is\", len(result))\n"
     ]
    }
   ],
   "source": [
    "pred = [0 for i in pred]\n",
    "print(classification_report(test['target90'], pred))\n",
    "print(roc_auc_score(test['target90'], pred))\n",
    "print(mmad_metric(test['target90'], pred))"
   ],
   "metadata": {
    "collapsed": false,
    "ExecuteTime": {
     "end_time": "2024-05-17T11:49:33.367413400Z",
     "start_time": "2024-05-17T11:49:33.331142900Z"
    }
   },
   "id": "756b1dab749f428e",
   "execution_count": 111
  },
  {
   "cell_type": "code",
   "outputs": [],
   "source": [
    "\n",
    "from sklearn.preprocessing import OneHotEncoder\n",
    "cat_features = ['salutation', 'title', 'domain',\n",
    "                           'newsletter', 'model', 'paymenttype', 'deliverytype',\n",
    "                          'voucher', 'advertisingdatacode',\n",
    "                           'case', 'numberitems', 'gift', 'entry',\n",
    "                           'shippingcosts', 'creation_month']\n",
    "encoder = OneHotEncoder(sparse_output=False, handle_unknown='ignore')\n",
    "train_ohe = pd.DataFrame(encoder.fit_transform(train[cat_features]), index=train.index)\n",
    "test_ohe = pd.DataFrame(encoder.transform(test[cat_features]), index=test.index)\n",
    "\n",
    "train_extended = pd.concat([train.drop(columns=cat_features), train_ohe], axis=1).fillna(-10000)\n",
    "test_extended = pd.concat([test.drop(columns=cat_features), test_ohe], axis=1).fillna(-10000)\n",
    "train_extended.columns = train_extended.columns.astype(str)\n",
    "test_extended.columns = test_extended.columns.astype(str)\n"
   ],
   "metadata": {
    "collapsed": false,
    "ExecuteTime": {
     "end_time": "2024-05-19T12:59:14.104875100Z",
     "start_time": "2024-05-19T12:59:13.859993700Z"
    }
   },
   "id": "16e70fe0b6bb2493",
   "execution_count": 43
  },
  {
   "cell_type": "code",
   "outputs": [
    {
     "data": {
      "text/plain": "RandomForestClassifier(class_weight={0: 0.6159690658707008,\n                                     1: 2.6557472945305647})",
      "text/html": "<style>#sk-container-id-5 {\n  /* Definition of color scheme common for light and dark mode */\n  --sklearn-color-text: black;\n  --sklearn-color-line: gray;\n  /* Definition of color scheme for unfitted estimators */\n  --sklearn-color-unfitted-level-0: #fff5e6;\n  --sklearn-color-unfitted-level-1: #f6e4d2;\n  --sklearn-color-unfitted-level-2: #ffe0b3;\n  --sklearn-color-unfitted-level-3: chocolate;\n  /* Definition of color scheme for fitted estimators */\n  --sklearn-color-fitted-level-0: #f0f8ff;\n  --sklearn-color-fitted-level-1: #d4ebff;\n  --sklearn-color-fitted-level-2: #b3dbfd;\n  --sklearn-color-fitted-level-3: cornflowerblue;\n\n  /* Specific color for light theme */\n  --sklearn-color-text-on-default-background: var(--sg-text-color, var(--theme-code-foreground, var(--jp-content-font-color1, black)));\n  --sklearn-color-background: var(--sg-background-color, var(--theme-background, var(--jp-layout-color0, white)));\n  --sklearn-color-border-box: var(--sg-text-color, var(--theme-code-foreground, var(--jp-content-font-color1, black)));\n  --sklearn-color-icon: #696969;\n\n  @media (prefers-color-scheme: dark) {\n    /* Redefinition of color scheme for dark theme */\n    --sklearn-color-text-on-default-background: var(--sg-text-color, var(--theme-code-foreground, var(--jp-content-font-color1, white)));\n    --sklearn-color-background: var(--sg-background-color, var(--theme-background, var(--jp-layout-color0, #111)));\n    --sklearn-color-border-box: var(--sg-text-color, var(--theme-code-foreground, var(--jp-content-font-color1, white)));\n    --sklearn-color-icon: #878787;\n  }\n}\n\n#sk-container-id-5 {\n  color: var(--sklearn-color-text);\n}\n\n#sk-container-id-5 pre {\n  padding: 0;\n}\n\n#sk-container-id-5 input.sk-hidden--visually {\n  border: 0;\n  clip: rect(1px 1px 1px 1px);\n  clip: rect(1px, 1px, 1px, 1px);\n  height: 1px;\n  margin: -1px;\n  overflow: hidden;\n  padding: 0;\n  position: absolute;\n  width: 1px;\n}\n\n#sk-container-id-5 div.sk-dashed-wrapped {\n  border: 1px dashed var(--sklearn-color-line);\n  margin: 0 0.4em 0.5em 0.4em;\n  box-sizing: border-box;\n  padding-bottom: 0.4em;\n  background-color: var(--sklearn-color-background);\n}\n\n#sk-container-id-5 div.sk-container {\n  /* jupyter's `normalize.less` sets `[hidden] { display: none; }`\n     but bootstrap.min.css set `[hidden] { display: none !important; }`\n     so we also need the `!important` here to be able to override the\n     default hidden behavior on the sphinx rendered scikit-learn.org.\n     See: https://github.com/scikit-learn/scikit-learn/issues/21755 */\n  display: inline-block !important;\n  position: relative;\n}\n\n#sk-container-id-5 div.sk-text-repr-fallback {\n  display: none;\n}\n\ndiv.sk-parallel-item,\ndiv.sk-serial,\ndiv.sk-item {\n  /* draw centered vertical line to link estimators */\n  background-image: linear-gradient(var(--sklearn-color-text-on-default-background), var(--sklearn-color-text-on-default-background));\n  background-size: 2px 100%;\n  background-repeat: no-repeat;\n  background-position: center center;\n}\n\n/* Parallel-specific style estimator block */\n\n#sk-container-id-5 div.sk-parallel-item::after {\n  content: \"\";\n  width: 100%;\n  border-bottom: 2px solid var(--sklearn-color-text-on-default-background);\n  flex-grow: 1;\n}\n\n#sk-container-id-5 div.sk-parallel {\n  display: flex;\n  align-items: stretch;\n  justify-content: center;\n  background-color: var(--sklearn-color-background);\n  position: relative;\n}\n\n#sk-container-id-5 div.sk-parallel-item {\n  display: flex;\n  flex-direction: column;\n}\n\n#sk-container-id-5 div.sk-parallel-item:first-child::after {\n  align-self: flex-end;\n  width: 50%;\n}\n\n#sk-container-id-5 div.sk-parallel-item:last-child::after {\n  align-self: flex-start;\n  width: 50%;\n}\n\n#sk-container-id-5 div.sk-parallel-item:only-child::after {\n  width: 0;\n}\n\n/* Serial-specific style estimator block */\n\n#sk-container-id-5 div.sk-serial {\n  display: flex;\n  flex-direction: column;\n  align-items: center;\n  background-color: var(--sklearn-color-background);\n  padding-right: 1em;\n  padding-left: 1em;\n}\n\n\n/* Toggleable style: style used for estimator/Pipeline/ColumnTransformer box that is\nclickable and can be expanded/collapsed.\n- Pipeline and ColumnTransformer use this feature and define the default style\n- Estimators will overwrite some part of the style using the `sk-estimator` class\n*/\n\n/* Pipeline and ColumnTransformer style (default) */\n\n#sk-container-id-5 div.sk-toggleable {\n  /* Default theme specific background. It is overwritten whether we have a\n  specific estimator or a Pipeline/ColumnTransformer */\n  background-color: var(--sklearn-color-background);\n}\n\n/* Toggleable label */\n#sk-container-id-5 label.sk-toggleable__label {\n  cursor: pointer;\n  display: block;\n  width: 100%;\n  margin-bottom: 0;\n  padding: 0.5em;\n  box-sizing: border-box;\n  text-align: center;\n}\n\n#sk-container-id-5 label.sk-toggleable__label-arrow:before {\n  /* Arrow on the left of the label */\n  content: \"▸\";\n  float: left;\n  margin-right: 0.25em;\n  color: var(--sklearn-color-icon);\n}\n\n#sk-container-id-5 label.sk-toggleable__label-arrow:hover:before {\n  color: var(--sklearn-color-text);\n}\n\n/* Toggleable content - dropdown */\n\n#sk-container-id-5 div.sk-toggleable__content {\n  max-height: 0;\n  max-width: 0;\n  overflow: hidden;\n  text-align: left;\n  /* unfitted */\n  background-color: var(--sklearn-color-unfitted-level-0);\n}\n\n#sk-container-id-5 div.sk-toggleable__content.fitted {\n  /* fitted */\n  background-color: var(--sklearn-color-fitted-level-0);\n}\n\n#sk-container-id-5 div.sk-toggleable__content pre {\n  margin: 0.2em;\n  border-radius: 0.25em;\n  color: var(--sklearn-color-text);\n  /* unfitted */\n  background-color: var(--sklearn-color-unfitted-level-0);\n}\n\n#sk-container-id-5 div.sk-toggleable__content.fitted pre {\n  /* unfitted */\n  background-color: var(--sklearn-color-fitted-level-0);\n}\n\n#sk-container-id-5 input.sk-toggleable__control:checked~div.sk-toggleable__content {\n  /* Expand drop-down */\n  max-height: 200px;\n  max-width: 100%;\n  overflow: auto;\n}\n\n#sk-container-id-5 input.sk-toggleable__control:checked~label.sk-toggleable__label-arrow:before {\n  content: \"▾\";\n}\n\n/* Pipeline/ColumnTransformer-specific style */\n\n#sk-container-id-5 div.sk-label input.sk-toggleable__control:checked~label.sk-toggleable__label {\n  color: var(--sklearn-color-text);\n  background-color: var(--sklearn-color-unfitted-level-2);\n}\n\n#sk-container-id-5 div.sk-label.fitted input.sk-toggleable__control:checked~label.sk-toggleable__label {\n  background-color: var(--sklearn-color-fitted-level-2);\n}\n\n/* Estimator-specific style */\n\n/* Colorize estimator box */\n#sk-container-id-5 div.sk-estimator input.sk-toggleable__control:checked~label.sk-toggleable__label {\n  /* unfitted */\n  background-color: var(--sklearn-color-unfitted-level-2);\n}\n\n#sk-container-id-5 div.sk-estimator.fitted input.sk-toggleable__control:checked~label.sk-toggleable__label {\n  /* fitted */\n  background-color: var(--sklearn-color-fitted-level-2);\n}\n\n#sk-container-id-5 div.sk-label label.sk-toggleable__label,\n#sk-container-id-5 div.sk-label label {\n  /* The background is the default theme color */\n  color: var(--sklearn-color-text-on-default-background);\n}\n\n/* On hover, darken the color of the background */\n#sk-container-id-5 div.sk-label:hover label.sk-toggleable__label {\n  color: var(--sklearn-color-text);\n  background-color: var(--sklearn-color-unfitted-level-2);\n}\n\n/* Label box, darken color on hover, fitted */\n#sk-container-id-5 div.sk-label.fitted:hover label.sk-toggleable__label.fitted {\n  color: var(--sklearn-color-text);\n  background-color: var(--sklearn-color-fitted-level-2);\n}\n\n/* Estimator label */\n\n#sk-container-id-5 div.sk-label label {\n  font-family: monospace;\n  font-weight: bold;\n  display: inline-block;\n  line-height: 1.2em;\n}\n\n#sk-container-id-5 div.sk-label-container {\n  text-align: center;\n}\n\n/* Estimator-specific */\n#sk-container-id-5 div.sk-estimator {\n  font-family: monospace;\n  border: 1px dotted var(--sklearn-color-border-box);\n  border-radius: 0.25em;\n  box-sizing: border-box;\n  margin-bottom: 0.5em;\n  /* unfitted */\n  background-color: var(--sklearn-color-unfitted-level-0);\n}\n\n#sk-container-id-5 div.sk-estimator.fitted {\n  /* fitted */\n  background-color: var(--sklearn-color-fitted-level-0);\n}\n\n/* on hover */\n#sk-container-id-5 div.sk-estimator:hover {\n  /* unfitted */\n  background-color: var(--sklearn-color-unfitted-level-2);\n}\n\n#sk-container-id-5 div.sk-estimator.fitted:hover {\n  /* fitted */\n  background-color: var(--sklearn-color-fitted-level-2);\n}\n\n/* Specification for estimator info (e.g. \"i\" and \"?\") */\n\n/* Common style for \"i\" and \"?\" */\n\n.sk-estimator-doc-link,\na:link.sk-estimator-doc-link,\na:visited.sk-estimator-doc-link {\n  float: right;\n  font-size: smaller;\n  line-height: 1em;\n  font-family: monospace;\n  background-color: var(--sklearn-color-background);\n  border-radius: 1em;\n  height: 1em;\n  width: 1em;\n  text-decoration: none !important;\n  margin-left: 1ex;\n  /* unfitted */\n  border: var(--sklearn-color-unfitted-level-1) 1pt solid;\n  color: var(--sklearn-color-unfitted-level-1);\n}\n\n.sk-estimator-doc-link.fitted,\na:link.sk-estimator-doc-link.fitted,\na:visited.sk-estimator-doc-link.fitted {\n  /* fitted */\n  border: var(--sklearn-color-fitted-level-1) 1pt solid;\n  color: var(--sklearn-color-fitted-level-1);\n}\n\n/* On hover */\ndiv.sk-estimator:hover .sk-estimator-doc-link:hover,\n.sk-estimator-doc-link:hover,\ndiv.sk-label-container:hover .sk-estimator-doc-link:hover,\n.sk-estimator-doc-link:hover {\n  /* unfitted */\n  background-color: var(--sklearn-color-unfitted-level-3);\n  color: var(--sklearn-color-background);\n  text-decoration: none;\n}\n\ndiv.sk-estimator.fitted:hover .sk-estimator-doc-link.fitted:hover,\n.sk-estimator-doc-link.fitted:hover,\ndiv.sk-label-container:hover .sk-estimator-doc-link.fitted:hover,\n.sk-estimator-doc-link.fitted:hover {\n  /* fitted */\n  background-color: var(--sklearn-color-fitted-level-3);\n  color: var(--sklearn-color-background);\n  text-decoration: none;\n}\n\n/* Span, style for the box shown on hovering the info icon */\n.sk-estimator-doc-link span {\n  display: none;\n  z-index: 9999;\n  position: relative;\n  font-weight: normal;\n  right: .2ex;\n  padding: .5ex;\n  margin: .5ex;\n  width: min-content;\n  min-width: 20ex;\n  max-width: 50ex;\n  color: var(--sklearn-color-text);\n  box-shadow: 2pt 2pt 4pt #999;\n  /* unfitted */\n  background: var(--sklearn-color-unfitted-level-0);\n  border: .5pt solid var(--sklearn-color-unfitted-level-3);\n}\n\n.sk-estimator-doc-link.fitted span {\n  /* fitted */\n  background: var(--sklearn-color-fitted-level-0);\n  border: var(--sklearn-color-fitted-level-3);\n}\n\n.sk-estimator-doc-link:hover span {\n  display: block;\n}\n\n/* \"?\"-specific style due to the `<a>` HTML tag */\n\n#sk-container-id-5 a.estimator_doc_link {\n  float: right;\n  font-size: 1rem;\n  line-height: 1em;\n  font-family: monospace;\n  background-color: var(--sklearn-color-background);\n  border-radius: 1rem;\n  height: 1rem;\n  width: 1rem;\n  text-decoration: none;\n  /* unfitted */\n  color: var(--sklearn-color-unfitted-level-1);\n  border: var(--sklearn-color-unfitted-level-1) 1pt solid;\n}\n\n#sk-container-id-5 a.estimator_doc_link.fitted {\n  /* fitted */\n  border: var(--sklearn-color-fitted-level-1) 1pt solid;\n  color: var(--sklearn-color-fitted-level-1);\n}\n\n/* On hover */\n#sk-container-id-5 a.estimator_doc_link:hover {\n  /* unfitted */\n  background-color: var(--sklearn-color-unfitted-level-3);\n  color: var(--sklearn-color-background);\n  text-decoration: none;\n}\n\n#sk-container-id-5 a.estimator_doc_link.fitted:hover {\n  /* fitted */\n  background-color: var(--sklearn-color-fitted-level-3);\n}\n</style><div id=\"sk-container-id-5\" class=\"sk-top-container\"><div class=\"sk-text-repr-fallback\"><pre>RandomForestClassifier(class_weight={0: 0.6159690658707008,\n                                     1: 2.6557472945305647})</pre><b>In a Jupyter environment, please rerun this cell to show the HTML representation or trust the notebook. <br />On GitHub, the HTML representation is unable to render, please try loading this page with nbviewer.org.</b></div><div class=\"sk-container\" hidden><div class=\"sk-item\"><div class=\"sk-estimator fitted sk-toggleable\"><input class=\"sk-toggleable__control sk-hidden--visually\" id=\"sk-estimator-id-5\" type=\"checkbox\" checked><label for=\"sk-estimator-id-5\" class=\"sk-toggleable__label fitted sk-toggleable__label-arrow fitted\">&nbsp;&nbsp;RandomForestClassifier<a class=\"sk-estimator-doc-link fitted\" rel=\"noreferrer\" target=\"_blank\" href=\"https://scikit-learn.org/1.4/modules/generated/sklearn.ensemble.RandomForestClassifier.html\">?<span>Documentation for RandomForestClassifier</span></a><span class=\"sk-estimator-doc-link fitted\">i<span>Fitted</span></span></label><div class=\"sk-toggleable__content fitted\"><pre>RandomForestClassifier(class_weight={0: 0.6159690658707008,\n                                     1: 2.6557472945305647})</pre></div> </div></div></div></div>"
     },
     "execution_count": 152,
     "metadata": {},
     "output_type": "execute_result"
    }
   ],
   "source": [
    "from sklearn.ensemble import RandomForestClassifier\n",
    "from sklearn.linear_model import LogisticRegression\n",
    "\n",
    "rfc = LogisticRegression(max_iter=1000, class_weight=class_weights)\n",
    "rfc.fit(train_extended.drop(columns=['target90']), train_extended['target90'])\n"
   ],
   "metadata": {
    "collapsed": false,
    "ExecuteTime": {
     "end_time": "2024-05-17T12:57:14.600193700Z",
     "start_time": "2024-05-17T12:57:02.781233600Z"
    }
   },
   "id": "aca2541a02975f4b",
   "execution_count": 152
  },
  {
   "cell_type": "code",
   "outputs": [
    {
     "name": "stdout",
     "output_type": "stream",
     "text": [
      "              precision    recall  f1-score   support\n",
      "\n",
      "           0       0.81      0.99      0.89      6317\n",
      "           1       0.32      0.02      0.04      1466\n",
      "\n",
      "    accuracy                           0.81      7783\n",
      "   macro avg       0.56      0.51      0.47      7783\n",
      "weighted avg       0.72      0.81      0.73      7783\n",
      "\n",
      "roc 0.5052698374921524\n",
      "mmad -54.5\n"
     ]
    }
   ],
   "source": [
    "from sklearn.metrics import roc_auc_score\n",
    "\n",
    "\n",
    "pred = rfc.predict(test_extended.drop(columns=['target90']))\n",
    "print(classification_report(test['target90'], pred))\n",
    "print('roc',roc_auc_score(test['target90'], pred))\n",
    "print('mmad', mmad_metric(test['target90'], pred))"
   ],
   "metadata": {
    "collapsed": false,
    "ExecuteTime": {
     "end_time": "2024-05-17T12:57:14.817809600Z",
     "start_time": "2024-05-17T12:57:14.585459200Z"
    }
   },
   "id": "bd68c3caa8d2165d",
   "execution_count": 153
  },
  {
   "cell_type": "markdown",
   "source": [
    "# Torch"
   ],
   "metadata": {
    "collapsed": false
   },
   "id": "6dcb88d3e202cb38"
  },
  {
   "cell_type": "code",
   "outputs": [],
   "source": [
    "import torch\n",
    "import torch.nn as nn\n",
    "import torch.optim as optim\n",
    "from torch.utils.data import DataLoader, TensorDataset\n",
    "from sklearn.model_selection import train_test_split\n",
    "from sklearn.preprocessing import StandardScaler\n",
    "device = torch.device('cuda:0' if torch.cuda.is_available() else 'cpu')\n",
    "\n",
    "X_train = train_extended.drop(columns=['target90'])\n",
    "X_test = test_extended.drop(columns=['target90'])\n",
    "y_train = train_extended['target90']\n",
    "y_test = test_extended['target90']\n",
    "\n",
    "\n",
    "# Преобразование данных в тензоры PyTorch\n",
    "X_train = torch.tensor(X_train.values, dtype=torch.float32).to(device)\n",
    "y_train = torch.tensor(y_train.values, dtype=torch.float32).to(device)\n",
    "X_test = torch.tensor(X_test.values, dtype=torch.float32).to(device)\n",
    "y_test = torch.tensor(y_test.values, dtype=torch.float32).to(device)\n",
    "\n",
    "# Создание DataLoader\n",
    "train_loader = DataLoader(TensorDataset(X_train, y_train), batch_size=4096, shuffle=True)\n",
    "test_loader = DataLoader(TensorDataset(X_test, y_test), batch_size=4096, shuffle=False)"
   ],
   "metadata": {
    "collapsed": false,
    "ExecuteTime": {
     "end_time": "2024-05-19T13:46:05.075954900Z",
     "start_time": "2024-05-19T13:46:05.026840900Z"
    }
   },
   "id": "d6821e3d2fcc50fc",
   "execution_count": 161
  },
  {
   "cell_type": "code",
   "outputs": [
    {
     "data": {
      "text/plain": "array([0.61596907, 2.65574729])"
     },
     "execution_count": 130,
     "metadata": {},
     "output_type": "execute_result"
    }
   ],
   "source": [
    "compute_class_weight(class_weight='balanced', classes=classes, y=train['target90'])"
   ],
   "metadata": {
    "collapsed": false,
    "ExecuteTime": {
     "end_time": "2024-05-19T13:38:01.479779Z",
     "start_time": "2024-05-19T13:38:01.458996900Z"
    }
   },
   "id": "8a041bdded821dbe",
   "execution_count": 130
  },
  {
   "cell_type": "code",
   "outputs": [
    {
     "data": {
      "text/plain": "  0%|          | 0/100 [00:00<?, ?it/s]",
      "application/vnd.jupyter.widget-view+json": {
       "version_major": 2,
       "version_minor": 0,
       "model_id": "23ec8ec5783d4fc2ba0154a2c674308c"
      }
     },
     "metadata": {},
     "output_type": "display_data"
    }
   ],
   "source": [
    "from tqdm.notebook import tqdm\n",
    "from torch.nn import functional as F\n",
    "\n",
    "class BinaryClassifier(nn.Module):\n",
    "    def __init__(self, input_dim, hidden_dim, output_dim):\n",
    "        super(BinaryClassifier, self).__init__()\n",
    "        \n",
    "        # Входной слой\n",
    "        self.fc1 = nn.Linear(input_dim, hidden_dim)\n",
    "        \n",
    "        # Скрытый слой\n",
    "        self.fc2 = nn.Linear(hidden_dim, hidden_dim)\n",
    "        \n",
    "        # Выходной слой\n",
    "        self.fc3 = nn.Linear(hidden_dim, output_dim)\n",
    "        \n",
    "        # Функция активации\n",
    "        self.sigmoid = nn.Sigmoid()\n",
    "    \n",
    "    def forward(self, x):\n",
    "        x = F.relu(self.fc1(x))\n",
    "        x = F.relu(self.fc2(x))\n",
    "        x = self.sigmoid(self.fc3(x))\n",
    "        return x\n",
    "\n",
    "# Задаем размеры слоев\n",
    "input_dim = X_train.shape[1]  # Количество признаков в ваших данных\n",
    "hidden_dim = 100  # Можно настроить\n",
    "output_dim = 1\n",
    "\n",
    "# Создаем экземпляр модели\n",
    "model = BinaryClassifier(input_dim, hidden_dim, output_dim).to(device)\n",
    "\n",
    "# Вычисление весов для каждого класса (для несбалансированных классов)\n",
    "weights = compute_class_weight(class_weight='balanced', classes=classes, y=train['target90'])\n",
    "class_weights = torch.tensor(weights, dtype=torch.float32)\n",
    "pos_weight = torch.tensor([40.3]).to(device)\n",
    "# Использование взвешенной функции потерь\n",
    "criterion = nn.BCELoss(weight=pos_weight)\n",
    "optimizer = optim.Adam(model.parameters())\n",
    "\n",
    "# Обучение модели\n",
    "for epoch in tqdm(range(100)):\n",
    "    for inputs, targets in train_loader:\n",
    "        outputs = model(inputs).squeeze()\n",
    "        loss = criterion(outputs, targets)\n",
    "        loss.backward()\n",
    "        optimizer.step()\n",
    "        optimizer.zero_grad()"
   ],
   "metadata": {
    "collapsed": false,
    "ExecuteTime": {
     "end_time": "2024-05-19T13:56:04.015912400Z",
     "start_time": "2024-05-19T13:55:34.795675900Z"
    }
   },
   "id": "7c8e73bd2d3e3f68",
   "execution_count": 168
  },
  {
   "cell_type": "code",
   "outputs": [],
   "source": [
    "def get_preds(loader):\n",
    "    model.eval()  # Переводим модель в режим оценки\n",
    "\n",
    "    predictions = []  # Создаем пустой список для хранения предсказаний\n",
    "    \n",
    "    with torch.no_grad():  # Отключаем вычисление градиентов\n",
    "        for inputs, targets in loader:\n",
    "            inputs = inputs.to(device)\n",
    "            outputs = model(inputs).squeeze()\n",
    "            preds = (outputs > 0.5).float()  # Преобразуем вероятности в бинарные предсказания\n",
    "            predictions.extend(preds.tolist())  # Добавляем предсказания в список\n",
    "            \n",
    "    predictions = np.array(predictions)\n",
    "    return predictions"
   ],
   "metadata": {
    "collapsed": false,
    "ExecuteTime": {
     "end_time": "2024-05-19T13:56:04.698592500Z",
     "start_time": "2024-05-19T13:56:04.684173300Z"
    }
   },
   "id": "8ec8ac167ca7e298",
   "execution_count": 169
  },
  {
   "cell_type": "code",
   "outputs": [],
   "source": [
    "predictions = get_preds(test_loader)\n",
    "\n"
   ],
   "metadata": {
    "collapsed": false,
    "ExecuteTime": {
     "end_time": "2024-05-19T13:56:05.833789500Z",
     "start_time": "2024-05-19T13:56:05.751196300Z"
    }
   },
   "id": "e94aa297dbc3a48d",
   "execution_count": 170
  },
  {
   "cell_type": "code",
   "outputs": [
    {
     "data": {
      "text/plain": "7783"
     },
     "execution_count": 171,
     "metadata": {},
     "output_type": "execute_result"
    }
   ],
   "source": [
    "len(predictions)"
   ],
   "metadata": {
    "collapsed": false,
    "ExecuteTime": {
     "end_time": "2024-05-19T13:56:07.241693500Z",
     "start_time": "2024-05-19T13:56:07.237649400Z"
    }
   },
   "id": "1a6c0638333cb84d",
   "execution_count": 171
  },
  {
   "cell_type": "code",
   "outputs": [
    {
     "name": "stdout",
     "output_type": "stream",
     "text": [
      "-4.5\n",
      "              precision    recall  f1-score   support\n",
      "\n",
      "           0       0.81      0.99      0.89      6317\n",
      "           1       0.24      0.01      0.02      1466\n",
      "\n",
      "    accuracy                           0.81      7783\n",
      "   macro avg       0.53      0.50      0.45      7783\n",
      "weighted avg       0.71      0.81      0.73      7783\n"
     ]
    }
   ],
   "source": [
    "print(mmad_metric(test_extended['target90'], predictions))\n",
    "print(classification_report(test_extended['target90'], predictions))"
   ],
   "metadata": {
    "collapsed": false,
    "ExecuteTime": {
     "end_time": "2024-05-19T13:56:08.011536800Z",
     "start_time": "2024-05-19T13:56:07.992546700Z"
    }
   },
   "id": "15ae0078e41b78dc",
   "execution_count": 172
  },
  {
   "cell_type": "code",
   "outputs": [
    {
     "name": "stdout",
     "output_type": "stream",
     "text": [
      "3.0\n",
      "              precision    recall  f1-score   support\n",
      "\n",
      "           0       0.81      1.00      0.89     14741\n",
      "           1       0.15      0.00      0.01      3419\n",
      "\n",
      "    accuracy                           0.81     18160\n",
      "   macro avg       0.48      0.50      0.45     18160\n",
      "weighted avg       0.69      0.81      0.73     18160\n"
     ]
    }
   ],
   "source": [
    "print(mmad_metric(train_extended['target90'], get_preds(train_loader)\n",
    "))\n",
    "print(classification_report(train_extended['target90'], get_preds(train_loader)\n",
    "))"
   ],
   "metadata": {
    "collapsed": false,
    "ExecuteTime": {
     "end_time": "2024-05-19T13:56:11.711553400Z",
     "start_time": "2024-05-19T13:56:11.039027400Z"
    }
   },
   "id": "5856575bd7b62cf0",
   "execution_count": 173
  }
 ],
 "metadata": {
  "kernelspec": {
   "display_name": "Python 3",
   "language": "python",
   "name": "python3"
  },
  "language_info": {
   "codemirror_mode": {
    "name": "ipython",
    "version": 2
   },
   "file_extension": ".py",
   "mimetype": "text/x-python",
   "name": "python",
   "nbconvert_exporter": "python",
   "pygments_lexer": "ipython2",
   "version": "2.7.6"
  }
 },
 "nbformat": 4,
 "nbformat_minor": 5
}
